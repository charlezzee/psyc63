{
 "cells": [
  {
   "cell_type": "markdown",
   "metadata": {},
   "source": [
    "# Mediation Analysis\n",
    "\n",
    "\n",
    "A mediation analysis is conducted when a researcher is interested in the **mechanism** underlying how X has an effect on Y. It attempts to make a causal inference that an effect of some variable is mediated by the mediating variable.\n",
    "\n",
    "Consider the instance below where X has an effect of $\\beta_1$ on Y:\n",
    "\n",
    "### 1) $Y = \\beta_1 + c \\cdot x $\n",
    "\n",
    "In this model, there may be a third variable **M** which mediates the effect of X on Y. In other words, the variable M is partially responsible for the effect X has on Y. This is described here:\n",
    "\n",
    "￼To conduct a mediation analysis one estimates two additional models: 1) the effect of X on M, and 2) the effect of X and M on Y. \n",
    "\n",
    "### 2) $M = \\beta_2 + a \\cdot X $\n",
    "\n",
    "### 3) $y = \\beta_3 + c' \\cdot X + b \\cdot M $  \n",
    "  \n",
    "  \n",
    "Now the original effect of X on Y, denoted as **C**,can be broken down into two parts:\n",
    "\n",
    "### $c = a \\cdot b + c' $\n",
    "\n",
    "$ a \\cdot b $ is the indirect effect of X on Y via the mediator. \n",
    "$c'$ is the remaining direct effect of X on Y controlling for M.  \n",
    "\n",
    "This relationship is depicted below.\n",
    "\n",
    "<img src=\"Figures/mediation1.png\",width=500,align='center'>"
   ]
  },
  {
   "cell_type": "markdown",
   "metadata": {},
   "source": [
    "## Simulate a mediation\n",
    "\n",
    "In this section we will simulate a mediation.\n",
    "\n",
    "This is a case in which the true effect of X on Y is positive, but appears negative without testing for mediation. "
   ]
  },
  {
   "cell_type": "code",
   "execution_count": 245,
   "metadata": {
    "collapsed": false
   },
   "outputs": [],
   "source": [
    "%matplotlib inline\n",
    "import numpy as np\n",
    "import pandas as pd\n",
    "import matplotlib.pyplot as plt\n",
    "import statsmodels.formula.api as smf\n",
    "import statsmodels.api as sm\n",
    "from scipy import stats\n",
    "\n",
    "def sobel_test(ea,eb,sea,seb):\n",
    "    '''\n",
    "    Sobel test for significance of mediation\n",
    "    Input: \n",
    "    A: coefficient from X to mediator variable, M\n",
    "    B: coefficient from M to Y \n",
    "    seA: Standard error of A\n",
    "    seB: Standard error fo B\n",
    "    Output: \n",
    "    t: Sobel's test statistic\n",
    "    pval : Two-tailed probability assuming normal distribution\n",
    "    '''\n",
    "    SE = np.sqrt( (ea**2)*(sea**2) + (eb**2)*(seb**2))\n",
    "    t = (ea*eb) / SE\n",
    "    n = 100000000\n",
    "    pval = stats.t.sf(np.abs(t), n-1)*2\n",
    "    return t, pval"
   ]
  },
  {
   "cell_type": "code",
   "execution_count": 160,
   "metadata": {
    "collapsed": false
   },
   "outputs": [],
   "source": [
    "# set random seed so everyone gets same results\n",
    "np.random.seed(1)\n",
    "# Determine effects\n",
    "a = -3 # effect of x to M\n",
    "b = 3 # effect of M to y\n",
    "cq = 8 # direct effect of x on y\n",
    "\n",
    "# Create a random data x\n",
    "x = np.random.rand(100) \n",
    "m = x * a + np.random.rand(100)\n",
    "\n",
    "# Create Y\n",
    "y = np.dot(np.array([x,m]).T,[cq,b]) + np.random.rand(100)"
   ]
  },
  {
   "cell_type": "markdown",
   "metadata": {},
   "source": [
    "### 1) Test effect of X on Y"
   ]
  },
  {
   "cell_type": "code",
   "execution_count": 161,
   "metadata": {
    "collapsed": false
   },
   "outputs": [
    {
     "name": "stdout",
     "output_type": "stream",
     "text": [
      "                            OLS Regression Results                            \n",
      "==============================================================================\n",
      "Dep. Variable:                      y   R-squared:                       0.097\n",
      "Model:                            OLS   Adj. R-squared:                  0.088\n",
      "Method:                 Least Squares   F-statistic:                     10.53\n",
      "Date:                Sun, 15 May 2016   Prob (F-statistic):            0.00161\n",
      "Time:                        16:22:18   Log-Likelihood:                -142.55\n",
      "No. Observations:                 100   AIC:                             289.1\n",
      "Df Residuals:                      98   BIC:                             294.3\n",
      "Df Model:                           1                                         \n",
      "Covariance Type:            nonrobust                                         \n",
      "==============================================================================\n",
      "                 coef    std err          t      P>|t|      [95.0% Conf. Int.]\n",
      "------------------------------------------------------------------------------\n",
      "const          2.0678      0.196     10.539      0.000         1.678     2.457\n",
      "x1            -1.1206      0.345     -3.244      0.002        -1.806    -0.435\n",
      "==============================================================================\n",
      "Omnibus:                       22.680   Durbin-Watson:                   1.772\n",
      "Prob(Omnibus):                  0.000   Jarque-Bera (JB):                5.538\n",
      "Skew:                          -0.159   Prob(JB):                       0.0627\n",
      "Kurtosis:                       1.892   Cond. No.                         4.26\n",
      "==============================================================================\n",
      "\n",
      "Warnings:\n",
      "[1] Standard Errors assume that the covariance matrix of the errors is correctly specified.\n"
     ]
    }
   ],
   "source": [
    "X = sm.add_constant(x)\n",
    "lm1 = smf.OLS(y,X).fit()\n",
    "print lm1.summary()\n",
    "ec = lm1.params[1] # save total effect c to ec"
   ]
  },
  {
   "cell_type": "markdown",
   "metadata": {},
   "source": [
    "### 2) Test effect of X on M"
   ]
  },
  {
   "cell_type": "code",
   "execution_count": 194,
   "metadata": {
    "collapsed": false
   },
   "outputs": [
    {
     "name": "stdout",
     "output_type": "stream",
     "text": [
      "                            OLS Regression Results                            \n",
      "==============================================================================\n",
      "Dep. Variable:                      y   R-squared:                       0.888\n",
      "Model:                            OLS   Adj. R-squared:                  0.887\n",
      "Method:                 Least Squares   F-statistic:                     778.6\n",
      "Date:                Sun, 15 May 2016   Prob (F-statistic):           2.01e-48\n",
      "Time:                        16:51:40   Log-Likelihood:                -26.736\n",
      "No. Observations:                 100   AIC:                             57.47\n",
      "Df Residuals:                      98   BIC:                             62.68\n",
      "Df Model:                           1                                         \n",
      "Covariance Type:            nonrobust                                         \n",
      "==============================================================================\n",
      "                 coef    std err          t      P>|t|      [95.0% Conf. Int.]\n",
      "------------------------------------------------------------------------------\n",
      "const          0.4978      0.062      8.078      0.000         0.376     0.620\n",
      "x1            -3.0267      0.108    -27.903      0.000        -3.242    -2.811\n",
      "==============================================================================\n",
      "Omnibus:                       92.818   Durbin-Watson:                   1.766\n",
      "Prob(Omnibus):                  0.000   Jarque-Bera (JB):                8.085\n",
      "Skew:                          -0.030   Prob(JB):                       0.0176\n",
      "Kurtosis:                       1.608   Cond. No.                         4.26\n",
      "==============================================================================\n",
      "\n",
      "Warnings:\n",
      "[1] Standard Errors assume that the covariance matrix of the errors is correctly specified.\n"
     ]
    }
   ],
   "source": [
    "X = sm.add_constant(x)\n",
    "lm2 = smf.OLS(m,X).fit()\n",
    "print lm2.summary()\n",
    "ea = lm2.params[1] # Save the effect of X on M, a, to ea\n",
    "sea = lm2.bse[1]"
   ]
  },
  {
   "cell_type": "markdown",
   "metadata": {},
   "source": [
    "### 3) Test effect of  X and M on Y "
   ]
  },
  {
   "cell_type": "code",
   "execution_count": 197,
   "metadata": {
    "collapsed": false
   },
   "outputs": [
    {
     "name": "stdout",
     "output_type": "stream",
     "text": [
      "                            OLS Regression Results                            \n",
      "==============================================================================\n",
      "Dep. Variable:                      y   R-squared:                       0.932\n",
      "Model:                            OLS   Adj. R-squared:                  0.931\n",
      "Method:                 Least Squares   F-statistic:                     666.5\n",
      "Date:                Sun, 15 May 2016   Prob (F-statistic):           2.11e-57\n",
      "Time:                        16:52:14   Log-Likelihood:                -13.113\n",
      "No. Observations:                 100   AIC:                             32.23\n",
      "Df Residuals:                      97   BIC:                             40.04\n",
      "Df Model:                           2                                         \n",
      "Covariance Type:            nonrobust                                         \n",
      "==============================================================================\n",
      "                 coef    std err          t      P>|t|      [95.0% Conf. Int.]\n",
      "------------------------------------------------------------------------------\n",
      "const          0.5435      0.070      7.790      0.000         0.405     0.682\n",
      "x1             8.1474      0.285     28.632      0.000         7.583     8.712\n",
      "x2             3.0621      0.089     34.559      0.000         2.886     3.238\n",
      "==============================================================================\n",
      "Omnibus:                       12.226   Durbin-Watson:                   2.056\n",
      "Prob(Omnibus):                  0.002   Jarque-Bera (JB):                4.547\n",
      "Skew:                          -0.215   Prob(JB):                        0.103\n",
      "Kurtosis:                       2.048   Cond. No.                         18.0\n",
      "==============================================================================\n",
      "\n",
      "Warnings:\n",
      "[1] Standard Errors assume that the covariance matrix of the errors is correctly specified.\n"
     ]
    }
   ],
   "source": [
    "X = np.array([x,m]).T\n",
    "X = sm.add_constant(X) \n",
    "lm3 = smf.OLS(y,X).fit()\n",
    "print lm3.summary()\n",
    "ecq,eb = lm3.params[1:3]\n",
    "seb = lm3.bse[2]"
   ]
  },
  {
   "cell_type": "markdown",
   "metadata": {},
   "source": [
    "### Show how the effect is broken down to direct and indirect effects\n",
    "### Recall how the overall effect is decomposed\n",
    "### $c = a \\cdot b + c' $"
   ]
  },
  {
   "cell_type": "code",
   "execution_count": 164,
   "metadata": {
    "collapsed": false
   },
   "outputs": [
    {
     "name": "stdout",
     "output_type": "stream",
     "text": [
      "c :  -1.12055253349\n",
      "a :  -3.02671026091\n",
      "b :  3.0620641022\n",
      "c' :  8.14742830421\n"
     ]
    }
   ],
   "source": [
    "print 'c : ', ec\n",
    "print 'a : ', ea\n",
    "print 'b : ', eb\n",
    "print 'c\\' : ', ecq"
   ]
  },
  {
   "cell_type": "code",
   "execution_count": 168,
   "metadata": {
    "collapsed": false
   },
   "outputs": [
    {
     "name": "stdout",
     "output_type": "stream",
     "text": [
      "Total effect C: -1.12055253349\n",
      "is decomposed into the indirect(mediated) effect a*b : -9.2679808377\n",
      "plus the direct effect c' 8.14742830421\n",
      "which adds up to  -1.12055253349\n"
     ]
    }
   ],
   "source": [
    "print 'Total effect C:', ec\n",
    "print 'is decomposed into the indirect(mediated) effect a*b :', ea*eb\n",
    "print 'plus the direct effect c\\'', ecq\n",
    "print 'which adds up to ', ea*eb+ecq"
   ]
  },
  {
   "cell_type": "markdown",
   "metadata": {},
   "source": [
    "# Run a Sobel Test for Significance of Mediation"
   ]
  },
  {
   "cell_type": "code",
   "execution_count": 248,
   "metadata": {
    "collapsed": false
   },
   "outputs": [
    {
     "name": "stdout",
     "output_type": "stream",
     "text": [
      "Sobel's test of significance t = -21.76\n",
      "Two-tailed p-value p = 0.00000 \n"
     ]
    }
   ],
   "source": [
    "t,p = sobel_test(ea,eb,sea,seb)\n",
    "print 'Sobel\\'s test of significance t = %2.2f' %t\n",
    "print 'Two-tailed p-value p = %2.5f ' %p"
   ]
  },
  {
   "cell_type": "markdown",
   "metadata": {},
   "source": [
    "# Moderation Analysis\n",
    "\n",
    "In a moderation analysis, the moderator is a variable that explains the relationship between two other variables, similar to an interaction term. Moderation is slightly different from an interaction due to the additional constraint that there is a causal relationship from X to Y BUT not from Z to Y. Therefore, a moderation implies an interaction exists but an interaction does not imply a moderation. \n",
    "\n",
    "To recap, a mediating variable we just covered is one that influences the strength of X on Y. \n",
    "\n",
    "Here is a schematic representation of a moderation relationship. \n",
    "This diagram hypothesize that Stress has a causal relationship to Depression \n",
    "but the effect of Stress is different for people with high or low Social Support \n",
    "\n",
    "<img src=\"Figures/moderator2.gif\",width=500,align='center'>\n",
    "\n",
    "This can be reprsented by an interaction, \n",
    "\n",
    "\n",
    "\n",
    "<img src=\"Figures/moderator3.jpeg\",width=500,align='center'>\n",
    "\n",
    "\n",
    "Examples have been retrieved from [here](http://www.victoria.ac.nz/psyc/paul-jose-files/helpcentre/help5_moderation_example.php)"
   ]
  },
  {
   "cell_type": "code",
   "execution_count": 292,
   "metadata": {
    "collapsed": false
   },
   "outputs": [],
   "source": [
    "df = {'enjoy':[4,15,1,11,13,19,6,10,15,3,11,20,7,11,10,6,7,18,8,2,7,12,13,15,4,3,9,7,10,2,15,1,3,6,13,15,16,14,1,8],\n",
    "'buy':[16,19,0,19,25,24,22,21,13,7,28,31,4,26,11,12,14,16,20,13,12,23,22,19,12,10,7,22,7,0,16,17,11,5,29,29,20,16,3,8\n",
    "],\n",
    "'read':[6,13,1,13,12,11,7,8,12,4,15,14,7,14,9,5,7,12,10,6,9,13,9,13,9,5,7,8,8,2,7,6,9,9,15,11,9,7,2,10\n",
    "]}\n",
    "df = pd.DataFrame(df)\n",
    "df['int'] = df.read*df.buy\n",
    "df.corr()\n",
    "df['normint'] = ((df.read-np.mean(df.read))/np.std(df.read))*((df.buy-np.mean(df.buy))/np.std(df.buy))"
   ]
  },
  {
   "cell_type": "code",
   "execution_count": 293,
   "metadata": {
    "collapsed": false,
    "scrolled": true
   },
   "outputs": [
    {
     "data": {
      "text/plain": [
       "array([[ 1.        ,  0.91944697],\n",
       "       [ 0.91944697,  1.        ]])"
      ]
     },
     "execution_count": 293,
     "metadata": {},
     "output_type": "execute_result"
    }
   ],
   "source": [
    "np.corrcoef(df.buy,df.int)"
   ]
  },
  {
   "cell_type": "code",
   "execution_count": 294,
   "metadata": {
    "collapsed": false
   },
   "outputs": [
    {
     "data": {
      "text/plain": [
       "array([[ 1.        , -0.07935977],\n",
       "       [-0.07935977,  1.        ]])"
      ]
     },
     "execution_count": 294,
     "metadata": {},
     "output_type": "execute_result"
    }
   ],
   "source": [
    "np.corrcoef(df.buy,df.normint)"
   ]
  },
  {
   "cell_type": "code",
   "execution_count": 299,
   "metadata": {
    "collapsed": false
   },
   "outputs": [
    {
     "name": "stdout",
     "output_type": "stream",
     "text": [
      "                            OLS Regression Results                            \n",
      "==============================================================================\n",
      "Dep. Variable:                  enjoy   R-squared:                       0.559\n",
      "Model:                            OLS   Adj. R-squared:                  0.523\n",
      "Method:                 Least Squares   F-statistic:                     15.23\n",
      "Date:                Sun, 15 May 2016   Prob (F-statistic):           1.47e-06\n",
      "Time:                        18:28:35   Log-Likelihood:                -106.98\n",
      "No. Observations:                  40   AIC:                             222.0\n",
      "Df Residuals:                      36   BIC:                             228.7\n",
      "Df Model:                           3                                         \n",
      "Covariance Type:            nonrobust                                         \n",
      "==============================================================================\n",
      "                 coef    std err          t      P>|t|      [95.0% Conf. Int.]\n",
      "------------------------------------------------------------------------------\n",
      "Intercept     -0.3201      1.682     -0.190      0.850        -3.730     3.090\n",
      "buy            0.1454      0.109      1.332      0.191        -0.076     0.367\n",
      "read           0.8427      0.251      3.352      0.002         0.333     1.353\n",
      "normint       -0.1988      0.499     -0.399      0.693        -1.211     0.813\n",
      "==============================================================================\n",
      "Omnibus:                        1.542   Durbin-Watson:                   1.969\n",
      "Prob(Omnibus):                  0.463   Jarque-Bera (JB):                1.318\n",
      "Skew:                           0.278   Prob(JB):                        0.517\n",
      "Kurtosis:                       2.306   Cond. No.                         57.8\n",
      "==============================================================================\n",
      "\n",
      "Warnings:\n",
      "[1] Standard Errors assume that the covariance matrix of the errors is correctly specified.\n"
     ]
    }
   ],
   "source": [
    "mod = smf.ols(formula = \"enjoy ~ buy + read + normint\", data = df).fit()\n",
    "print mod.summary()"
   ]
  },
  {
   "cell_type": "markdown",
   "metadata": {},
   "source": [
    "Another example with a significant moderator"
   ]
  },
  {
   "cell_type": "code",
   "execution_count": 334,
   "metadata": {
    "collapsed": false
   },
   "outputs": [
    {
     "name": "stdout",
     "output_type": "stream",
     "text": [
      "                            OLS Regression Results                            \n",
      "==============================================================================\n",
      "Dep. Variable:                 salary   R-squared:                       0.360\n",
      "Model:                            OLS   Adj. R-squared:                  0.200\n",
      "Method:                 Least Squares   F-statistic:                     2.248\n",
      "Date:                Sun, 15 May 2016   Prob (F-statistic):             0.0198\n",
      "Time:                        18:48:53   Log-Likelihood:                -712.13\n",
      "No. Observations:                  66   AIC:                             1452.\n",
      "Df Residuals:                      52   BIC:                             1483.\n",
      "Df Model:                          13                                         \n",
      "Covariance Type:            nonrobust                                         \n",
      "============================================================================================\n",
      "                               coef    std err          t      P>|t|      [95.0% Conf. Int.]\n",
      "--------------------------------------------------------------------------------------------\n",
      "Intercept                 5.587e+04   7523.006      7.427      0.000      4.08e+04   7.1e+04\n",
      "departm[T.chem]          -1.923e+04   1.26e+04     -1.530      0.132     -4.45e+04  5992.727\n",
      "departm[T.geol]           -1.19e+04   2.23e+04     -0.534      0.596     -5.66e+04  3.28e+04\n",
      "departm[T.math]           1733.9736   1.42e+04      0.122      0.903     -2.68e+04  3.03e+04\n",
      "departm[T.neuro]          2.176e+04   1.43e+04      1.519      0.135     -6984.453  5.05e+04\n",
      "departm[T.physics]        2.959e+04   1.43e+04      2.075      0.043       976.457  5.82e+04\n",
      "departm[T.stat]           4833.3974   1.15e+04      0.422      0.675     -1.82e+04  2.78e+04\n",
      "years                      526.0197    424.500      1.239      0.221      -325.801  1377.840\n",
      "departm[T.chem]:years      873.4301    598.667      1.459      0.151      -327.883  2074.744\n",
      "departm[T.geol]:years     2084.9533   2697.278      0.773      0.443     -3327.531  7497.437\n",
      "departm[T.math]:years       66.9550   1000.542      0.067      0.947     -1940.780  2074.690\n",
      "departm[T.neuro]:years    -375.1443    999.597     -0.375      0.709     -2380.982  1630.693\n",
      "departm[T.physics]:years -1546.7073    778.557     -1.987      0.052     -3108.996    15.582\n",
      "departm[T.stat]:years      -57.8015    606.462     -0.095      0.924     -1274.756  1159.153\n",
      "==============================================================================\n",
      "Omnibus:                       11.047   Durbin-Watson:                   1.167\n",
      "Prob(Omnibus):                  0.004   Jarque-Bera (JB):               11.072\n",
      "Skew:                           0.907   Prob(JB):                      0.00394\n",
      "Kurtosis:                       3.856   Cond. No.                         298.\n",
      "==============================================================================\n",
      "\n",
      "Warnings:\n",
      "[1] Standard Errors assume that the covariance matrix of the errors is correctly specified.\n"
     ]
    }
   ],
   "source": [
    "df = pd.read_csv('../Data/salary.csv')\n",
    "df = df.loc[df.gender==0]\n",
    "df['dept_num'] = df.departm.map({'bio':0, 'chem':1,'geol':2,'neuro':3,'stat':4,'physics':5,'math':6})\n",
    "lm = smf.ols(formula = \"salary ~ years + departm + departm * years\",data=df).fit()\n",
    "print lm.summary()"
   ]
  },
  {
   "cell_type": "markdown",
   "metadata": {},
   "source": [
    "# Exercises\n",
    "\n",
    "The following exercises are derived from Affective Events Theory (Weiss & Cropanzano, 1996).\n",
    "\n",
    "1. Receiving a nasty email from a coworker leads to feelings of anger which reduce overall job satisfaction.\n",
    "\n",
    "Does this describe mediation of moderation?\n",
    "\n",
    "2. Access to free treats during break creates positive emotional responses for workers except for those who have high negative affect (i.e., who are perpetually grumpy).\n",
    "\n",
    "Does this describe mediation or moderation?"
   ]
  },
  {
   "cell_type": "code",
   "execution_count": null,
   "metadata": {
    "collapsed": true
   },
   "outputs": [],
   "source": []
  }
 ],
 "metadata": {
  "kernelspec": {
   "display_name": "Python 2",
   "language": "python",
   "name": "python2"
  },
  "language_info": {
   "codemirror_mode": {
    "name": "ipython",
    "version": 2
   },
   "file_extension": ".py",
   "mimetype": "text/x-python",
   "name": "python",
   "nbconvert_exporter": "python",
   "pygments_lexer": "ipython2",
   "version": "2.7.11"
  }
 },
 "nbformat": 4,
 "nbformat_minor": 0
}
