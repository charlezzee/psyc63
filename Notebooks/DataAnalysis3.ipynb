{
 "cells": [
  {
   "cell_type": "markdown",
   "metadata": {},
   "source": [
    "# Mediation Analysis\n",
    "Written by Jin Cheong & Luke Chang\n",
    "\n",
    "A mediation analysis is conducted when a researcher is interested in the **mechanism** underlying how variable X has an effect on variable Y. It attempts to make a causal inference that a direct effect might be better explained by an indirect effect through a mediating variable.  \n",
    "\n",
    "Consider the instance below where X has an effect **c** on Y:\n",
    "\n",
    "### 1) $Y = \\beta_1 + c \\cdot X $\n",
    "\n",
    "In this model, there may be a third variable **M** which mediates the effect of X on Y. In other words, the variable M is partially responsible for the effect X has on Y.\n",
    "\n",
    "￼To conduct a mediation analysis one estimates two additional models: 1) the effect of X on M, and 2) the effect of X *and* M on Y. \n",
    "\n",
    "### 2) $M = \\beta_2 + a \\cdot X $\n",
    "\n",
    "### 3) $Y = \\beta_3 + c' \\cdot X + b \\cdot M $  \n",
    "  \n",
    "  \n",
    "Now the direct effect of X on Y, denoted as **C**,can be broken down into two parts:\n",
    "\n",
    "### $c = a \\cdot b + c' $\n",
    "\n",
    "$ a \\cdot b $ is the indirect effect of X on Y via the mediator. \n",
    "$c'$ is the remaining direct effect of X on Y controlling for M.  \n",
    "\n",
    "This relationship is depicted below.  Note that M and Y both also have error included in the model.\n",
    "\n",
    "***Question*** Why does X not have error included in the model?\n",
    "\n",
    "***Answer*** Because X is only a regressor not an outcome variable in the models and standard regression does not estimate error on regressors.  See [orthogonal regression](http://davegiles.blogspot.com/2014/11/orthogonal-regression-first-steps.html) for a technique that models error on both X and Y.\n",
    "\n",
    "<img src=\"Figures/mediation1.png\",width=500,align='center'>\n",
    "\n",
    "\n",
    "### Here are a few examples of mediations. Can you think of more?\n",
    "\n",
    "1) The effect of failure on depressed feelings is mediated by internalization of failure. \n",
    "\n",
    "2) Reward conditioning is mediated by attention. \n",
    "\n",
    "3) Effect of treatment is mediated by mindfulness. \n",
    "\n",
    "4) Effect of food intake on weight gain is mediated by metabolism.\n",
    "\n",
    "#### For more information there is a nice [tutorial](http://davidakenny.net/cm/mediate.htm) on mediation by David Kenny, one of the author's of the original mediation paper."
   ]
  },
  {
   "cell_type": "markdown",
   "metadata": {},
   "source": [
    "## Simulate a mediation\n",
    "\n",
    "In this section we will simulate a mediation.\n",
    "\n",
    "This is a case in which the true effect of X on Y is positive, but appears negative without testing for mediation. "
   ]
  },
  {
   "cell_type": "code",
   "execution_count": 1,
   "metadata": {
    "collapsed": false
   },
   "outputs": [],
   "source": [
    "%matplotlib inline\n",
    "import numpy as np\n",
    "import pandas as pd\n",
    "import matplotlib.pyplot as plt\n",
    "import statsmodels.formula.api as smf\n",
    "import statsmodels.api as sm\n",
    "from scipy import stats\n",
    "\n",
    "def sobel_test(a, b, se_a, se_b):\n",
    "    '''\n",
    "    Sobel test for significance of mediation\n",
    "    Input: \n",
    "    a: coefficient from X to mediator variable, M\n",
    "    b: coefficient from M to Y \n",
    "    se_a: Standard error of A\n",
    "    se_b: Standard error fo B\n",
    "    Returns: \n",
    "    t: Sobel's test statistic\n",
    "    pval : Two-tailed probability assuming normal distribution\n",
    "    '''\n",
    "    SE = np.sqrt( (a**2)*(se_a**2) + (b**2)*(se_b**2))\n",
    "    t = (a*b) / SE\n",
    "    n = 100000000\n",
    "    pval = stats.t.sf(np.abs(t), n-1)*2\n",
    "    return t, pval"
   ]
  },
  {
   "cell_type": "code",
   "execution_count": 2,
   "metadata": {
    "collapsed": false
   },
   "outputs": [],
   "source": [
    "# set random seed so everyone gets same results\n",
    "np.random.seed(1)\n",
    "# Determine effects\n",
    "a = -3 # effect of x to M\n",
    "b = 3 # effect of M to y\n",
    "cq = .1 #  effect of x on y controlling for M\n",
    "\n",
    "# Create a random data x\n",
    "x = np.random.rand(100) \n",
    "m = x * a + np.random.rand(100)\n",
    "\n",
    "# Create Y\n",
    "y = np.dot(np.array([x,m]).T,[cq,b]) + np.random.rand(100)"
   ]
  },
  {
   "cell_type": "code",
   "execution_count": 3,
   "metadata": {
    "collapsed": false
   },
   "outputs": [
    {
     "data": {
      "text/plain": [
       "<matplotlib.collections.PathCollection at 0x1190cb8d0>"
      ]
     },
     "execution_count": 3,
     "metadata": {},
     "output_type": "execute_result"
    },
    {
     "data": {
      "image/png": "[encoded data removed]",
      "text/plain": [
       "<matplotlib.figure.Figure at 0x106435090>"
      ]
     },
     "metadata": {},
     "output_type": "display_data"
    }
   ],
   "source": [
    "plt.scatter(x,y)"
   ]
  },
  {
   "cell_type": "code",
   "execution_count": 16,
   "metadata": {
    "collapsed": false
   },
   "outputs": [
    {
     "data": {
      "text/plain": [
       "<matplotlib.collections.PathCollection at 0x119972a90>"
      ]
     },
     "execution_count": 16,
     "metadata": {},
     "output_type": "execute_result"
    },
    {
     "data": {
      "image/png": "[encoded data removed]",
      "text/plain": [
       "<matplotlib.figure.Figure at 0x1197a4990>"
      ]
     },
     "metadata": {},
     "output_type": "display_data"
    }
   ],
   "source": [
    "plt.scatter(m,x)"
   ]
  },
  {
   "cell_type": "code",
   "execution_count": 15,
   "metadata": {
    "collapsed": false
   },
   "outputs": [
    {
     "data": {
      "text/plain": [
       "<matplotlib.collections.PathCollection at 0x1198208d0>"
      ]
     },
     "execution_count": 15,
     "metadata": {},
     "output_type": "execute_result"
    },
    {
     "data": {
      "image/png": "[encoded data removed]",
      "text/plain": [
       "<matplotlib.figure.Figure at 0x1197a4a10>"
      ]
     },
     "metadata": {},
     "output_type": "display_data"
    }
   ],
   "source": [
    "plt.scatter(y,m)"
   ]
  },
  {
   "cell_type": "markdown",
   "metadata": {},
   "source": [
    "### 1) Test effect of X on Y"
   ]
  },
  {
   "cell_type": "code",
   "execution_count": 4,
   "metadata": {
    "collapsed": false
   },
   "outputs": [
    {
     "name": "stdout",
     "output_type": "stream",
     "text": [
      "                            OLS Regression Results                            \n",
      "==============================================================================\n",
      "Dep. Variable:                      y   R-squared:                       0.874\n",
      "Model:                            OLS   Adj. R-squared:                  0.873\n",
      "Method:                 Least Squares   F-statistic:                     682.1\n",
      "Date:                Mon, 16 May 2016   Prob (F-statistic):           6.13e-46\n",
      "Time:                        10:26:04   Log-Likelihood:                -142.55\n",
      "No. Observations:                 100   AIC:                             289.1\n",
      "Df Residuals:                      98   BIC:                             294.3\n",
      "Df Model:                           1                                         \n",
      "Covariance Type:            nonrobust                                         \n",
      "==============================================================================\n",
      "                 coef    std err          t      P>|t|      [95.0% Conf. Int.]\n",
      "------------------------------------------------------------------------------\n",
      "const          2.0678      0.196     10.539      0.000         1.678     2.457\n",
      "x1            -9.0206      0.345    -26.118      0.000        -9.706    -8.335\n",
      "==============================================================================\n",
      "Omnibus:                       22.680   Durbin-Watson:                   1.772\n",
      "Prob(Omnibus):                  0.000   Jarque-Bera (JB):                5.538\n",
      "Skew:                          -0.159   Prob(JB):                       0.0627\n",
      "Kurtosis:                       1.892   Cond. No.                         4.26\n",
      "==============================================================================\n",
      "\n",
      "Warnings:\n",
      "[1] Standard Errors assume that the covariance matrix of the errors is correctly specified.\n"
     ]
    }
   ],
   "source": [
    "X = sm.add_constant(x)\n",
    "lm1 = smf.OLS(y,X).fit()\n",
    "print lm1.summary()\n",
    "ec = lm1.params[1] # save total effect c to ec"
   ]
  },
  {
   "cell_type": "markdown",
   "metadata": {},
   "source": [
    "### 2) Test effect of X on M"
   ]
  },
  {
   "cell_type": "code",
   "execution_count": 5,
   "metadata": {
    "collapsed": false
   },
   "outputs": [
    {
     "name": "stdout",
     "output_type": "stream",
     "text": [
      "                            OLS Regression Results                            \n",
      "==============================================================================\n",
      "Dep. Variable:                      y   R-squared:                       0.888\n",
      "Model:                            OLS   Adj. R-squared:                  0.887\n",
      "Method:                 Least Squares   F-statistic:                     778.6\n",
      "Date:                Mon, 16 May 2016   Prob (F-statistic):           2.01e-48\n",
      "Time:                        10:26:04   Log-Likelihood:                -26.736\n",
      "No. Observations:                 100   AIC:                             57.47\n",
      "Df Residuals:                      98   BIC:                             62.68\n",
      "Df Model:                           1                                         \n",
      "Covariance Type:            nonrobust                                         \n",
      "==============================================================================\n",
      "                 coef    std err          t      P>|t|      [95.0% Conf. Int.]\n",
      "------------------------------------------------------------------------------\n",
      "const          0.4978      0.062      8.078      0.000         0.376     0.620\n",
      "x1            -3.0267      0.108    -27.903      0.000        -3.242    -2.811\n",
      "==============================================================================\n",
      "Omnibus:                       92.818   Durbin-Watson:                   1.766\n",
      "Prob(Omnibus):                  0.000   Jarque-Bera (JB):                8.085\n",
      "Skew:                          -0.030   Prob(JB):                       0.0176\n",
      "Kurtosis:                       1.608   Cond. No.                         4.26\n",
      "==============================================================================\n",
      "\n",
      "Warnings:\n",
      "[1] Standard Errors assume that the covariance matrix of the errors is correctly specified.\n"
     ]
    }
   ],
   "source": [
    "X = sm.add_constant(x)\n",
    "lm2 = smf.OLS(m,X).fit()\n",
    "print lm2.summary()\n",
    "ea = lm2.params[1] # Save the effect of X on M, a, to ea\n",
    "sea = lm2.bse[1]"
   ]
  },
  {
   "cell_type": "markdown",
   "metadata": {},
   "source": [
    "### 3) Test effect of  X and M on Y "
   ]
  },
  {
   "cell_type": "code",
   "execution_count": 6,
   "metadata": {
    "collapsed": false
   },
   "outputs": [
    {
     "name": "stdout",
     "output_type": "stream",
     "text": [
      "                            OLS Regression Results                            \n",
      "==============================================================================\n",
      "Dep. Variable:                      y   R-squared:                       0.991\n",
      "Model:                            OLS   Adj. R-squared:                  0.990\n",
      "Method:                 Least Squares   F-statistic:                     5091.\n",
      "Date:                Mon, 16 May 2016   Prob (F-statistic):           5.98e-99\n",
      "Time:                        10:26:04   Log-Likelihood:                -13.113\n",
      "No. Observations:                 100   AIC:                             32.23\n",
      "Df Residuals:                      97   BIC:                             40.04\n",
      "Df Model:                           2                                         \n",
      "Covariance Type:            nonrobust                                         \n",
      "==============================================================================\n",
      "                 coef    std err          t      P>|t|      [95.0% Conf. Int.]\n",
      "------------------------------------------------------------------------------\n",
      "const          0.5435      0.070      7.790      0.000         0.405     0.682\n",
      "x1             0.2474      0.285      0.870      0.387        -0.317     0.812\n",
      "x2             3.0621      0.089     34.559      0.000         2.886     3.238\n",
      "==============================================================================\n",
      "Omnibus:                       12.226   Durbin-Watson:                   2.056\n",
      "Prob(Omnibus):                  0.002   Jarque-Bera (JB):                4.547\n",
      "Skew:                          -0.215   Prob(JB):                        0.103\n",
      "Kurtosis:                       2.048   Cond. No.                         18.0\n",
      "==============================================================================\n",
      "\n",
      "Warnings:\n",
      "[1] Standard Errors assume that the covariance matrix of the errors is correctly specified.\n"
     ]
    }
   ],
   "source": [
    "X = np.array([x,m]).T\n",
    "X = sm.add_constant(X) \n",
    "lm3 = smf.OLS(y,X).fit()\n",
    "print lm3.summary()\n",
    "ecq,eb = lm3.params[1:3]\n",
    "seb = lm3.bse[2]"
   ]
  },
  {
   "cell_type": "markdown",
   "metadata": {},
   "source": [
    "### Show how the effect is broken down to direct and indirect effects\n",
    "Recall how the overall effect C was decomposed to indirect effect (a*b) and direct effect (c')\n",
    "### $c = a \\cdot b + c' $"
   ]
  },
  {
   "cell_type": "code",
   "execution_count": 7,
   "metadata": {
    "collapsed": false
   },
   "outputs": [
    {
     "name": "stdout",
     "output_type": "stream",
     "text": [
      "c :  -9.02055253349\n",
      "a :  -3.02671026091\n",
      "b :  3.0620641022\n",
      "c' :  0.247428304212\n"
     ]
    }
   ],
   "source": [
    "print 'c : ', ec\n",
    "print 'a : ', ea\n",
    "print 'b : ', eb\n",
    "print 'c\\' : ', ecq"
   ]
  },
  {
   "cell_type": "code",
   "execution_count": 8,
   "metadata": {
    "collapsed": false
   },
   "outputs": [
    {
     "name": "stdout",
     "output_type": "stream",
     "text": [
      "Total effect C: -9.02055253349\n",
      "is decomposed into the indirect(mediated) effect a*b : -9.2679808377\n",
      "plus the direct effect c' 0.247428304212\n",
      "which adds up to  -9.02055253349\n"
     ]
    }
   ],
   "source": [
    "print 'Total effect C:', ec\n",
    "print 'is decomposed into the indirect(mediated) effect a*b :', ea*eb\n",
    "print 'plus the direct effect c\\'', ecq\n",
    "print 'which adds up to ', ea*eb+ecq"
   ]
  },
  {
   "cell_type": "markdown",
   "metadata": {},
   "source": [
    "## Run a Sobel Test for Significance of Mediation\n",
    "\n",
    "One way to test the signifiance of a mediation is to perform a Sobel test, where the indirect effect(a*b) is divided by an esitmated standard error of the two. This assumes that the product would be normally distributed which may not always be the case. \n",
    "\n",
    "An alternative method is to bootstrap with replacement on the observed data to generate a 95% confidence interval. You can try this by writing a for-loop that resamples from the data and generate a distribution of the indirect effects(a*b). If the confidence interval does not include 0, it can be considered as significant. "
   ]
  },
  {
   "cell_type": "code",
   "execution_count": 17,
   "metadata": {
    "collapsed": false
   },
   "outputs": [
    {
     "name": "stdout",
     "output_type": "stream",
     "text": [
      "Sobel's test of significance t = -21.76\n",
      "Two-tailed p-value p = 0.00000 \n"
     ]
    }
   ],
   "source": [
    "t,p = sobel_test(ea,eb,sea,seb)\n",
    "print 'Sobel\\'s test of significance t = %2.2f' %t\n",
    "print 'Two-tailed p-value p = %2.5f ' %p"
   ]
  },
  {
   "cell_type": "markdown",
   "metadata": {},
   "source": [
    "# Moderation Analysis\n",
    "\n",
    "In a moderation analysis, the moderator is a variable that explains the relationship between two other variables, similar to an interaction term. Moderation is slightly different from an interaction due to the additional constraint that there is a causal relationship from X to Y BUT not from Z to Y. Therefore, a moderation implies an interaction exists but an interaction does not imply a moderation. \n",
    "\n",
    "To recap, a mediating variable we just covered is one that influences the strength of X on Y. \n",
    "\n",
    "Here is a schematic representation of a moderation relationship. \n",
    "This diagram hypothesize that Stress has a causal relationship to Depression \n",
    "but the effect of Stress is different for people with high or low Social Support \n",
    "\n",
    "<img src=\"Figures/moderator2.gif\",width=500,align='center'>\n",
    "\n",
    "This can be reprsented by an interaction, \n",
    "\n",
    "\n",
    "\n",
    "<img src=\"Figures/moderator3.jpeg\",width=500,align='center'>\n",
    "\n",
    "\n",
    "The pictures have been retrieved from [here](http://www.victoria.ac.nz/psyc/paul-jose-files/helpcentre/help5_moderation_example.php)\n",
    "\n",
    "### Here are a few examples of moderations. Can you think of more?\n",
    "\n",
    "1) The effect of compliments on future grades is moderated by growth mindset [(Carol Dweck)](http://mindsetonline.com/)\n",
    "\n",
    "2) Effect of alcohol on emotion is moderated by mood.    \n",
    "\n",
    "3) Effect of pressure on performance is moderated by confidence (chocking vs boosting). \n",
    "\n",
    "### For more information look at [homepage of Kenny](http://davidakenny.net/cm/moderation.htm) who started all this. "
   ]
  },
  {
   "cell_type": "markdown",
   "metadata": {},
   "source": [
    "## Example \n",
    "Here we examine whether the effect of buying books(**buy**) on enjoyment of reading(**enjoy**) is moderated by frequency of reading(**read**).\n",
    "\n",
    "The moderation effect exists if there is an interaction of buying and reading on enjoyment."
   ]
  },
  {
   "cell_type": "code",
   "execution_count": 10,
   "metadata": {
    "collapsed": false
   },
   "outputs": [],
   "source": [
    "df = {'enjoy':[4,15,1,11,13,19,6,10,15,3,11,20,7,11,10,6,7,18,8,2,7,12,13,15,4,3,9,7,10,2,15,1,3,6,13,15,16,14,1,8],\n",
    "'buy':[16,19,0,19,25,24,22,21,13,7,28,31,4,26,11,12,14,16,20,13,12,23,22,19,12,10,7,22,7,0,16,17,11,5,29,29,20,16,3,8\n",
    "],\n",
    "'read':[6,13,1,13,12,11,7,8,12,4,15,14,7,14,9,5,7,12,10,6,9,13,9,13,9,5,7,8,8,2,7,6,9,9,15,11,9,7,2,10\n",
    "]}\n",
    "df = pd.DataFrame(df)"
   ]
  },
  {
   "cell_type": "markdown",
   "metadata": {},
   "source": [
    "# Importance of centering variables for interaction\n",
    "The interaction effect can be **VERY** different if you don't center your variables"
   ]
  },
  {
   "cell_type": "code",
   "execution_count": 11,
   "metadata": {
    "collapsed": false
   },
   "outputs": [
    {
     "data": {
      "text/plain": [
       "array([[ 1.        ,  0.91944697],\n",
       "       [ 0.91944697,  1.        ]])"
      ]
     },
     "execution_count": 11,
     "metadata": {},
     "output_type": "execute_result"
    }
   ],
   "source": [
    "df['inter'] = df.read*df.buy\n",
    "np.corrcoef(df.buy,df.inter)"
   ]
  },
  {
   "cell_type": "code",
   "execution_count": 18,
   "metadata": {
    "collapsed": false
   },
   "outputs": [
    {
     "data": {
      "text/plain": [
       "<matplotlib.collections.PathCollection at 0x119d22b90>"
      ]
     },
     "execution_count": 18,
     "metadata": {},
     "output_type": "execute_result"
    },
    {
     "data": {
      "image/png": "[encoded data removed]",
      "text/plain": [
       "<matplotlib.figure.Figure at 0x11979cad0>"
      ]
     },
     "metadata": {},
     "output_type": "display_data"
    }
   ],
   "source": [
    "plt.scatter(df.buy,df.inter)"
   ]
  },
  {
   "cell_type": "code",
   "execution_count": 12,
   "metadata": {
    "collapsed": false
   },
   "outputs": [
    {
     "data": {
      "text/plain": [
       "array([[ 1.        , -0.07935977],\n",
       "       [-0.07935977,  1.        ]])"
      ]
     },
     "execution_count": 12,
     "metadata": {},
     "output_type": "execute_result"
    }
   ],
   "source": [
    "df['normint'] = ((df.read-np.mean(df.read))/np.std(df.read))*((df.buy-np.mean(df.buy))/np.std(df.buy))\n",
    "np.corrcoef(df.buy,df.normint)"
   ]
  },
  {
   "cell_type": "code",
   "execution_count": 19,
   "metadata": {
    "collapsed": false
   },
   "outputs": [
    {
     "data": {
      "text/plain": [
       "<matplotlib.collections.PathCollection at 0x119e75d10>"
      ]
     },
     "execution_count": 19,
     "metadata": {},
     "output_type": "execute_result"
    },
    {
     "data": {
      "image/png": "[encoded data removed]",
      "text/plain": [
       "<matplotlib.figure.Figure at 0x119ddd3d0>"
      ]
     },
     "metadata": {},
     "output_type": "display_data"
    }
   ],
   "source": [
    "plt.scatter(df.buy,df.normint)"
   ]
  },
  {
   "cell_type": "code",
   "execution_count": 13,
   "metadata": {
    "collapsed": false
   },
   "outputs": [
    {
     "name": "stdout",
     "output_type": "stream",
     "text": [
      "                            OLS Regression Results                            \n",
      "==============================================================================\n",
      "Dep. Variable:                  enjoy   R-squared:                       0.559\n",
      "Model:                            OLS   Adj. R-squared:                  0.523\n",
      "Method:                 Least Squares   F-statistic:                     15.23\n",
      "Date:                Mon, 16 May 2016   Prob (F-statistic):           1.47e-06\n",
      "Time:                        10:26:05   Log-Likelihood:                -106.98\n",
      "No. Observations:                  40   AIC:                             222.0\n",
      "Df Residuals:                      36   BIC:                             228.7\n",
      "Df Model:                           3                                         \n",
      "Covariance Type:            nonrobust                                         \n",
      "==============================================================================\n",
      "                 coef    std err          t      P>|t|      [95.0% Conf. Int.]\n",
      "------------------------------------------------------------------------------\n",
      "Intercept     -0.3201      1.682     -0.190      0.850        -3.730     3.090\n",
      "buy            0.1454      0.109      1.332      0.191        -0.076     0.367\n",
      "read           0.8427      0.251      3.352      0.002         0.333     1.353\n",
      "normint       -0.1988      0.499     -0.399      0.693        -1.211     0.813\n",
      "==============================================================================\n",
      "Omnibus:                        1.542   Durbin-Watson:                   1.969\n",
      "Prob(Omnibus):                  0.463   Jarque-Bera (JB):                1.318\n",
      "Skew:                           0.278   Prob(JB):                        0.517\n",
      "Kurtosis:                       2.306   Cond. No.                         57.8\n",
      "==============================================================================\n",
      "\n",
      "Warnings:\n",
      "[1] Standard Errors assume that the covariance matrix of the errors is correctly specified.\n"
     ]
    }
   ],
   "source": [
    "mod = smf.ols(formula = \"enjoy ~ buy + read + normint\", data = df).fit()\n",
    "print mod.summary()"
   ]
  },
  {
   "cell_type": "markdown",
   "metadata": {},
   "source": [
    "# Exercises\n",
    "\n",
    "1) Think about mediating or moderating variables that may be present in your data. \n",
    "\n",
    "\n",
    "2) What are the underlying assumptions of mediation or moderation? How might they be violated in average research settings? \n"
   ]
  },
  {
   "cell_type": "code",
   "execution_count": null,
   "metadata": {
    "collapsed": true
   },
   "outputs": [],
   "source": []
  },
  {
   "cell_type": "code",
   "execution_count": null,
   "metadata": {
    "collapsed": true
   },
   "outputs": [],
   "source": []
  }
 ],
 "metadata": {
  "kernelspec": {
   "display_name": "Python 2",
   "language": "python",
   "name": "python2"
  },
  "language_info": {
   "codemirror_mode": {
    "name": "ipython",
    "version": 2
   },
   "file_extension": ".py",
   "mimetype": "text/x-python",
   "name": "python",
   "nbconvert_exporter": "python",
   "pygments_lexer": "ipython2",
   "version": "2.7.11"
  }
 },
 "nbformat": 4,
 "nbformat_minor": 0
}
