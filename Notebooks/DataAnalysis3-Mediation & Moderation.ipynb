{
 "cells": [
  {
   "cell_type": "markdown",
   "metadata": {
    "deletable": true,
    "editable": true
   },
   "source": [
    "# Mediation Analysis\n",
    "Written by Jin Cheong & Luke Chang\n",
    "\n",
    "A mediation analysis is conducted when a researcher is interested in the **mechanism** underlying how variable X has an effect on variable Y. It attempts to make a causal inference that a direct effect might be better explained by an indirect effect through a mediating variable.  \n",
    "\n",
    "Consider the instance below where X has an effect **c** on Y:\n",
    "\n",
    "### 1) $Y = \\beta_1 + c \\cdot X $\n",
    "\n",
    "In this model, there may be a third variable **M** which mediates the effect of X on Y. In other words, the variable M is partially responsible for the effect X has on Y.\n",
    "\n",
    "￼To conduct a mediation analysis one estimates two additional models: 1) the effect of X on M, and 2) the effect of X *and* M on Y. \n",
    "\n",
    "### 2) $M = \\beta_2 + a \\cdot X $\n",
    "\n",
    "### 3) $Y = \\beta_3 + c' \\cdot X + b \\cdot M $  \n",
    "  \n",
    "  \n",
    "Now the direct effect of X on Y, denoted as **C**,can be broken down into two parts:\n",
    "\n",
    "### $c = a \\cdot b + c' $\n",
    "\n",
    "$ a \\cdot b $ is the indirect effect of X on Y via the mediator. \n",
    "$c'$ is the remaining direct effect of X on Y controlling for M.  \n",
    "\n",
    "This relationship is depicted below.  Note that M and Y both also have error included in the model.\n",
    "\n",
    "***Question*** Why does X not have error included in the model?\n",
    "\n",
    "***Answer*** Because X is only a regressor not an outcome variable in the models and standard regression does not estimate error on regressors.  See [orthogonal regression](http://davegiles.blogspot.com/2014/11/orthogonal-regression-first-steps.html) for a technique that models error on both X and Y.\n",
    "\n",
    "<img src=\"Figures/mediation1.png\",width=500,align='center'>\n",
    "\n",
    "\n",
    "### Here are a few examples of mediations. Can you think of more?\n",
    "\n",
    "1) The effect of failure on depressed feelings is mediated by internalization of failure.  \n",
    "\n",
    "2) Effect of CBT treatment is mediated by changes in cognition. \n",
    "\n",
    "3) Effect of food intake on weight gain is mediated by metabolism.\n",
    "\n",
    "#### For more information there is a nice [tutorial](http://davidakenny.net/cm/mediate.htm) on mediation by David Kenny, one of the author's of the original mediation paper."
   ]
  },
  {
   "cell_type": "markdown",
   "metadata": {
    "deletable": true,
    "editable": true
   },
   "source": [
    "## Simulate a mediation\n",
    "\n",
    "In this section we will simulate a mediation.\n",
    "\n",
    "This is a case in which the true effect of X on Y is positive, but appears negative without testing for mediation. "
   ]
  },
  {
   "cell_type": "code",
   "execution_count": null,
   "metadata": {
    "ExecuteTime": {
     "end_time": "2017-02-08T10:53:54.854193",
     "start_time": "2017-02-08T10:53:54.836453"
    },
    "collapsed": false,
    "deletable": true,
    "editable": true
   },
   "outputs": [],
   "source": [
    "%matplotlib inline\n",
    "\n",
    "import numpy as np\n",
    "import pandas as pd\n",
    "import matplotlib.pyplot as plt\n",
    "import statsmodels.formula.api as smf\n",
    "import statsmodels.api as sm\n",
    "from scipy import stats\n",
    "\n",
    "def sobel_test(a, b, se_a, se_b):\n",
    "    '''\n",
    "    Sobel test for significance of mediation\n",
    "    \n",
    "    Args: \n",
    "        a: coefficient from X to mediator variable, M\n",
    "        b: coefficient from M to Y \n",
    "        se_a: Standard error of A\n",
    "        se_b: Standard error fo B\n",
    "\n",
    "    Returns: \n",
    "        t: Sobel's test statistic\n",
    "        pval : Two-tailed probability assuming normal distribution\n",
    "    '''\n",
    "    \n",
    "    SE = np.sqrt( (a**2)*(se_a**2) + (b**2)*(se_b**2))\n",
    "    t = (a*b) / SE\n",
    "    n = 100000000\n",
    "    pval = stats.t.sf(np.abs(t), n-1)*2\n",
    "    return t, pval"
   ]
  },
  {
   "cell_type": "code",
   "execution_count": null,
   "metadata": {
    "ExecuteTime": {
     "end_time": "2017-02-08T10:53:55.001298",
     "start_time": "2017-02-08T10:53:54.995262"
    },
    "collapsed": false,
    "deletable": true,
    "editable": true
   },
   "outputs": [],
   "source": [
    "# set random seed so everyone gets same results\n",
    "np.random.seed(1)\n",
    "\n",
    "# Determine effects\n",
    "a = -3 # effect of x to M\n",
    "b = 3 # effect of M to y\n",
    "cq = .1 #  effect of x on y controlling for M\n",
    "\n",
    "# Create a random data x\n",
    "x = np.random.rand(100) \n",
    "m = x * a + np.random.rand(100)\n",
    "\n",
    "# Create Y\n",
    "y = np.dot(np.array([x,m]).T,[cq,b]) + np.random.rand(100)"
   ]
  },
  {
   "cell_type": "code",
   "execution_count": null,
   "metadata": {
    "ExecuteTime": {
     "end_time": "2017-02-08T10:53:55.321111",
     "start_time": "2017-02-08T10:53:55.130758"
    },
    "collapsed": false,
    "deletable": true,
    "editable": true
   },
   "outputs": [],
   "source": [
    "plt.scatter(x,y)\n",
    "plt.xlabel('X')\n",
    "plt.ylabel('Y')\n",
    "plt.title('X -> Y')"
   ]
  },
  {
   "cell_type": "code",
   "execution_count": null,
   "metadata": {
    "ExecuteTime": {
     "end_time": "2017-02-08T10:53:55.494771",
     "start_time": "2017-02-08T10:53:55.322521"
    },
    "collapsed": false,
    "deletable": true,
    "editable": true
   },
   "outputs": [],
   "source": [
    "plt.scatter(x,m)\n",
    "plt.xlabel('X')\n",
    "plt.ylabel('M')\n",
    "plt.title('X -> M')"
   ]
  },
  {
   "cell_type": "code",
   "execution_count": null,
   "metadata": {
    "ExecuteTime": {
     "end_time": "2017-02-08T10:53:55.670672",
     "start_time": "2017-02-08T10:53:55.496374"
    },
    "collapsed": false,
    "deletable": true,
    "editable": true
   },
   "outputs": [],
   "source": [
    "plt.scatter(m,y)\n",
    "plt.xlabel('M')\n",
    "plt.ylabel('Y')\n",
    "plt.title('M -> Y')"
   ]
  },
  {
   "cell_type": "markdown",
   "metadata": {
    "deletable": true,
    "editable": true
   },
   "source": [
    "### 1) Test effect of X on Y"
   ]
  },
  {
   "cell_type": "code",
   "execution_count": null,
   "metadata": {
    "ExecuteTime": {
     "end_time": "2017-02-08T10:53:55.685081",
     "start_time": "2017-02-08T10:53:55.672298"
    },
    "collapsed": false,
    "deletable": true,
    "editable": true
   },
   "outputs": [],
   "source": [
    "X = pd.DataFrame({'Intercept':np.ones(len(x)),'X':x})\n",
    "lm1 = smf.OLS(y,X).fit()\n",
    "print lm1.summary()\n",
    "ec = lm1.params[1] # save total effect c to ec"
   ]
  },
  {
   "cell_type": "markdown",
   "metadata": {
    "deletable": true,
    "editable": true
   },
   "source": [
    "### 2) Test effect of X on M"
   ]
  },
  {
   "cell_type": "code",
   "execution_count": null,
   "metadata": {
    "ExecuteTime": {
     "end_time": "2017-02-08T10:53:55.919670",
     "start_time": "2017-02-08T10:53:55.906286"
    },
    "collapsed": false,
    "deletable": true,
    "editable": true
   },
   "outputs": [],
   "source": [
    "lm2 = smf.OLS(m,X).fit()\n",
    "print lm2.summary()\n",
    "ea = lm2.params[1] # Save the effect of X on M, a, to ea\n",
    "sea = lm2.bse[1]"
   ]
  },
  {
   "cell_type": "markdown",
   "metadata": {
    "deletable": true,
    "editable": true
   },
   "source": [
    "### 3) Test effect of  X and M on Y "
   ]
  },
  {
   "cell_type": "code",
   "execution_count": null,
   "metadata": {
    "ExecuteTime": {
     "end_time": "2017-02-08T10:53:56.440754",
     "start_time": "2017-02-08T10:53:56.426656"
    },
    "collapsed": false,
    "deletable": true,
    "editable": true
   },
   "outputs": [],
   "source": [
    "X['M'] = m\n",
    "lm3 = smf.OLS(y,X).fit()\n",
    "print lm3.summary()\n",
    "ecq,eb = lm3.params[1:3]\n",
    "seb = lm3.bse[2]"
   ]
  },
  {
   "cell_type": "markdown",
   "metadata": {
    "deletable": true,
    "editable": true
   },
   "source": [
    "### Show how the effect is broken down to direct and indirect effects\n",
    "Recall how the overall effect C was decomposed to indirect effect (a*b) and direct effect (c')\n",
    "### $c = a \\cdot b + c' $"
   ]
  },
  {
   "cell_type": "code",
   "execution_count": null,
   "metadata": {
    "ExecuteTime": {
     "end_time": "2017-02-08T10:53:56.734840",
     "start_time": "2017-02-08T10:53:56.730446"
    },
    "collapsed": false,
    "deletable": true,
    "editable": true
   },
   "outputs": [],
   "source": [
    "print('c : %.2f') % ec\n",
    "print('a : %.2f') % ea\n",
    "print('b : %.2f') % eb\n",
    "print('c\\' : %.2f') % ecq"
   ]
  },
  {
   "cell_type": "code",
   "execution_count": null,
   "metadata": {
    "ExecuteTime": {
     "end_time": "2017-02-08T10:53:56.889918",
     "start_time": "2017-02-08T10:53:56.885274"
    },
    "collapsed": false,
    "deletable": true,
    "editable": true
   },
   "outputs": [],
   "source": [
    "print('Total effect C: %.2f') % ec\n",
    "print('is decomposed into the indirect(mediated) effect a*b: %.2f') % (ea*eb)\n",
    "print('plus the direct effect c\\': %.2f') % ecq\n",
    "print('which adds up to %.2f') % (ea*eb+ecq)"
   ]
  },
  {
   "cell_type": "markdown",
   "metadata": {
    "deletable": true,
    "editable": true
   },
   "source": [
    "## Run a Sobel Test for Significance of Mediation\n",
    "\n",
    "One way to test the significance of a mediation is to perform a Sobel test, where the indirect effect(a*b) is divided by an estimated standard error of the two. This assumes that the product would be normally distributed which may not always be the case. \n",
    "\n",
    "An alternative method is to bootstrap with replacement on the observed data to generate a 95% confidence interval. You can try this by writing a for-loop that resamples from the data and generate a distribution of the indirect effects(a*b). If the confidence interval does not include 0, it can be considered as significant. "
   ]
  },
  {
   "cell_type": "code",
   "execution_count": null,
   "metadata": {
    "ExecuteTime": {
     "end_time": "2017-02-08T10:53:57.200521",
     "start_time": "2017-02-08T10:53:57.195122"
    },
    "collapsed": false,
    "deletable": true,
    "editable": true
   },
   "outputs": [],
   "source": [
    "t,p = sobel_test(ea,eb,sea,seb)\n",
    "print('Sobel\\'s test of significance t = %2.2f') % t\n",
    "print('Two-tailed p-value p = %2.5f ') % p"
   ]
  },
  {
   "cell_type": "markdown",
   "metadata": {
    "deletable": true,
    "editable": true
   },
   "source": [
    "# Moderation Analysis\n",
    "\n",
    "In a moderation analysis, the moderator modifies or changes the relationship between two variables, akin to an interaction term. Moderation is slightly different from an interaction due to the additional constraint that there is a causal relationship from X to Y, BUT not from Z to Y. Therefore, a moderation implies an interaction exists but an interaction does not imply a moderation. \n",
    "\n",
    "Here is a schematic representation of a moderation relationship. \n",
    "This diagram hypothesize that Stress has a causal relationship to Depression \n",
    "but the effect of Stress is different for people with high or low Social Support \n",
    "\n",
    "<img src=\"Figures/moderator2.gif\",width=500,align='center'>\n",
    "\n",
    "This can be reprsented by an interaction, \n",
    "\n",
    "\n",
    "\n",
    "<img src=\"Figures/moderator3.jpeg\",width=500,align='center'>\n",
    "\n",
    "\n",
    "The pictures have been retrieved from [here](http://www.victoria.ac.nz/psyc/paul-jose-files/helpcentre/help5_moderation_example.php)\n",
    "\n",
    "### Here are a few examples of moderations. Can you think of more?\n",
    "\n",
    "1) The effect of compliments on future grades is moderated by growth mindset [(Carol Dweck)](http://mindsetonline.com/)\n",
    "\n",
    "2) Effect of favorability on government behavior is moderated by political affiliation.    \n",
    "\n",
    "3) Effect of pressure on performance is moderated by confidence (choking vs boosting). \n",
    "\n",
    "### For more information look at [homepage of Kenny](http://davidakenny.net/cm/moderation.htm) who started all this. "
   ]
  },
  {
   "cell_type": "markdown",
   "metadata": {
    "deletable": true,
    "editable": true
   },
   "source": [
    "## Example \n",
    "Here we examine whether the effect of buying books (**Buy**) on enjoyment of reading (**Enjoy**) is moderated by frequency of reading (**Read**).\n",
    "\n",
    "The moderation effect exists if there is an interaction of buying and reading on enjoyment."
   ]
  },
  {
   "cell_type": "code",
   "execution_count": null,
   "metadata": {
    "ExecuteTime": {
     "end_time": "2017-02-08T10:53:57.824000",
     "start_time": "2017-02-08T10:53:57.815481"
    },
    "collapsed": false,
    "deletable": true,
    "editable": true
   },
   "outputs": [],
   "source": [
    "df = pd.DataFrame({'Enjoy':[4,15,1,11,13,19,6,10,15,3,11,20,7,11,10,6,7,18,8,2,7,12,13,15,4,3,9,7,10,2,15,1,3,6,13,15,16,14,1,8],\n",
    "'Buy':[16,19,0,19,25,24,22,21,13,7,28,31,4,26,11,12,14,16,20,13,12,23,22,19,12,10,7,22,7,0,16,17,11,5,29,29,20,16,3,8\n",
    "],\n",
    "'Read':[6,13,1,13,12,11,7,8,12,4,15,14,7,14,9,5,7,12,10,6,9,13,9,13,9,5,7,8,8,2,7,6,9,9,15,11,9,7,2,10\n",
    "]})"
   ]
  },
  {
   "cell_type": "markdown",
   "metadata": {
    "deletable": true,
    "editable": true
   },
   "source": [
    "# Importance of centering variables for interaction\n",
    "The interaction effect can be **VERY** different if you don't center your variables"
   ]
  },
  {
   "cell_type": "code",
   "execution_count": null,
   "metadata": {
    "ExecuteTime": {
     "end_time": "2017-02-08T10:53:58.128749",
     "start_time": "2017-02-08T10:53:58.122445"
    },
    "collapsed": false,
    "deletable": true,
    "editable": true
   },
   "outputs": [],
   "source": [
    "df['Interaction'] = df.Read*df.Buy\n",
    "np.corrcoef(df.Buy,df.Interaction)"
   ]
  },
  {
   "cell_type": "code",
   "execution_count": null,
   "metadata": {
    "ExecuteTime": {
     "end_time": "2017-02-08T11:02:14.477158",
     "start_time": "2017-02-08T11:02:14.308382"
    },
    "collapsed": false,
    "deletable": true,
    "editable": true
   },
   "outputs": [],
   "source": [
    "plt.scatter(df.Buy,df.Interaction)\n",
    "plt.xlabel('Read * Buy')\n",
    "plt.ylabel('Buy')"
   ]
  },
  {
   "cell_type": "code",
   "execution_count": null,
   "metadata": {
    "ExecuteTime": {
     "end_time": "2017-02-08T11:02:14.527704",
     "start_time": "2017-02-08T11:02:14.516685"
    },
    "collapsed": false,
    "deletable": true,
    "editable": true
   },
   "outputs": [],
   "source": [
    "center = lambda x: (x - x.mean())\n",
    "df[['Read_Centered','Buy_Centered']] = df[['Read','Buy']].apply(center)\n",
    "df['Interaction_Centered'] = df['Read_Centered'] * df['Buy_Centered']\n",
    "np.corrcoef(df.Buy,df.Interaction_Centered)"
   ]
  },
  {
   "cell_type": "code",
   "execution_count": null,
   "metadata": {
    "ExecuteTime": {
     "end_time": "2017-02-08T11:02:14.934450",
     "start_time": "2017-02-08T11:02:14.755937"
    },
    "collapsed": false,
    "deletable": true,
    "editable": true
   },
   "outputs": [],
   "source": [
    "plt.scatter(df.Buy,df.Interaction_Centered)\n",
    "plt.xlabel('Read * Buy')\n",
    "plt.ylabel('Buy')"
   ]
  },
  {
   "cell_type": "code",
   "execution_count": null,
   "metadata": {
    "ExecuteTime": {
     "end_time": "2017-02-08T11:02:45.521934",
     "start_time": "2017-02-08T11:02:45.505156"
    },
    "collapsed": false
   },
   "outputs": [],
   "source": [
    "mod = smf.ols(formula = \"Enjoy ~ Buy + Read + Interaction\", data = df).fit()\n",
    "print mod.summary()"
   ]
  },
  {
   "cell_type": "code",
   "execution_count": null,
   "metadata": {
    "ExecuteTime": {
     "end_time": "2017-02-08T11:02:45.815064",
     "start_time": "2017-02-08T11:02:45.713782"
    },
    "collapsed": false,
    "deletable": true,
    "editable": true
   },
   "outputs": [],
   "source": [
    "mod = smf.ols(formula = \"Enjoy ~ Buy + Read + Interaction_Centered\", data = df).fit()\n",
    "print mod.summary()"
   ]
  },
  {
   "cell_type": "code",
   "execution_count": null,
   "metadata": {
    "collapsed": true
   },
   "outputs": [],
   "source": []
  },
  {
   "cell_type": "markdown",
   "metadata": {
    "deletable": true,
    "editable": true
   },
   "source": [
    "# Exercises\n",
    "\n",
    "## Exercise 1 - Mediation\n",
    "\n",
    "For exercise 1, let's revisit the salary dataset. ('../Data/salary_exercise.csv') \n",
    "\n",
    "These are the salary data used in Weisberg's book, consisting of observations on six variables for 52 tenure-track professors in a small college. The variables are:\n",
    "\n",
    "- sx = Sex, coded 1 for female and 0 for male\n",
    "- rk = Rank, coded\n",
    " - 1 for assistant professor,\n",
    " - 2 for associate professor, and\n",
    " - 3 for full professor\n",
    "- yr = Number of years in current rank\n",
    "- dg = Highest degree, coded 1 if doctorate, 0 if masters\n",
    "- yd = Number of years since highest degree was earned\n",
    "- sl = Academic year salary, in dollars.\n",
    "\n",
    "Reference: S. Weisberg (1985). Applied Linear Regression, Second Edition. New York: John Wiley and Sons. Page 194.\n",
    "\n",
    "**Make sure you check the data for missing values or other errors before beginning your analysis.**\n",
    "\n",
    "### Question:\n",
    "Evaluate whether academic rank mediates the relationship between salary and gender"
   ]
  },
  {
   "cell_type": "code",
   "execution_count": null,
   "metadata": {
    "collapsed": true
   },
   "outputs": [],
   "source": []
  },
  {
   "cell_type": "markdown",
   "metadata": {},
   "source": [
    "## Exercise 2 - Moderation\n",
    "\n",
    "For Exercise 2, we will use the alcohol dataset again ('../Data/student-mat.csv').\n",
    "\n",
    "Below is the information about the dataset. \n",
    "\n",
    "Attribute Information:  \n",
    "1 school - student's school (binary: 'GP' - Gabriel Pereira or 'MS' - Mousinho da Silveira)   \n",
    "2 sex - student's sex (binary: 'F' - female or 'M' - male)   \n",
    "3 age - student's age (numeric: from 15 to 22)   \n",
    "4 address - student's home address type (binary: 'U' - urban or 'R' - rural)   \n",
    "5 famsize - family size (binary: 'LE3' - less or equal to 3 or 'GT3' - greater than 3)   \n",
    "6 Pstatus - parent's cohabitation status (binary: 'T' - living together or 'A' - apart)   \n",
    "7 Medu - mother's education (numeric: 0 - none, 1 - primary education (4th grade), 2 Ã¢â‚¬â€œ 5th to 9th grade, 3 Ã¢â‚¬â€œ secondary education or 4 Ã¢â‚¬â€œ higher education)   \n",
    "8 Fedu - father's education (numeric: 0 - none, 1 - primary education (4th grade), 2 Ã¢â‚¬â€œ 5th to 9th grade, 3 Ã¢â‚¬â€œ secondary education or 4 Ã¢â‚¬â€œ higher education)   \n",
    "9 Mjob - mother's job (nominal: 'teacher', 'health' care related, civil 'services' (e.g. administrative or police), 'at_home' or 'other')   \n",
    "10 Fjob - father's job (nominal: 'teacher', 'health' care related, civil 'services' (e.g. administrative or police), 'at_home' or 'other')   \n",
    "11 reason - reason to choose this school (nominal: close to 'home', school 'reputation', 'course' preference or 'other')   \n",
    "12 guardian - student's guardian (nominal: 'mother', 'father' or 'other')   \n",
    "13 traveltime - home to school travel time (numeric: 1 - <15 min., 2 - 15 to 30 min., 3 - 30 min. to 1 hour, or 4 - >1 hour)   \n",
    "14 studytime - weekly study time (numeric: 1 - <2 hours, 2 - 2 to 5 hours, 3 - 5 to 10 hours, or 4 - >10 hours)   \n",
    "15 failures - number of past class failures (numeric: n if 1<=n<3, else 4)   \n",
    "16 schoolsup - extra educational support (binary: yes or no)   \n",
    "17 famsup - family educational support (binary: yes or no)   \n",
    "18 paid - extra paid classes within the course subject (Math or Portuguese) (binary: yes or no)   \n",
    "19 activities - extra-curricular activities (binary: yes or no)   \n",
    "20 nursery - attended nursery school (binary: yes or no)   \n",
    "21 higher - wants to take higher education (binary: yes or no)   \n",
    "22 internet - Internet access at home (binary: yes or no)   \n",
    "23 romantic - with a romantic relationship (binary: yes or no)   \n",
    "24 famrel - quality of family relationships (numeric: from 1 - very bad to 5 - excellent)   \n",
    "25 freetime - free time after school (numeric: from 1 - very low to 5 - very high)   \n",
    "26 goout - going out with friends (numeric: from 1 - very low to 5 - very high)   \n",
    "27 Dalc - workday alcohol consumption (numeric: from 1 - very low to 5 - very high)   \n",
    "28 Walc - weekend alcohol consumption (numeric: from 1 - very low to 5 - very high)   \n",
    "29 health - current health status (numeric: from 1 - very bad to 5 - very good)   \n",
    "30 absences - number of school absences (numeric: from 0 to 93)     \n",
    "31 G1 - first period grade (numeric: from 0 to 20)   \n",
    "31 G2 - second period grade (numeric: from 0 to 20)   \n",
    "32 G3 - final grade (numeric: from 0 to 20, output target)   \n",
    "\n",
    "### Question:\n",
    "\n",
    "The amount you go out seems to be associated with increased daily alcohol consumption.  Does being in a relationship dampen this association?  Are there any other variables that appear to moderate this relationship?\n"
   ]
  },
  {
   "cell_type": "code",
   "execution_count": null,
   "metadata": {
    "collapsed": true
   },
   "outputs": [],
   "source": []
  },
  {
   "cell_type": "code",
   "execution_count": null,
   "metadata": {
    "collapsed": true
   },
   "outputs": [],
   "source": []
  }
 ],
 "metadata": {
  "kernelspec": {
   "display_name": "Python [default]",
   "language": "python",
   "name": "python2"
  },
  "language_info": {
   "codemirror_mode": {
    "name": "ipython",
    "version": 2
   },
   "file_extension": ".py",
   "mimetype": "text/x-python",
   "name": "python",
   "nbconvert_exporter": "python",
   "pygments_lexer": "ipython2",
   "version": "2.7.13"
  },
  "toc": {
   "nav_menu": {
    "height": "468px",
    "width": "252px"
   },
   "navigate_menu": true,
   "number_sections": true,
   "sideBar": true,
   "threshold": 4,
   "toc_cell": false,
   "toc_section_display": "block",
   "toc_window_display": false
  }
 },
 "nbformat": 4,
 "nbformat_minor": 0
}
