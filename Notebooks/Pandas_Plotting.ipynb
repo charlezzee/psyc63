{
 "cells": [
  {
   "cell_type": "markdown",
   "metadata": {},
   "source": [
    "# Dataframes ( Pandas ) and Plotting ( Matplotlib/Seaborn )\n",
    "\n",
    "*Written by Jin Cheong & Luke Chang*\n",
    "\n",
    "In this lab we are going to learn how to load and manipulate datasets in a dataframe format using Pandas   \n",
    "and create beautiful plots using Matplotlib and Seaborn. Pandas is akin to a data frame in R and provides an intuitive way to interact with data in a 2D data frame. Matplotlib is a standard plotting library that is similar in functionality to Matlab's object oriented plotting. Seaborn is also a plotting library built on the Matplotlib framework which carries useful pre-configured plotting schemes. \n",
    "\n",
    "After the tutorial you will have the chance to apply the methods to a new set of data. \n",
    "\n",
    "First we load the basic packages we will be using in this tutorial.  Notice how we import the modules using an abbreviated name.  This is to reduce the amount of text we type when we use the functions."
   ]
  },
  {
   "cell_type": "code",
   "execution_count": null,
   "metadata": {
    "ExecuteTime": {
     "end_time": "2017-01-17T11:13:06.844255",
     "start_time": "2017-01-17T11:13:06.838473"
    },
    "collapsed": false
   },
   "outputs": [],
   "source": [
    "# matplotlib inline is an example of 'cell magic' and \n",
    "# enables plotting IN the notebook and not opening another window.\n",
    "%matplotlib inline\n",
    "\n",
    "import pandas as pd\n",
    "import numpy as np\n",
    "import matplotlib.pyplot as plt\n",
    "import seaborn as sns"
   ]
  },
  {
   "cell_type": "markdown",
   "metadata": {},
   "source": [
    "# Pandas\n",
    "\n",
    "## Loading Data\n",
    "We use the pd.read_csv() to load a .csv file into a dataframe. \n",
    "Note that read_csv() has many options that can be used to make sure you load the data correctly. "
   ]
  },
  {
   "cell_type": "code",
   "execution_count": null,
   "metadata": {
    "ExecuteTime": {
     "end_time": "2017-01-17T11:13:09.565984",
     "start_time": "2017-01-17T11:13:09.559528"
    },
    "collapsed": false
   },
   "outputs": [],
   "source": [
    "# Import data\n",
    "df = pd.read_csv('../Data/salary.csv',sep = ',', header='infer')"
   ]
  },
  {
   "cell_type": "code",
   "execution_count": null,
   "metadata": {
    "ExecuteTime": {
     "end_time": "2017-01-17T11:13:16.455187",
     "start_time": "2017-01-17T11:13:16.430433"
    },
    "collapsed": true
   },
   "outputs": [],
   "source": [
    "# recap on how to look for Docstrings.\n",
    "pd.read_csv?"
   ]
  },
  {
   "cell_type": "markdown",
   "metadata": {},
   "source": [
    "## Ways to check the dataframe \n",
    "There are many ways to examine your dataframe. \n",
    "One easy way is to call the dataframe itself. "
   ]
  },
  {
   "cell_type": "code",
   "execution_count": null,
   "metadata": {
    "ExecuteTime": {
     "end_time": "2017-01-17T11:13:22.668224",
     "start_time": "2017-01-17T11:13:22.632183"
    },
    "collapsed": false,
    "scrolled": true
   },
   "outputs": [],
   "source": [
    "df"
   ]
  },
  {
   "cell_type": "markdown",
   "metadata": {
    "ExecuteTime": {
     "end_time": "2017-01-16T18:35:36.660858",
     "start_time": "2017-01-16T18:35:36.656319"
    }
   },
   "source": [
    "However, often the dataframes can be large and we may be only interested in seeing the first few rows.  `df.head()` is useful for this purpose.  `shape` is another useful method for getting the dimensions of the matrix.  We will print the number of rows and columns in this data set by using output formatting.  Use the `%` sign to indicate the type of data (e.g., `%i`=integer, `%d`=float, `%s`=string), then use the `%` followed by a tuple of the values you would like to insert into the text.  See [here](https://pyformat.info/) for more info about formatting text."
   ]
  },
  {
   "cell_type": "code",
   "execution_count": null,
   "metadata": {
    "ExecuteTime": {
     "end_time": "2017-01-17T11:14:00.722316",
     "start_time": "2017-01-17T11:14:00.718513"
    },
    "collapsed": false
   },
   "outputs": [],
   "source": [
    "print('There are %i rows and %i columns in this data set') % df.shape\n",
    "print(df.shape)"
   ]
  },
  {
   "cell_type": "code",
   "execution_count": null,
   "metadata": {
    "ExecuteTime": {
     "end_time": "2017-01-17T11:14:08.961497",
     "start_time": "2017-01-17T11:14:08.949753"
    },
    "collapsed": false
   },
   "outputs": [],
   "source": [
    "df.head()"
   ]
  },
  {
   "cell_type": "markdown",
   "metadata": {},
   "source": [
    "On the top row, you have column names, that can be called like a dictionary (a dataframe can be essentially thought of as a dictionary with column names as the keys).\n",
    "The left most column (0,1,2,3,4...) is called the index of the dataframe. The default index is sequential integers, but it can be set to anything as long as each row is unique (e.g., subject IDs)"
   ]
  },
  {
   "cell_type": "code",
   "execution_count": null,
   "metadata": {
    "ExecuteTime": {
     "end_time": "2017-01-17T11:18:36.420360",
     "start_time": "2017-01-17T11:18:36.414490"
    },
    "collapsed": false
   },
   "outputs": [],
   "source": [
    "print(\"Indexes\")\n",
    "print(df.index)\n",
    "print(\"Columns\")\n",
    "print(df.columns)\n",
    "print(\"Columns are like keys of a dictionary\")\n",
    "print(df.keys())"
   ]
  },
  {
   "cell_type": "markdown",
   "metadata": {},
   "source": [
    "You can access the values of a column by calling it directly. Double bracket returns a dataframe"
   ]
  },
  {
   "cell_type": "code",
   "execution_count": null,
   "metadata": {
    "ExecuteTime": {
     "end_time": "2017-01-17T11:19:39.325665",
     "start_time": "2017-01-17T11:19:39.310344"
    },
    "collapsed": false,
    "scrolled": true
   },
   "outputs": [],
   "source": [
    "df[['salary']]"
   ]
  },
  {
   "cell_type": "markdown",
   "metadata": {},
   "source": [
    "Single bracket returns a Series"
   ]
  },
  {
   "cell_type": "code",
   "execution_count": null,
   "metadata": {
    "ExecuteTime": {
     "end_time": "2017-01-17T11:19:41.154952",
     "start_time": "2017-01-17T11:19:41.147382"
    },
    "collapsed": false,
    "scrolled": true
   },
   "outputs": [],
   "source": [
    "df['salary']"
   ]
  },
  {
   "cell_type": "markdown",
   "metadata": {},
   "source": [
    "You can also call a column like an attribute if the column name is a string "
   ]
  },
  {
   "cell_type": "code",
   "execution_count": null,
   "metadata": {
    "ExecuteTime": {
     "end_time": "2017-01-17T11:19:45.393423",
     "start_time": "2017-01-17T11:19:45.386738"
    },
    "collapsed": false
   },
   "outputs": [],
   "source": [
    "df.salary"
   ]
  },
  {
   "cell_type": "markdown",
   "metadata": {},
   "source": [
    "You can create new columns to fit your needs. \n",
    "For instance you can set initialize a new column with zeros. "
   ]
  },
  {
   "cell_type": "code",
   "execution_count": null,
   "metadata": {
    "ExecuteTime": {
     "end_time": "2017-01-17T11:19:55.479945",
     "start_time": "2017-01-17T11:19:55.476307"
    },
    "collapsed": false
   },
   "outputs": [],
   "source": [
    "df['pubperyear'] = 0"
   ]
  },
  {
   "cell_type": "markdown",
   "metadata": {},
   "source": [
    "Here we can create a new column `pubperyear`, which is the ratio of the number of papers published per year"
   ]
  },
  {
   "cell_type": "code",
   "execution_count": null,
   "metadata": {
    "ExecuteTime": {
     "end_time": "2017-01-17T11:20:52.989317",
     "start_time": "2017-01-17T11:20:52.985753"
    },
    "collapsed": false
   },
   "outputs": [],
   "source": [
    "df['pubperyear'] = df['publications']/df['years']"
   ]
  },
  {
   "cell_type": "code",
   "execution_count": null,
   "metadata": {
    "ExecuteTime": {
     "end_time": "2017-01-17T11:20:54.247077",
     "start_time": "2017-01-17T11:20:54.234487"
    },
    "collapsed": false
   },
   "outputs": [],
   "source": [
    "df.head()"
   ]
  },
  {
   "cell_type": "markdown",
   "metadata": {},
   "source": [
    "## Indexing and slicing\n",
    "Indexing in Pandas can be tricky. There are four ways to index: loc, iloc, ix, and explicit indexing(useful for booleans). \n",
    "\n",
    "First, we will try using `.loc`.  This method references the explicit index. it works for both index names and also column names."
   ]
  },
  {
   "cell_type": "code",
   "execution_count": null,
   "metadata": {
    "ExecuteTime": {
     "end_time": "2017-01-17T11:22:14.510700",
     "start_time": "2017-01-17T11:22:14.504502"
    },
    "collapsed": false
   },
   "outputs": [],
   "source": [
    "df.loc[0,['salary']]"
   ]
  },
  {
   "cell_type": "markdown",
   "metadata": {
    "ExecuteTime": {
     "end_time": "2017-01-17T11:23:11.411933",
     "start_time": "2017-01-17T11:23:11.407884"
    }
   },
   "source": [
    "Next we wil try `.iloc`.  This method references the implicit python index (starting from 0, exclusive of last number).  You can think of this like row by column indexing using integers."
   ]
  },
  {
   "cell_type": "code",
   "execution_count": null,
   "metadata": {
    "ExecuteTime": {
     "end_time": "2017-01-17T11:23:43.175016",
     "start_time": "2017-01-17T11:23:43.164492"
    },
    "collapsed": false
   },
   "outputs": [],
   "source": [
    "df.iloc[0:3,0:3]"
   ]
  },
  {
   "cell_type": "markdown",
   "metadata": {},
   "source": [
    "There is also an older method called `.ix`, which will likely eventually be phased out of pandas.  It can be useful to combine explicit and implicit indexing.  "
   ]
  },
  {
   "cell_type": "code",
   "execution_count": null,
   "metadata": {
    "ExecuteTime": {
     "end_time": "2017-01-17T11:24:37.557899",
     "start_time": "2017-01-17T11:24:37.548928"
    },
    "collapsed": false
   },
   "outputs": [],
   "source": [
    "df.ix[0:3,0:3]"
   ]
  },
  {
   "cell_type": "markdown",
   "metadata": {},
   "source": [
    "Let's make a new data frame with just Males and another for just Females. Notice, how we added the `.reset_index(drop=True)` method?   This is because assigning a new dataframe based on indexing another dataframe will retain the *original* index.  We need to explicitly tell pandas to reset the index if we want it to start from zero."
   ]
  },
  {
   "cell_type": "code",
   "execution_count": null,
   "metadata": {
    "ExecuteTime": {
     "end_time": "2017-01-17T11:27:03.230167",
     "start_time": "2017-01-17T11:27:03.225128"
    },
    "collapsed": true
   },
   "outputs": [],
   "source": [
    "maledf = df[df.gender==0].reset_index(drop=True)\n",
    "femaledf = df[df.gender==1].reset_index(drop=True)"
   ]
  },
  {
   "cell_type": "markdown",
   "metadata": {},
   "source": [
    "Boolean or logical indexing is useful if you need to sort the data based on some True or False value.\n",
    "\n",
    "For instance, who are the people with salaries greater than 90K but lower than 100K ? "
   ]
  },
  {
   "cell_type": "code",
   "execution_count": null,
   "metadata": {
    "ExecuteTime": {
     "end_time": "2017-01-17T11:27:39.516785",
     "start_time": "2017-01-17T11:27:39.504006"
    },
    "collapsed": false
   },
   "outputs": [],
   "source": [
    "df[ (df.salary > 90000) & (df.salary < 100000)]"
   ]
  },
  {
   "cell_type": "markdown",
   "metadata": {
    "ExecuteTime": {
     "end_time": "2017-01-16T18:36:01.082619",
     "start_time": "2017-01-16T18:36:01.078188"
    }
   },
   "source": [
    "## Dealing with missing values\n",
    "It is easy to quickly count the number of missing values for each column in the dataset using the `isnull()` method.  One thing that is  nice about Python is that you can chain commands, which means that the output of one method can be the input into the next method.  This allows us to write intuitive and concise code.  Notice how we take the `sum()` of all of the null cases.\n",
    "\n",
    "The `isnull()` method will return a dataframe with True/False values on whether a datapoint is null or not a number (nan)."
   ]
  },
  {
   "cell_type": "code",
   "execution_count": null,
   "metadata": {
    "ExecuteTime": {
     "end_time": "2017-01-17T11:30:10.583293",
     "start_time": "2017-01-17T11:30:10.539987"
    },
    "collapsed": false,
    "scrolled": true
   },
   "outputs": [],
   "source": [
    "df.isnull()"
   ]
  },
  {
   "cell_type": "markdown",
   "metadata": {},
   "source": [
    "We can chain the `.null()` and `.sum()` methods to see how many null values are added up."
   ]
  },
  {
   "cell_type": "code",
   "execution_count": null,
   "metadata": {
    "ExecuteTime": {
     "end_time": "2017-01-17T11:30:45.720112",
     "start_time": "2017-01-17T11:30:45.714379"
    },
    "collapsed": false
   },
   "outputs": [],
   "source": [
    " df.isnull().sum()"
   ]
  },
  {
   "cell_type": "markdown",
   "metadata": {},
   "source": [
    "You can use the boolean indexing once again to see the datapoints that have missing values. We chained the method `.any()` which will check if there are any True values for a given axis.  Axis=0 indicates rows, while Axis=1 indicates columns."
   ]
  },
  {
   "cell_type": "code",
   "execution_count": null,
   "metadata": {
    "ExecuteTime": {
     "end_time": "2017-01-17T11:31:46.836337",
     "start_time": "2017-01-17T11:31:46.824507"
    },
    "collapsed": false
   },
   "outputs": [],
   "source": [
    "df[df.isnull().any(axis=1)]"
   ]
  },
  {
   "cell_type": "code",
   "execution_count": null,
   "metadata": {
    "ExecuteTime": {
     "end_time": "2017-01-17T01:36:50.732534",
     "start_time": "2017-01-17T01:36:50.690206"
    },
    "collapsed": false,
    "scrolled": true
   },
   "outputs": [],
   "source": [
    "# you may look at where the values are not null\n",
    "# Note that indexes 18, and 24 are missing. \n",
    "df[~df.isnull().any(axis=1)]"
   ]
  },
  {
   "cell_type": "markdown",
   "metadata": {
    "ExecuteTime": {
     "end_time": "2017-01-16T18:36:16.705384",
     "start_time": "2017-01-16T18:36:16.701256"
    }
   },
   "source": [
    "There are different techniques for dealing with missing data.  An easy one is to simply remove rows that have any missing values using the `dropna()` method."
   ]
  },
  {
   "cell_type": "code",
   "execution_count": null,
   "metadata": {
    "ExecuteTime": {
     "end_time": "2017-01-17T01:27:27.713017",
     "start_time": "2017-01-17T01:27:27.708362"
    },
    "collapsed": true
   },
   "outputs": [],
   "source": [
    "df = df.dropna()"
   ]
  },
  {
   "cell_type": "markdown",
   "metadata": {},
   "source": [
    "Now we can check to make sure the missing rows are removed.  Let's also check the new dimensions of the dataframe."
   ]
  },
  {
   "cell_type": "code",
   "execution_count": null,
   "metadata": {
    "ExecuteTime": {
     "end_time": "2017-01-17T01:27:29.583808",
     "start_time": "2017-01-17T01:27:29.576696"
    },
    "collapsed": false
   },
   "outputs": [],
   "source": [
    "print 'There are %i rows and %i columns in this data set' % df.shape\n",
    "df.isnull().sum()"
   ]
  },
  {
   "cell_type": "markdown",
   "metadata": {
    "ExecuteTime": {
     "end_time": "2017-01-16T18:36:43.976308",
     "start_time": "2017-01-16T18:36:43.972047"
    }
   },
   "source": [
    "## Describing the data\n",
    "We can use the `.describe()` method to get a quick summary of the continuous values of the data frame. We will `.transpose()` the output to make it slightly easier to read. "
   ]
  },
  {
   "cell_type": "code",
   "execution_count": null,
   "metadata": {
    "ExecuteTime": {
     "end_time": "2017-01-17T11:33:05.208890",
     "start_time": "2017-01-17T11:33:05.183264"
    },
    "collapsed": false
   },
   "outputs": [],
   "source": [
    "df.describe().transpose()"
   ]
  },
  {
   "cell_type": "markdown",
   "metadata": {},
   "source": [
    "We can also get quick summary of a pandas series, or specific column of a pandas dataframe."
   ]
  },
  {
   "cell_type": "code",
   "execution_count": null,
   "metadata": {
    "ExecuteTime": {
     "end_time": "2017-01-17T11:33:08.287402",
     "start_time": "2017-01-17T11:33:08.278140"
    },
    "collapsed": false
   },
   "outputs": [],
   "source": [
    "df.departm.describe()"
   ]
  },
  {
   "cell_type": "markdown",
   "metadata": {},
   "source": [
    "## Manipulating data in Groups\n",
    "One manipulation we often do is look at variables in groups. \n",
    "One way to do this is to usethe `.groupby(key)` method. \n",
    "The key is a column that is used to group the variables together. \n",
    "For instance, if we want to group the data by gender and get group means, we perform the following."
   ]
  },
  {
   "cell_type": "code",
   "execution_count": null,
   "metadata": {
    "ExecuteTime": {
     "end_time": "2017-01-17T11:33:17.238167",
     "start_time": "2017-01-17T11:33:17.224014"
    },
    "collapsed": false
   },
   "outputs": [],
   "source": [
    "df.groupby('gender').mean()"
   ]
  },
  {
   "cell_type": "markdown",
   "metadata": {},
   "source": [
    "Other default aggregation methods include .count(), .mean(), .median(), .min(), .max(), .std(), .var(), and .sum()\n",
    "\n",
    "Before we move on, it looks like there were more than 2 genders specified in our data. \n",
    "This is likely an error in the data collection process so let recap on how we might remove this datapoint. "
   ]
  },
  {
   "cell_type": "code",
   "execution_count": null,
   "metadata": {
    "ExecuteTime": {
     "end_time": "2017-01-17T11:33:58.742482",
     "start_time": "2017-01-17T11:33:58.734248"
    },
    "collapsed": false
   },
   "outputs": [],
   "source": [
    "df[df['gender']==2]"
   ]
  },
  {
   "cell_type": "markdown",
   "metadata": {
    "ExecuteTime": {
     "end_time": "2017-01-17T11:33:50.192700",
     "start_time": "2017-01-17T11:33:50.188495"
    }
   },
   "source": [
    "replace original dataframe without the miscoded data"
   ]
  },
  {
   "cell_type": "code",
   "execution_count": null,
   "metadata": {
    "ExecuteTime": {
     "end_time": "2017-01-17T11:33:28.002449",
     "start_time": "2017-01-17T11:33:27.998449"
    },
    "collapsed": true
   },
   "outputs": [],
   "source": [
    "df = df[df['gender']!=2]"
   ]
  },
  {
   "cell_type": "markdown",
   "metadata": {},
   "source": [
    "Now we have a corrected dataframe!"
   ]
  },
  {
   "cell_type": "code",
   "execution_count": null,
   "metadata": {
    "ExecuteTime": {
     "end_time": "2017-01-17T01:43:24.598700",
     "start_time": "2017-01-17T01:43:24.586770"
    },
    "collapsed": false
   },
   "outputs": [],
   "source": [
    "df.groupby('gender').mean()"
   ]
  },
  {
   "cell_type": "markdown",
   "metadata": {},
   "source": [
    "Another powerful tool in Pandas is the split-apply-combine method. \n",
    "For instance, let's say we also want to look at how much each professor is earning in respect to the department. \n",
    "Let's say we want to subtract the departmental mean from professor and divide it by the departmental standard deviation. \n",
    "We can do this by using the `groupby(key)` method chained with the `.transform(function)` method. \n",
    "It will group the dataframe by the key column, perform the \"function\" transformation of the data and return data in same format.\n",
    "To learn more, see link [here](http://nbviewer.jupyter.org/github/jakevdp/PythonDataScienceHandbook/blob/master/notebooks/03.08-Aggregation-and-Grouping.ipynb)"
   ]
  },
  {
   "cell_type": "code",
   "execution_count": null,
   "metadata": {
    "ExecuteTime": {
     "end_time": "2017-01-17T11:36:08.285561",
     "start_time": "2017-01-17T11:36:08.220119"
    },
    "collapsed": false
   },
   "outputs": [],
   "source": [
    "# key: We use the departm as the grouping factor. \n",
    "key = df.departm\n",
    "\n",
    "# Let's create an anonmyous function for calculating zscores using lambda:\n",
    "# We want to standardize salary for each department.\n",
    "zscore = lambda x: (x - x.mean()) / x.std()\n",
    "\n",
    "# Now let's calculate zscores separately within each department\n",
    "transformed = df.groupby(key).transform(zscore)\n",
    "df['salary_in_departm'] = transformed['salary']"
   ]
  },
  {
   "cell_type": "markdown",
   "metadata": {},
   "source": [
    "Now we have `salary_in_departm` column showing standardized salary per department."
   ]
  },
  {
   "cell_type": "code",
   "execution_count": null,
   "metadata": {
    "ExecuteTime": {
     "end_time": "2017-01-17T11:34:49.361192",
     "start_time": "2017-01-17T11:34:49.347472"
    },
    "collapsed": false
   },
   "outputs": [],
   "source": [
    "df.head()"
   ]
  },
  {
   "cell_type": "markdown",
   "metadata": {},
   "source": [
    "## Combining datasets : pd.concat\n",
    "Recall that we sliced the dataframes into male and female dataframe in 2.3 Indexing and Slicing. \n",
    "Now we will learn how to put dataframes together which is done by the pd.concat method. Note how the index of this output retains the old index. "
   ]
  },
  {
   "cell_type": "code",
   "execution_count": null,
   "metadata": {
    "ExecuteTime": {
     "end_time": "2017-01-17T11:36:20.595682",
     "start_time": "2017-01-17T11:36:20.554315"
    },
    "collapsed": false,
    "scrolled": true
   },
   "outputs": [],
   "source": [
    "pd.concat([femaledf,maledf],axis = 0)"
   ]
  },
  {
   "cell_type": "markdown",
   "metadata": {
    "ExecuteTime": {
     "end_time": "2017-01-17T11:36:56.837191",
     "start_time": "2017-01-17T11:36:56.833615"
    }
   },
   "source": [
    "We can reset the index to start at zero using the `.reset_index()` method"
   ]
  },
  {
   "cell_type": "code",
   "execution_count": null,
   "metadata": {
    "ExecuteTime": {
     "end_time": "2017-01-17T02:08:20.507726",
     "start_time": "2017-01-17T02:08:20.458141"
    },
    "collapsed": false
   },
   "outputs": [],
   "source": [
    "pd.concat([maledf,femaledf],axis = 0).reset_index(drop=True)"
   ]
  },
  {
   "cell_type": "markdown",
   "metadata": {},
   "source": [
    "## Plotting in pandas\n",
    "Before we move into Matplotlib, here are a few plotting methods already implemented in Pandas. \n",
    "### Boxplot"
   ]
  },
  {
   "cell_type": "code",
   "execution_count": null,
   "metadata": {
    "ExecuteTime": {
     "end_time": "2017-01-17T11:37:16.352283",
     "start_time": "2017-01-17T11:37:16.152329"
    },
    "collapsed": false
   },
   "outputs": [],
   "source": [
    "df[['salary','gender']].boxplot(by='gender')"
   ]
  },
  {
   "cell_type": "markdown",
   "metadata": {},
   "source": [
    "### Scatterplot"
   ]
  },
  {
   "cell_type": "code",
   "execution_count": null,
   "metadata": {
    "ExecuteTime": {
     "end_time": "2017-01-17T11:37:18.817135",
     "start_time": "2017-01-17T11:37:18.615533"
    },
    "collapsed": false
   },
   "outputs": [],
   "source": [
    "df[['salary','years']].plot(kind='scatter', x='years', y='salary')"
   ]
  },
  {
   "cell_type": "markdown",
   "metadata": {},
   "source": [
    "### Plotting Categorical Variables. Replacing variables with .map\n",
    "If we want to plot department on the x-axis, Pandas plotting functions won't know what to do\n",
    "because they don't know where to put bio or chem on a numerical x-axis. \n",
    "Therefore one needs to change them to numerical variable to plot them with basic functionalities (we will later see how Seaborn sovles this). "
   ]
  },
  {
   "cell_type": "code",
   "execution_count": null,
   "metadata": {
    "ExecuteTime": {
     "end_time": "2017-01-17T11:37:27.279551",
     "start_time": "2017-01-17T11:37:27.199877"
    },
    "collapsed": false
   },
   "outputs": [],
   "source": [
    "# create a new numericalSeries called dept_num for visualization.\n",
    "df['dept_num'] = 0\n",
    "df.loc[:,['dept_num']] = df.departm.map({'bio':0, 'chem':1,'geol':2,'neuro':3,'stat':4,'physics':5,'math':6})\n",
    "df.tail()"
   ]
  },
  {
   "cell_type": "code",
   "execution_count": null,
   "metadata": {
    "ExecuteTime": {
     "end_time": "2017-01-17T11:37:42.477113",
     "start_time": "2017-01-17T11:37:41.847996"
    },
    "collapsed": false
   },
   "outputs": [],
   "source": [
    "## Now plot all four categories\n",
    "f, axs = plt.subplots(1, 4, sharey=True)\n",
    "f.suptitle('Salary in relation to other variables')\n",
    "df.plot(kind='scatter', x='gender', y='salary', ax=axs[0], figsize=(15, 4))\n",
    "df.plot(kind='scatter', x='dept_num', y='salary', ax=axs[1])\n",
    "df.plot(kind='scatter', x='years', y='salary', ax=axs[2])\n",
    "df.plot(kind='scatter', x='age', y='salary', ax=axs[3])\n",
    "# The problem is that it treats department as a continuous variable. "
   ]
  },
  {
   "cell_type": "markdown",
   "metadata": {},
   "source": [
    "### Generating bar - errorbar plots in Pandas"
   ]
  },
  {
   "cell_type": "code",
   "execution_count": null,
   "metadata": {
    "ExecuteTime": {
     "end_time": "2017-01-17T11:37:46.981211",
     "start_time": "2017-01-17T11:37:46.823600"
    },
    "collapsed": false
   },
   "outputs": [],
   "source": [
    "means = df.groupby('gender').mean()['salary']\n",
    "errors = df.groupby('gender').std()['salary'] / np.sqrt(df.groupby('gender').count()['salary'])\n",
    "ax = means.plot.bar(yerr=errors,figsize=(5,3))"
   ]
  },
  {
   "cell_type": "markdown",
   "metadata": {},
   "source": [
    "# Matplotlib\n",
    "Learn other matplotlib tutorials [here](http://nbviewer.jupyter.org/github/jakevdp/PythonDataScienceHandbook/blob/master/notebooks/04.00-Introduction-To-Matplotlib.ipynb)\n",
    "\n",
    "## create a basic lineplot"
   ]
  },
  {
   "cell_type": "code",
   "execution_count": null,
   "metadata": {
    "ExecuteTime": {
     "end_time": "2017-01-17T11:37:49.804847",
     "start_time": "2017-01-17T11:37:49.687441"
    },
    "collapsed": false
   },
   "outputs": [],
   "source": [
    "plt.figure(figsize=(2,2))\n",
    "plt.plot(range(0,10),np.sqrt(range(0,10)))\n",
    "plt.show()"
   ]
  },
  {
   "cell_type": "markdown",
   "metadata": {},
   "source": [
    "## create a basic scatterplot"
   ]
  },
  {
   "cell_type": "code",
   "execution_count": null,
   "metadata": {
    "ExecuteTime": {
     "end_time": "2017-01-17T11:37:52.083655",
     "start_time": "2017-01-17T11:37:51.944068"
    },
    "collapsed": false
   },
   "outputs": [],
   "source": [
    "plt.figure(figsize=(2,2))\n",
    "plt.scatter(df.salary,df.age,color='b',marker='*')\n",
    "plt.show()"
   ]
  },
  {
   "cell_type": "markdown",
   "metadata": {},
   "source": [
    "## Modify different aspects of the plot"
   ]
  },
  {
   "cell_type": "code",
   "execution_count": null,
   "metadata": {
    "ExecuteTime": {
     "end_time": "2017-01-17T11:37:53.875044",
     "start_time": "2017-01-17T11:37:53.727045"
    },
    "collapsed": false,
    "scrolled": true
   },
   "outputs": [],
   "source": [
    "# plt.subplots allows you to control different aspects of multiple plots\n",
    "f,ax = plt.subplots(1,1,figsize=(4,2)) \n",
    "ax.scatter(df.salary,df.age,color='k',marker='o')\n",
    "# Setting limits on axes\n",
    "ax.set_xlim([40000,120000])\n",
    "ax.set_ylim([20,70])\n",
    "# Changing tick labels\n",
    "ax.set_xticklabels([str(int(tick)/1000)+'K' for tick in ax.get_xticks()])\n",
    "# changing label names\n",
    "ax.set_xlabel('salary')\n",
    "ax.set_ylabel('age')\n",
    "# changing the title\n",
    "ax.set_title('Scatterplot of age and salary')\n",
    "plt.show()"
   ]
  },
  {
   "cell_type": "code",
   "execution_count": null,
   "metadata": {
    "ExecuteTime": {
     "end_time": "2017-01-17T11:38:02.166670",
     "start_time": "2017-01-17T11:38:02.126824"
    },
    "collapsed": true
   },
   "outputs": [],
   "source": [
    "# save figure\n",
    "f.savefig('MyFirstPlot.png')"
   ]
  },
  {
   "cell_type": "markdown",
   "metadata": {},
   "source": [
    "## Create multiple plots"
   ]
  },
  {
   "cell_type": "code",
   "execution_count": null,
   "metadata": {
    "ExecuteTime": {
     "end_time": "2017-01-17T11:38:03.705759",
     "start_time": "2017-01-17T11:38:03.254451"
    },
    "collapsed": false
   },
   "outputs": [],
   "source": [
    "f,axs = plt.subplots(1,2,figsize=(15,5)) # create a plot figure, specify the size and number of figures.\n",
    "axs[0].scatter(df.age,df.salary,color='k',marker='o')\n",
    "axs[0].set_ylim([40000,120000])\n",
    "axs[0].set_xlim([20,70])\n",
    "axs[0].set_yticklabels([str(int(tick)/1000)+'K' for tick in axs[0].get_yticks()])\n",
    "axs[0].set_ylabel('salary')\n",
    "axs[0].set_xlabel('age')\n",
    "axs[0].set_title('Scatterplot of age and salary')\n",
    "\n",
    "axs[1].scatter(df.publications,df.salary,color='k',marker='o')\n",
    "axs[1].set_ylim([40000,120000])\n",
    "axs[1].set_xlim([20,70])\n",
    "axs[1].set_yticklabels([str(int(tick)/1000)+'K' for tick in axs[1].get_yticks()])\n",
    "\n",
    "axs[1].set_ylabel('salary')\n",
    "axs[1].set_xlabel('publications')\n",
    "axs[1].set_title('Scatterplot of publication and salary')\n",
    "\n",
    "f.suptitle('Scatterplots of salary and other factors')\n",
    "\n",
    "plt.show()"
   ]
  },
  {
   "cell_type": "markdown",
   "metadata": {},
   "source": [
    "# Seaborn\n",
    "Other great tutorials about seaborn are [here](http://nbviewer.jupyter.org/github/jakevdp/PythonDataScienceHandbook/blob/master/notebooks/04.14-Visualization-With-Seaborn.ipynb)"
   ]
  },
  {
   "cell_type": "code",
   "execution_count": null,
   "metadata": {
    "ExecuteTime": {
     "end_time": "2017-01-17T11:39:02.475391",
     "start_time": "2017-01-17T11:39:02.197461"
    },
    "collapsed": false
   },
   "outputs": [],
   "source": [
    "ax = sns.regplot(df.age,df.salary)\n",
    "ax.set_title('Salary and age')"
   ]
  },
  {
   "cell_type": "code",
   "execution_count": null,
   "metadata": {
    "ExecuteTime": {
     "end_time": "2017-01-17T11:38:10.712504",
     "start_time": "2017-01-17T11:38:10.190392"
    },
    "collapsed": false
   },
   "outputs": [],
   "source": [
    "sns.jointplot(\"age\", \"salary\", data=df, kind='reg');"
   ]
  },
  {
   "cell_type": "markdown",
   "metadata": {},
   "source": [
    "## Factor plots\n",
    "allow you to visualize the distribution of parameters in different forms such as point, bar, or violin graphs.\n",
    "\n",
    "kind : {point, bar, count, box, violin, strip}\n"
   ]
  },
  {
   "cell_type": "code",
   "execution_count": null,
   "metadata": {
    "ExecuteTime": {
     "end_time": "2017-01-17T11:38:49.333693",
     "start_time": "2017-01-17T11:38:48.871422"
    },
    "collapsed": false
   },
   "outputs": [],
   "source": [
    "sns.factorplot(x='departm',y='salary',hue='gender',data=df,ci=68,kind='bar')"
   ]
  },
  {
   "cell_type": "markdown",
   "metadata": {},
   "source": [
    "## Heatmap plots allow you to visualize relationships across variables"
   ]
  },
  {
   "cell_type": "code",
   "execution_count": null,
   "metadata": {
    "ExecuteTime": {
     "end_time": "2017-01-17T11:39:11.068402",
     "start_time": "2017-01-17T11:39:10.725763"
    },
    "collapsed": false
   },
   "outputs": [],
   "source": [
    "sns.heatmap(df[['salary','years','age','publications']].corr(),annot=True,linewidths=.5)"
   ]
  },
  {
   "cell_type": "code",
   "execution_count": null,
   "metadata": {
    "collapsed": true
   },
   "outputs": [],
   "source": []
  },
  {
   "cell_type": "markdown",
   "metadata": {
    "collapsed": true
   },
   "source": [
    "# Exercises ( Homework)\n",
    "The following exercises uses the dataset \"salary_exercise.csv\" adapted from material available [here](http://data.princeton.edu/wws509/datasets/#salary)\n",
    "\n",
    "These are the salary data used in Weisberg's book, consisting of observations on six variables for 52 tenure-track professors in a small college. The variables are:\n",
    "\n",
    "- sx = Sex, coded 1 for female and 0 for male\n",
    "- rk = Rank, coded\n",
    " - 1 for assistant professor,\n",
    " - 2 for associate professor, and\n",
    " - 3 for full professor\n",
    "- yr = Number of years in current rank\n",
    "- dg = Highest degree, coded 1 if doctorate, 0 if masters\n",
    "- yd = Number of years since highest degree was earned\n",
    "- sl = Academic year salary, in dollars.\n",
    "\n",
    "Reference: S. Weisberg (1985). Applied Linear Regression, Second Edition. New York: John Wiley and Sons. Page 194.\n",
    "\n",
    "## Exercise 1\n",
    "\n",
    "Read the salary_exercise.csv into a dataframe, and change the column names to a more readable format such as \n",
    "sex, rank, yearsinrank, degree, yearssinceHD, and salary. Exclude data points that has any missing value. What are the overall mean, standard deviation, min, and maximum of professors' salary? "
   ]
  },
  {
   "cell_type": "markdown",
   "metadata": {},
   "source": [
    "## Exercise 2\n",
    "Using the same data, what are the means and standard deviations of salary for different professor ranks? \n",
    "Create a new column on the original dataframe in which you calculate the standardized salary for each rank group. "
   ]
  },
  {
   "cell_type": "markdown",
   "metadata": {},
   "source": [
    "## Exercise 3\n",
    "Recreate the plot shown in figure. \n",
    "On the left is a correlation of all parameters of only the male professors.\n",
    "On the right is the same but only for female professors. \n",
    "The colormap code used is 'RdBu_r'. Read the Docstrings on sns.heatmap or search the internet to figure out how to change the colormap, scale the colorbar, and create square line boundaries. \n",
    "Place titles for each plot as shown, and your name as the main title. \n",
    "\n",
    "![title](Figures/hw2-3.png)"
   ]
  },
  {
   "cell_type": "markdown",
   "metadata": {
    "ExecuteTime": {
     "end_time": "2017-01-16T23:41:49.021245",
     "start_time": "2017-01-16T23:41:49.018846"
    }
   },
   "source": [
    "## Exercise 4\n",
    "Recreate the following plot from the salary_exercise.csv dataset. \n",
    "Create a 1 x 2 subplot. \n",
    "On the left is a bar-errorbar of salary per gender. \n",
    "On the right is a scatterplot of salary on y-axis and years in rank on the x-axis.\n",
    "Set the axis limits as shown in the picture and modify their lables. \n",
    "Add axis label names. \n",
    "Add your name as the main title of the plot. \n",
    "\n",
    "![title](Figures/hw2-4.png)"
   ]
  }
 ],
 "metadata": {
  "kernelspec": {
   "display_name": "Python 2",
   "language": "python",
   "name": "python2"
  },
  "language_info": {
   "codemirror_mode": {
    "name": "ipython",
    "version": 2
   },
   "file_extension": ".py",
   "mimetype": "text/x-python",
   "name": "python",
   "nbconvert_exporter": "python",
   "pygments_lexer": "ipython2",
   "version": "2.7.12"
  },
  "toc": {
   "nav_menu": {
    "height": "44px",
    "width": "252px"
   },
   "navigate_menu": true,
   "number_sections": true,
   "sideBar": true,
   "threshold": 4,
   "toc_cell": false,
   "toc_section_display": "block",
   "toc_window_display": false
  }
 },
 "nbformat": 4,
 "nbformat_minor": 2
}
