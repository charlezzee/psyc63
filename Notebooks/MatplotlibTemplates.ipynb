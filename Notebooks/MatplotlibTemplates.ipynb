{
 "cells": [
  {
   "cell_type": "code",
   "execution_count": 3,
   "metadata": {
    "collapsed": true
   },
   "outputs": [],
   "source": [
    "%matplotlib inline\n",
    "import numpy as np\n",
    "import pandas as pd\n",
    "import matplotlib.pyplot as plt\n",
    "from scipy import stats\n",
    "\n",
    "def autolabel(rects):\n",
    "    # attach some text labels\n",
    "    for rect in rects:\n",
    "        height = rect.get_height()\n",
    "        ax.text(rect.get_x() + rect.get_width()/2., 1.05*height,\n",
    "                '%2.2f' % float(height),\n",
    "                ha='center', va='bottom')"
   ]
  },
  {
   "cell_type": "markdown",
   "metadata": {},
   "source": [
    "Simple Plots in Python\n",
    "\n",
    "In this tutorial we'll show you some basic templates of scientific plots using Python matplotlib.\n",
    "\n",
    "# Bar graphs with standard error bars for 1 group"
   ]
  },
  {
   "cell_type": "code",
   "execution_count": 27,
   "metadata": {
    "collapsed": false,
    "scrolled": true
   },
   "outputs": [
    {
     "data": {
      "image/png": "[encoded data removed]",
      "text/plain": [
       "<matplotlib.figure.Figure at 0x1198316d0>"
      ]
     },
     "metadata": {},
     "output_type": "display_data"
    }
   ],
   "source": [
    "# based on http://matplotlib.org/examples/api/barchart_demo.html\n",
    "\n",
    "# Make some fake data\n",
    "d = {'gender': np.hstack([np.ones(10), np.zeros(10)]), 'scores': np.hstack([np.random.rand(10), np.random.rand(10)+1])}\n",
    "df = pd.DataFrame(d)\n",
    "\n",
    "# Change this part and replace with the variables you want to plot and the grouping variable column name.\n",
    "vals = ['scores'] # This is the column name of the variable to plot on Y axis\n",
    "group = ['gender'] # This is the grouping variable for the X axis\n",
    "\n",
    "# Get means for each group\n",
    "means = df[vals+group].groupby(group).mean().squeeze()\n",
    "# Get standard error of means for each group\n",
    "sems = df[vals+group].groupby(group).sem().squeeze()\n",
    "\n",
    "fig,ax = plt.subplots(figsize=(10,5)) # Change figure size in (width,height)\n",
    "ind = np.arange(np.size(np.unique(df[group]),0)) # location of bars\n",
    "width = .5 # Width of bars\n",
    "# (bar x-location, bar heights, width=bar width, color=bar color, yerr=standard error,ecolor=errorbarcolor)\n",
    "rects1 = ax.bar(ind - width/2,means,width=.5,color='lightsalmon',yerr=sems,ecolor='blue') \n",
    "# Look up different colors here: http://stackoverflow.com/questions/22408237/named-colors-in-matplotlib\n",
    "\n",
    "# configure axes properties to make pretty\n",
    "ax.set_ylabel('scores')\n",
    "ax.set_xlabel('gender')\n",
    "ax.set_title('Scores by gender')\n",
    "ax.set_xticks(ind)\n",
    "ax.set_xticklabels(['Male','Female'])\n",
    "ax.set_xlim([-.5,1.5]) \n",
    "ax.set_ylim([0,2])\n",
    "\n",
    "# This part calls the function autolabel() defined above, and labels the bars with values\n",
    "autolabel(rects1)\n",
    "\n",
    "plt.show()"
   ]
  },
  {
   "cell_type": "markdown",
   "metadata": {},
   "source": [
    "# Bar graphs with standard error bars for 2 group"
   ]
  },
  {
   "cell_type": "code",
   "execution_count": 24,
   "metadata": {
    "collapsed": false
   },
   "outputs": [
    {
     "data": {
      "image/png": "[encoded data removed]",
      "text/plain": [
       "<matplotlib.figure.Figure at 0x11aa1cf50>"
      ]
     },
     "metadata": {},
     "output_type": "display_data"
    }
   ],
   "source": [
    "# Make some fake data\n",
    "d = {'race': np.random.permutation(np.hstack([np.ones(10), np.zeros(10)])), \n",
    "     'gender': np.hstack([np.ones(10), np.zeros(10)]), \n",
    "     'scores': np.hstack([np.random.rand(10), np.random.rand(10)+1])}\n",
    "df = pd.DataFrame(d)\n",
    "\n",
    "# Change this part and replace with the variables you want to plot and the grouping variable column name.\n",
    "val =['scores']\n",
    "group1 = ['gender']\n",
    "group2 = ['race']\n",
    "\n",
    "# Get means and sems for Gender group\n",
    "means1 = df[val+group1].groupby(group1).mean().squeeze()\n",
    "sems1 = df[val+group1].groupby(group1).sem().squeeze()\n",
    "# Get means and sems for Race group\n",
    "means2 = df[val+group2].groupby(group2).mean().squeeze()\n",
    "sems2 = df[val+group2].groupby(group2).sem().squeeze()\n",
    "\n",
    "fig,ax = plt.subplots(figsize=(10,5)) # Change figure size in (width,height)\n",
    "ind = np.array([0.,1.]) # location of bars\n",
    "width = .4 # Width of bars\n",
    "\n",
    "# plot score by gender\n",
    "rects1 = ax.bar(ind - width,means1,width,color='lightcoral',yerr=sems1,ecolor='k') # (bar x-location, bar heights, width=bar width, color=bar color, yerr=standard error)\n",
    "# plot score by race \n",
    "rects2 = ax.bar(ind,means2,width,color='lightblue',yerr=sems2,ecolor='k')\n",
    "\n",
    "# configure axes properties to make pretty\n",
    "ax.set_ylabel('scores')\n",
    "ax.set_xlabel('gender')\n",
    "ax.set_title('Scores by gender and race')\n",
    "ax.set_xticks(ind)\n",
    "ax.set_xticklabels(['Male','Female'])\n",
    "ax.set_xlim([ind[0]-width*1.25,ind[-1]+width*1.25]) \n",
    "ax.set_ylim([0,1.8])\n",
    "\n",
    "ax.legend(['Race0','Race1'])\n",
    "\n",
    "autolabel(rects1)\n",
    "autolabel(rects2)\n"
   ]
  },
  {
   "cell_type": "markdown",
   "metadata": {},
   "source": [
    "# Scatterplots of 1 group with jittered location\n",
    "\n",
    "If you try to plot something like a scaled data, you won't be able to see how clustered they are because they would just plot on top of each other. One way to avoid this is to jitter the x,y locations around the actual value."
   ]
  },
  {
   "cell_type": "code",
   "execution_count": 12,
   "metadata": {
    "collapsed": false,
    "scrolled": true
   },
   "outputs": [
    {
     "data": {
      "image/png": "[encoded data removed]",
      "text/plain": [
       "<matplotlib.figure.Figure at 0x10636fc50>"
      ]
     },
     "metadata": {},
     "output_type": "display_data"
    }
   ],
   "source": [
    "# Make some fake data\n",
    "d = {'race': np.random.permutation(np.hstack([np.ones(20), np.zeros(20)])),\n",
    "     'gender': np.hstack([np.ones(20), np.zeros(20)]), \n",
    "     'scores': np.round(10*np.hstack([np.random.rand(20), np.random.rand(20)+1]))}\n",
    "df = pd.DataFrame(d)\n",
    "ax = df.plot(kind='scatter',x='gender',y='scores')\n",
    "ax.set_title('Values are stacked')\n",
    "plt.show()"
   ]
  },
  {
   "cell_type": "markdown",
   "metadata": {},
   "source": [
    "Here is the fix. "
   ]
  },
  {
   "cell_type": "code",
   "execution_count": 15,
   "metadata": {
    "collapsed": false
   },
   "outputs": [
    {
     "data": {
      "image/png": "[encoded data removed]",
      "text/plain": [
       "<matplotlib.figure.Figure at 0x118e62fd0>"
      ]
     },
     "metadata": {},
     "output_type": "display_data"
    }
   ],
   "source": [
    "# Set x,y values for each group\n",
    "gender0 = 0 # value of first group\n",
    "y0 = df[['scores']].loc[df['gender']==gender0].values.squeeze() # Grabs y values for Gender =0\n",
    "y0 = y0+(np.random.rand(len(y0))-.5)*.1 #Change after + sign to control dispersion\n",
    "x0 = np.ones(len(y0))*gender0 +(np.random.rand(len(y0))-.5)*.1 #Change after + sign to control dispersion\n",
    "\n",
    "gender1 = 1 # value of second group\n",
    "y1 = df[['scores']].loc[df['gender']==gender1].values.squeeze()\n",
    "y1 = y1+(np.random.rand(len(y1))-.5)*.1\n",
    "x1 = np.ones(len(y1))*gender1 + (np.random.rand(len(y1))-.5)*.1\n",
    "\n",
    "fig,ax = plt.subplots(figsize=(5,5))\n",
    "ax.scatter(x0,y0,color='lightcoral')\n",
    "ax.scatter(x1,y1,color='lightcoral')\n",
    "ax.set_ylabel('scores')\n",
    "ax.set_xlabel('gender')\n",
    "ax.set_title('Values are now dispersed')\n",
    "ax.set_xticks([0,1])\n",
    "ax.set_xticklabels(['Male','Female'])\n",
    "ax.set_xlim([-.5,1.5]) \n",
    "ax.grid() # puts grid on\n",
    "plt.show()"
   ]
  },
  {
   "cell_type": "markdown",
   "metadata": {
    "collapsed": true
   },
   "source": [
    "# Drawing trend line on a scatterplot"
   ]
  },
  {
   "cell_type": "code",
   "execution_count": 20,
   "metadata": {
    "collapsed": false
   },
   "outputs": [
    {
     "name": "stdout",
     "output_type": "stream",
     "text": [
      "                            OLS Regression Results                            \n",
      "==============================================================================\n",
      "Dep. Variable:                 scores   R-squared:                       0.741\n",
      "Model:                            OLS   Adj. R-squared:                  0.734\n",
      "Method:                 Least Squares   F-statistic:                     108.6\n",
      "Date:                Wed, 25 May 2016   Prob (F-statistic):           1.07e-12\n",
      "Time:                        20:54:30   Log-Likelihood:                -100.33\n",
      "No. Observations:                  40   AIC:                             204.7\n",
      "Df Residuals:                      38   BIC:                             208.0\n",
      "Df Model:                           1                                         \n",
      "Covariance Type:            nonrobust                                         \n",
      "==============================================================================\n",
      "                 coef    std err          t      P>|t|      [95.0% Conf. Int.]\n",
      "------------------------------------------------------------------------------\n",
      "Intercept     15.6500      0.682     22.952      0.000        14.270    17.030\n",
      "gender       -10.0500      0.964    -10.422      0.000       -12.002    -8.098\n",
      "==============================================================================\n",
      "Omnibus:                        2.738   Durbin-Watson:                   1.787\n",
      "Prob(Omnibus):                  0.254   Jarque-Bera (JB):                1.632\n",
      "Skew:                          -0.223   Prob(JB):                        0.442\n",
      "Kurtosis:                       2.117   Cond. No.                         2.62\n",
      "==============================================================================\n",
      "\n",
      "Warnings:\n",
      "[1] Standard Errors assume that the covariance matrix of the errors is correctly specified.\n"
     ]
    }
   ],
   "source": [
    "import statsmodels.formula.api as smf\n",
    "import statsmodels.api as sm\n",
    "\n",
    "d = {'race': np.random.permutation(np.hstack([np.ones(20), np.zeros(20)])),\n",
    "     'gender': np.hstack([np.ones(20), np.zeros(20)]), \n",
    "     'scores': np.round(10*np.hstack([np.random.rand(20), np.random.rand(20)+1]))}\n",
    "df = pd.DataFrame(d)\n",
    "lm = smf.ols(formula = \"scores ~ gender\",data=df).fit()\n",
    "print lm.summary()\n",
    "\n",
    "# Save the slope for gender to b1 and intercept to b0\n",
    "b1 = lm.params[1] # This is slope\n",
    "b0 = lm.params[0] # This is intercept"
   ]
  },
  {
   "cell_type": "code",
   "execution_count": 19,
   "metadata": {
    "collapsed": false
   },
   "outputs": [
    {
     "data": {
      "image/png": "[encoded data removed]",
      "text/plain": [
       "<matplotlib.figure.Figure at 0x11a961410>"
      ]
     },
     "metadata": {},
     "output_type": "display_data"
    }
   ],
   "source": [
    "# Set x,y values for each group\n",
    "gender0 = 0 # value of first group\n",
    "y0 = df[['scores']].loc[df['gender']==gender0].values.squeeze()\n",
    "y0 = y0+(np.random.rand(len(y0))-.5)*.1 #Change after + sign to control dispersion\n",
    "x0 = np.ones(len(y0))*gender0 + (np.random.rand(len(y0))-.5)*.1 #Change after + sign to control dispersion\n",
    "\n",
    "gender1 = 1 # value of second group\n",
    "y1 = df[['scores']].loc[df['gender']==gender1].values.squeeze()\n",
    "y1 = y1+(np.random.rand(len(y1))-.5)*.1\n",
    "x1 = np.ones(len(y1))*gender1 + (np.random.rand(len(y1))-.5)*.1\n",
    "\n",
    "fig,ax = plt.subplots(figsize=(5,5))\n",
    "ax.scatter(x0,y0,color='lightcoral')\n",
    "ax.scatter(x1,y1,color='lightcoral')\n",
    "\n",
    "# Part that adds the line\n",
    "spacing = 10\n",
    "minx = df[['gender']].min().squeeze()\n",
    "maxx = df[['gender']].max().squeeze()\n",
    "lx = np.linspace(minx,maxx,spacing) # make x coordinates \n",
    "ly = b0+lx*b1 # Estimate the y values using betas\n",
    "ax.plot(lx,ly,'-k')\n",
    "\n",
    "ax.set_ylabel('scores')\n",
    "ax.set_xlabel('gender')\n",
    "ax.set_title('Values are now dispersed')\n",
    "ax.set_xticks([0,1])\n",
    "ax.set_xticklabels(['Male','Female'])\n",
    "ax.set_xlim([-.5,1.5]) \n",
    "ax.grid()\n",
    "plt.show()"
   ]
  },
  {
   "cell_type": "code",
   "execution_count": null,
   "metadata": {
    "collapsed": true
   },
   "outputs": [],
   "source": []
  },
  {
   "cell_type": "code",
   "execution_count": null,
   "metadata": {
    "collapsed": true
   },
   "outputs": [],
   "source": []
  }
 ],
 "metadata": {
  "kernelspec": {
   "display_name": "Python 2",
   "language": "python",
   "name": "python2"
  },
  "language_info": {
   "codemirror_mode": {
    "name": "ipython",
    "version": 2
   },
   "file_extension": ".py",
   "mimetype": "text/x-python",
   "name": "python",
   "nbconvert_exporter": "python",
   "pygments_lexer": "ipython2",
   "version": "2.7.11"
  }
 },
 "nbformat": 4,
 "nbformat_minor": 0
}
