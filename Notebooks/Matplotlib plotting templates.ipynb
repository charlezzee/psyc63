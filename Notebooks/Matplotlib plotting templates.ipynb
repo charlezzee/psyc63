{
 "cells": [
  {
   "cell_type": "code",
   "execution_count": 2,
   "metadata": {
    "collapsed": true
   },
   "outputs": [],
   "source": [
    "%matplotlib inline\n",
    "import numpy as np\n",
    "import pandas as pd\n",
    "import matplotlib.pyplot as plt\n",
    "from scipy import stats\n",
    "\n",
    "def autolabel(rects):\n",
    "    # attach some text labels\n",
    "    for rect in rects:\n",
    "        height = rect.get_height()\n",
    "        ax.text(rect.get_x() + rect.get_width()/2., 1.05*height,\n",
    "                '%2.2f' % float(height),\n",
    "                ha='center', va='bottom')"
   ]
  },
  {
   "cell_type": "markdown",
   "metadata": {},
   "source": [
    "Simple Plots in Python\n",
    "\n",
    "In this tutorial we'll show you some basic templates of scientific plots using Python matplotlib.\n",
    "\n",
    "# Bar graphs with standard error bars for 1 group"
   ]
  },
  {
   "cell_type": "code",
   "execution_count": 15,
   "metadata": {
    "collapsed": false
   },
   "outputs": [
    {
     "name": "stdout",
     "output_type": "stream",
     "text": [
      "    gender    scores\n",
      "0      1.0  0.612318\n",
      "1      1.0  0.217740\n",
      "2      1.0  0.697178\n",
      "3      1.0  0.800421\n",
      "4      1.0  0.512660\n",
      "5      1.0  0.211649\n",
      "6      1.0  0.996258\n",
      "7      1.0  0.434187\n",
      "8      1.0  0.589177\n",
      "9      1.0  0.377102\n",
      "10     0.0  1.863534\n",
      "11     0.0  1.132871\n",
      "12     0.0  1.612537\n",
      "13     0.0  1.446522\n",
      "14     0.0  1.735552\n",
      "15     0.0  1.800160\n",
      "16     0.0  1.780915\n",
      "17     0.0  1.612132\n",
      "18     0.0  1.204805\n",
      "19     0.0  1.415219\n"
     ]
    },
    {
     "data": {
      "image/png": "[encoded data removed]",
      "text/plain": [
       "<matplotlib.figure.Figure at 0x11898e8d0>"
      ]
     },
     "metadata": {},
     "output_type": "display_data"
    }
   ],
   "source": [
    "# based on http://matplotlib.org/examples/api/barchart_demo.html\n",
    "\n",
    "# Make some fake data\n",
    "d = {'gender': np.hstack([np.ones(10), np.zeros(10)]), 'scores': np.hstack([np.random.rand(10), np.random.rand(10)+1])}\n",
    "df = pd.DataFrame(d)\n",
    "print df\n",
    "# Get means for each group\n",
    "means = df[['gender','scores']].groupby(['gender']).mean().squeeze()\n",
    "# Get standard error of means for each group\n",
    "sems = df[['gender','scores']].groupby(['gender']).sem().squeeze()\n",
    "\n",
    "fig,ax = plt.subplots(figsize=(10,5)) # Change figure size in (width,height)\n",
    "ind = np.array([0.,1.]) # location of bars\n",
    "width = .5 # Width of bars\n",
    "# (bar x-location, bar heights, width=bar width, color=bar color, yerr=standard error)\n",
    "rects1 = ax.bar(ind - width/2,means,width=.5,color='blue',yerr=sems) \n",
    "\n",
    "# configure axes properties to make pretty\n",
    "ax.set_ylabel('scores')\n",
    "ax.set_xlabel('gender')\n",
    "ax.set_title('Scores by gender')\n",
    "ax.set_xticks(ind)\n",
    "ax.set_xticklabels(['Male','Female'])\n",
    "ax.set_xlim([-.5,1.5]) \n",
    "ax.set_ylim([0,2])\n",
    "\n",
    "autolabel(rects1)\n",
    "\n",
    "plt.show()"
   ]
  },
  {
   "cell_type": "markdown",
   "metadata": {},
   "source": [
    "# Bar graphs with standard error bars for 2 group"
   ]
  },
  {
   "cell_type": "code",
   "execution_count": 4,
   "metadata": {
    "collapsed": false
   },
   "outputs": [
    {
     "name": "stdout",
     "output_type": "stream",
     "text": [
      "    gender  race    scores\n",
      "0      1.0   0.0  0.794679\n",
      "1      1.0   0.0  0.796167\n",
      "2      1.0   0.0  0.417671\n",
      "3      1.0   1.0  0.687146\n",
      "4      1.0   1.0  0.124675\n",
      "5      1.0   1.0  0.130264\n",
      "6      1.0   1.0  0.288716\n",
      "7      1.0   1.0  0.912089\n",
      "8      1.0   1.0  0.202408\n",
      "9      1.0   0.0  0.256710\n",
      "10     0.0   0.0  1.109480\n",
      "11     0.0   1.0  1.190513\n",
      "12     0.0   1.0  1.454644\n",
      "13     0.0   0.0  1.004136\n",
      "14     0.0   0.0  1.629933\n",
      "15     0.0   1.0  1.720945\n",
      "16     0.0   0.0  1.632386\n",
      "17     0.0   0.0  1.023691\n",
      "18     0.0   1.0  1.695903\n",
      "19     0.0   0.0  1.009198\n"
     ]
    },
    {
     "data": {
      "image/png": "[encoded data removed]",
      "text/plain": [
       "<matplotlib.figure.Figure at 0x118382c90>"
      ]
     },
     "metadata": {},
     "output_type": "display_data"
    }
   ],
   "source": [
    "# Make some fake data\n",
    "d = {'race': np.random.permutation(np.hstack([np.ones(10), np.zeros(10)])), \n",
    "     'gender': np.hstack([np.ones(10), np.zeros(10)]), \n",
    "     'scores': np.hstack([np.random.rand(10), np.random.rand(10)+1])}\n",
    "df = pd.DataFrame(d)\n",
    "print df\n",
    "\n",
    "# Get means and sems for Gender group\n",
    "means1 = df[['gender','scores']].groupby(['gender']).mean().squeeze()\n",
    "sems1 = df[['gender','scores']].groupby(['gender']).sem().squeeze()\n",
    "# Get means and sems for Race group\n",
    "means2 = df[['race','scores']].groupby(['race']).mean().squeeze()\n",
    "sems2 = df[['race','scores']].groupby(['race']).sem().squeeze()\n",
    "\n",
    "fig,ax = plt.subplots(figsize=(10,5)) # Change figure size in (width,height)\n",
    "ind = np.array([0.,1.]) # location of bars\n",
    "width = .4 # Width of bars\n",
    "\n",
    "# plot score by gender\n",
    "rects1 = ax.bar(ind - width,means1,width,color='lightcoral',yerr=sems1) # (bar x-location, bar heights, width=bar width, color=bar color, yerr=standard error)\n",
    "# plot score by race \n",
    "rects2 = ax.bar(ind,means2,width,color='lightblue',yerr=sems2)\n",
    "\n",
    "\n",
    "# configure axes properties to make pretty\n",
    "ax.set_ylabel('scores')\n",
    "ax.set_xlabel('gender')\n",
    "ax.set_title('Scores by gender and race')\n",
    "ax.set_xticks(ind)\n",
    "ax.set_xticklabels(['Male','Female'])\n",
    "ax.set_xlim([ind[0]-width*1.25,ind[-1]+width*1.25]) \n",
    "ax.set_ylim([0,1.8])\n",
    "\n",
    "ax.legend(['Race0','Race1'])\n",
    "\n",
    "autolabel(rects1)\n",
    "autolabel(rects2)\n"
   ]
  },
  {
   "cell_type": "markdown",
   "metadata": {},
   "source": [
    "# Scatterplots of 1 group with jittered location\n",
    "\n",
    "If you try to plot something like a scaled data, you won't be able to see how clustered they are because they would just plot on top of each other. One way to avoid this is to jitter the x,y locations around the actual value."
   ]
  },
  {
   "cell_type": "code",
   "execution_count": 16,
   "metadata": {
    "collapsed": false,
    "scrolled": true
   },
   "outputs": [
    {
     "data": {
      "image/png": "[encoded data removed]",
      "text/plain": [
       "<matplotlib.figure.Figure at 0x118b82410>"
      ]
     },
     "metadata": {},
     "output_type": "display_data"
    }
   ],
   "source": [
    "# Make some fake data\n",
    "d = {'race': np.random.permutation(np.hstack([np.ones(20), np.zeros(20)])),\n",
    "     'gender': np.hstack([np.ones(20), np.zeros(20)]), \n",
    "     'scores': np.round(10*np.hstack([np.random.rand(20), np.random.rand(20)+1]))}\n",
    "df = pd.DataFrame(d)\n",
    "ax = df.plot(kind='scatter',x='gender',y='scores')\n",
    "ax.set_title('Values are stacked')\n",
    "plt.show()"
   ]
  },
  {
   "cell_type": "markdown",
   "metadata": {},
   "source": [
    "Here is the fix. "
   ]
  },
  {
   "cell_type": "code",
   "execution_count": 17,
   "metadata": {
    "collapsed": false
   },
   "outputs": [
    {
     "data": {
      "image/png": "[encoded data removed]",
      "text/plain": [
       "<matplotlib.figure.Figure at 0x118e34150>"
      ]
     },
     "metadata": {},
     "output_type": "display_data"
    }
   ],
   "source": [
    "# Set x,y values for each group\n",
    "gender0 = 0 # value of first group\n",
    "y0 = df[['scores']].loc[df['gender']==gender0].values.squeeze()\n",
    "y0 = y0+np.random.rand(len(y0))*.1 #Change after + sign to control dispersion\n",
    "x0 = np.ones(len(y0))*gender0 +np.random.rand(len(y0))*.1 #Change after + sign to control dispersion\n",
    "\n",
    "gender1 = 1 # value of second group\n",
    "y1 = df[['scores']].loc[df['gender']==gender1].values.squeeze()\n",
    "y1 = y1+np.random.rand(len(y1))*.1\n",
    "x1 = np.ones(len(y1))*gender1 + np.random.rand(len(y1))*.1\n",
    "\n",
    "fig,ax = plt.subplots(figsize=(5,5))\n",
    "ax.scatter(x0,y0,color='lightcoral')\n",
    "ax.scatter(x1,y1,color='lightcoral')\n",
    "ax.set_ylabel('scores')\n",
    "ax.set_xlabel('gender')\n",
    "ax.set_title('Values are now dispersed')\n",
    "ax.set_xticks([0,1])\n",
    "ax.set_xticklabels(['Male','Female'])\n",
    "ax.set_xlim([-.5,1.5]) \n",
    "plt.show()"
   ]
  },
  {
   "cell_type": "code",
   "execution_count": null,
   "metadata": {
    "collapsed": true
   },
   "outputs": [],
   "source": []
  }
 ],
 "metadata": {
  "kernelspec": {
   "display_name": "Python 2",
   "language": "python",
   "name": "python2"
  },
  "language_info": {
   "codemirror_mode": {
    "name": "ipython",
    "version": 2
   },
   "file_extension": ".py",
   "mimetype": "text/x-python",
   "name": "python",
   "nbconvert_exporter": "python",
   "pygments_lexer": "ipython2",
   "version": "2.7.11"
  }
 },
 "nbformat": 4,
 "nbformat_minor": 0
}
