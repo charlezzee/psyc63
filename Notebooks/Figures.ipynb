{
 "cells": [
  {
   "cell_type": "code",
   "execution_count": 5,
   "metadata": {
    "collapsed": true
   },
   "outputs": [],
   "source": [
    "%matplotlib inline\n",
    "import matplotlib.pyplot as plt\n",
    "import numpy as np\n",
    "import pandas as pd"
   ]
  },
  {
   "cell_type": "code",
   "execution_count": 20,
   "metadata": {
    "collapsed": false
   },
   "outputs": [
    {
     "data": {
      "image/png": "[encoded data removed]",
      "text/plain": [
       "<matplotlib.figure.Figure at 0x107a45610>"
      ]
     },
     "metadata": {},
     "output_type": "display_data"
    }
   ],
   "source": [
    "mn=pd.DataFrame({'Expansive':[86.36], 'Contractive':[60]},index=None)\n",
    "mn.plot(kind='bar')\n",
    "plt.ylabel('Percent RiskTaking')\n",
    "plt.xlabel('Condition')\n",
    "plt.savefig('/Users/lukechang/Dropbox/Dartmouth/Teaching/Psych63_SocialPsychMethods/Lectures/Figures/Cuddy_Risk.png')"
   ]
  },
  {
   "cell_type": "code",
   "execution_count": 8,
   "metadata": {
    "collapsed": true
   },
   "outputs": [],
   "source": [
    "mn=pd.DataFrame({'Expansive':[2.57], 'Contractive':[1.83]},index=None)\n",
    "sd = pd.DataFrame({'Expansive':[.81], 'Contractive':[.81]},index=None)\n",
    "n=21\n",
    "se = sd/np.sqrt(n)\n",
    "mn.plot(kind='bar',yerr=se)\n",
    "plt.ylabel('Feelings of Power')\n",
    "plt.xlabel('Condition')\n",
    "plt.savefig('/Users/lukechang/Dropbox/Dartmouth/Teaching/Psych63_SocialPsychMethods/Lectures/Figures/Cuddy_Power.png')"
   ]
  },
  {
   "cell_type": "code",
   "execution_count": 16,
   "metadata": {
    "collapsed": false
   },
   "outputs": [
    {
     "data": {
      "text/plain": [
       "array([ 0.17675649,  0.17675649])"
      ]
     },
     "execution_count": 16,
     "metadata": {},
     "output_type": "execute_result"
    }
   ],
   "source": [
    "se"
   ]
  },
  {
   "cell_type": "code",
   "execution_count": null,
   "metadata": {
    "collapsed": true
   },
   "outputs": [],
   "source": []
  }
 ],
 "metadata": {
  "kernelspec": {
   "display_name": "Python 2",
   "language": "python",
   "name": "python2"
  },
  "language_info": {
   "codemirror_mode": {
    "name": "ipython",
    "version": 2
   },
   "file_extension": ".py",
   "mimetype": "text/x-python",
   "name": "python",
   "nbconvert_exporter": "python",
   "pygments_lexer": "ipython2",
   "version": "2.7.10"
  }
 },
 "nbformat": 4,
 "nbformat_minor": 0
}
