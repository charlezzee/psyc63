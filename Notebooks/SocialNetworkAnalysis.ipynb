{
 "cells": [
  {
   "cell_type": "code",
   "execution_count": 48,
   "metadata": {
    "collapsed": false
   },
   "outputs": [],
   "source": [
    "import pickle, os\n",
    "import pymongo as pm\n",
    "import sys\n",
    "import numpy as np\n",
    "import pandas as pd\n",
    "import matplotlib.pyplot as plt\n",
    "import seaborn as sns\n",
    "import cPickle as pickle\n",
    "import json\n",
    "import os\n",
    "%matplotlib inline"
   ]
  },
  {
   "cell_type": "code",
   "execution_count": 58,
   "metadata": {
    "collapsed": false
   },
   "outputs": [],
   "source": [
    "dbName = '13May16' #replace this with most recent db created from running pickleFNL.py\n",
    "subPath = os.path.join('../Data/',dbName,'subjects.p')\n",
    "userPath = os.path.join('../Data/',dbName,'users.p')\n",
    "Subjects = pickle.load(open('../Data/13May16/subjects.p','rb'))\n",
    "Users = pickle.load(open('../Data/13May16/users.p','rb'))\n",
    "\n",
    "#Test user accounts to ignore\n",
    "testUsers = ['ejolly@test.com','test@test.com','aratidoo@gmail.com','anna.t.prescott.gr@dartmouth.edu']\n",
    "userIds = {}\n",
    "for user in Users:\n",
    "    email = user['emails'][0]['address']\n",
    "    if email not in testUsers:\n",
    "        meteorID = user['_id']\n",
    "        userIds[email] = meteorID\n",
    "\n",
    "#Filter out test users from actual data\n",
    "for i, sub in enumerate(Subjects):\n",
    "    if sub['_id'] not in userIds.values():\n",
    "        Subjects.pop(i)\n",
    "Subjects = pd.DataFrame(Subjects)"
   ]
  },
  {
   "cell_type": "code",
   "execution_count": 52,
   "metadata": {
    "collapsed": false
   },
   "outputs": [],
   "source": [
    "#Define some helper functions, one to get the data for a particular question type and the other to plot, and then one to call both\n",
    "def getDim(dim,subs = Subjects):\n",
    "    out = []\n",
    "    for i,s in subs.iterrows():\n",
    "        eData = pd.DataFrame(s['episodeData'])\n",
    "        dimData = pd.concat([pd.Series(eData.ix[dim,i]) for i in xrange(eData.shape[1])],axis=1)\n",
    "        out.append(dimData)\n",
    "    return out \n",
    "\n",
    "def plotDim(data,key):    \n",
    "    fig,axes = plt.subplots(len(data),1,figsize = (20,20));\n",
    "    #Find out who's watched farthest for adjusting the plots\n",
    "    maxEp = max([elem.shape[1] for elem in data])\n",
    "\n",
    "    for i, sub in enumerate(data):\n",
    "        ax = sub.T.plot(ax=axes[i],legend=False)\n",
    "        ax.set_xticks(xrange(maxEp));\n",
    "        ax.set_xticklabels(['ep'+ str(i) for i in xrange(1,maxEp+1)],fontsize=14);\n",
    "    #Axes for just 1\n",
    "    axes[0].legend(loc='upper center', bbox_to_anchor=(0.5, 1.5),\n",
    "              ncol=5, fontsize= 14)\n",
    "    plt.suptitle('Dimension: ' + key, fontsize=25);\n",
    "\n",
    "def plotEpisodeData(dimension):\n",
    "    data = getDim(dimension)\n",
    "    plotDim(data,dimension)"
   ]
  },
  {
   "cell_type": "code",
   "execution_count": 59,
   "metadata": {
    "collapsed": false
   },
   "outputs": [
    {
     "name": "stdout",
     "output_type": "stream",
     "text": [
      "['annoy', 'attractive', 'be', 'care', 'friends', 'like', 'likePair', 'listenPair', 'relate', 'remind', 'trustPair']\n"
     ]
    }
   ],
   "source": [
    "#Here are the different questions we asked\n",
    "keys = pd.DataFrame(Subjects.ix[0,'episodeData']).index.values\n",
    "print [str(key) for key in keys]"
   ]
  },
  {
   "cell_type": "code",
   "execution_count": 275,
   "metadata": {
    "collapsed": false
   },
   "outputs": [],
   "source": [
    "subj = 0\n",
    "data = getDim('likePair')\n",
    "data = data[subj]"
   ]
  },
  {
   "cell_type": "code",
   "execution_count": 283,
   "metadata": {
    "collapsed": false
   },
   "outputs": [],
   "source": [
    "edges =[]\n",
    "ep = 0\n",
    "test = data[[ep]]\n",
    "test.reset_index()\n",
    "for i in range(156):\n",
    "    x = test.index.values[i].split('_')\n",
    "    x[0] = str(x[0])\n",
    "    x[1] = str(x[1])\n",
    "    x.append(test[[ep]][0][i])\n",
    "    if test[[ep]][0][i] > 80:\n",
    "        edges.append(tuple(x))"
   ]
  },
  {
   "cell_type": "code",
   "execution_count": 289,
   "metadata": {
    "collapsed": false,
    "scrolled": true
   },
   "outputs": [
    {
     "data": {
      "image/png": "[encoded data removed]",
      "text/plain": [
       "<matplotlib.figure.Figure at 0x11e1fa4d0>"
      ]
     },
     "metadata": {},
     "output_type": "display_data"
    }
   ],
   "source": [
    "DG=nx.DiGraph()\n",
    "DG.add_weighted_edges_from(edges)\n",
    "\n",
    "edge_labels=dict([((u,v,),d['weight'])\n",
    "                 for u,v,d in DG.edges(data=True)])\n",
    "\n",
    "pos = nx.spring_layout(DG)\n",
    "nx.draw_networkx_edge_labels(DG,pos,edge_labels=edge_labels)\n",
    "nx.draw(DG,pos,node_size=500,with_labels=True)"
   ]
  },
  {
   "cell_type": "code",
   "execution_count": 290,
   "metadata": {
    "collapsed": false
   },
   "outputs": [
    {
     "data": {
      "text/plain": [
       "['CoachTaylor', 'LylaGarrity']"
      ]
     },
     "execution_count": 290,
     "metadata": {},
     "output_type": "execute_result"
    }
   ],
   "source": [
    "DG.successors('JasonStreet')"
   ]
  },
  {
   "cell_type": "code",
   "execution_count": null,
   "metadata": {
    "collapsed": true
   },
   "outputs": [],
   "source": []
  }
 ],
 "metadata": {
  "kernelspec": {
   "display_name": "Python 2",
   "language": "python",
   "name": "python2"
  },
  "language_info": {
   "codemirror_mode": {
    "name": "ipython",
    "version": 2
   },
   "file_extension": ".py",
   "mimetype": "text/x-python",
   "name": "python",
   "nbconvert_exporter": "python",
   "pygments_lexer": "ipython2",
   "version": "2.7.11"
  }
 },
 "nbformat": 4,
 "nbformat_minor": 0
}
