{
 "cells": [
  {
   "cell_type": "markdown",
   "metadata": {},
   "source": [
    "### Find Even Numbers\n",
    "Let’s say I give you a list saved in a variable: a = [1, 4, 9, 16, 25, 36, 49, 64, 81, 100]. Make a new list that has only the even elements of this list in it."
   ]
  },
  {
   "cell_type": "code",
   "execution_count": 6,
   "metadata": {
    "ExecuteTime": {
     "end_time": "2017-01-13T09:51:05.868010",
     "start_time": "2017-01-13T09:51:05.863321"
    },
    "collapsed": false
   },
   "outputs": [
    {
     "name": "stdout",
     "output_type": "stream",
     "text": [
      "[4, 16, 36, 64, 100]\n"
     ]
    }
   ],
   "source": [
    "a = [1, 4, 9, 16, 25, 36, 49, 64, 81, 100]\n",
    "even_a = [n for n in a if n%2==0] # For every number in array I check if it divides evenly by 2.\n",
    "print even_a"
   ]
  },
  {
   "cell_type": "markdown",
   "metadata": {},
   "source": [
    "### Find Maximal Range\n",
    "Given an array length 1 or more of ints, return the difference between the largest and smallest values in the array. "
   ]
  },
  {
   "cell_type": "code",
   "execution_count": 91,
   "metadata": {
    "ExecuteTime": {
     "end_time": "2017-01-13T10:19:46.161296",
     "start_time": "2017-01-13T10:19:46.155015"
    },
    "collapsed": false
   },
   "outputs": [
    {
     "name": "stdout",
     "output_type": "stream",
     "text": [
      "[-10  -9  -5  -5  -5  -4  -3  -2  -1   1   1   2   2   3   5   6   8  10\n",
      "  15  18]\n",
      "28\n"
     ]
    }
   ],
   "source": [
    "import numpy as np\n",
    "import random\n",
    "\n",
    "np.random.seed(seed = 1) # This is to ensure everyone gets same results\n",
    "array = np.random.randint(low = -10,high = 20,size = 20) # create a random list of integers. \n",
    "print np.sort(array) # check array\n",
    "diff = array.max() - array.min() # Subtract minimum value from max value.\n",
    "print diff # print result"
   ]
  },
  {
   "cell_type": "code",
   "execution_count": 92,
   "metadata": {
    "ExecuteTime": {
     "end_time": "2017-01-13T10:20:08.421793",
     "start_time": "2017-01-13T10:20:08.417996"
    },
    "collapsed": true
   },
   "outputs": [],
   "source": [
    "# This is how to check the docstring of the function. \n",
    "np.random.randint?"
   ]
  },
  {
   "cell_type": "markdown",
   "metadata": {},
   "source": [
    "### Duplicated Numbers\n",
    "Find the numbers in list a that are also in list b\n",
    "\n",
    "a = [0, 1, 4, 9, 16, 25, 36, 49, 64, 81, 100, 121, 144, 169, 196, 225, 256, 289, 324, 361]\n",
    "\n",
    "b = [0, 4, 16, 36, 64, 100, 144, 196, 256, 324]"
   ]
  },
  {
   "cell_type": "code",
   "execution_count": 48,
   "metadata": {
    "ExecuteTime": {
     "end_time": "2017-01-13T09:58:37.201908",
     "start_time": "2017-01-13T09:58:37.196628"
    },
    "collapsed": false
   },
   "outputs": [
    {
     "name": "stdout",
     "output_type": "stream",
     "text": [
      "[0, 64, 4, 16, 256, 144, 196, 324, 36, 100]\n"
     ]
    }
   ],
   "source": [
    "a = [0, 1, 4, 9, 16, 25, 36, 49, 64, 81, 100, 121, 144, 169, 196, 225, 256, 289, 324, 361]\n",
    "b = [0, 4, 16, 36, 64, 100, 144, 196, 256, 324]\n",
    "aandb = list(set(a) & set(b)) # Change lists to 'set' and get intersection, then change back to list.\n",
    "print aandb"
   ]
  },
  {
   "cell_type": "markdown",
   "metadata": {},
   "source": [
    "### Speeding Ticket Fine\n",
    "You are driving a little too fast on the highway, and a police officer stops you. Write a function that takes the speed as an input and returns the fine.  Your function must use a dictionary.\n",
    "\n",
    "\n",
    "If speed is 60 or less, the result is `$0`. If speed is between 61 and 80 inclusive, the result is `$100`. If speed is 81 or more, the result is `$500`. \n"
   ]
  },
  {
   "cell_type": "code",
   "execution_count": 99,
   "metadata": {
    "ExecuteTime": {
     "end_time": "2017-01-13T10:25:40.547283",
     "start_time": "2017-01-13T10:25:40.540975"
    },
    "collapsed": false
   },
   "outputs": [],
   "source": [
    "import numpy as np\n",
    "def fine_calc(speed = 0,finerule = {500: (81,np.Inf), 100: (61,80), 0: (-np.inf,60)}):\n",
    "    '''Returns what the speed fine is depending on the speed\n",
    "    Input:\n",
    "        speed: speed of the car as a float or integer\n",
    "        finerule: Dictionary with fine amounts as keys and the corresponding speed intervals.\n",
    "    Output: \n",
    "        fine : speeding ticket fine\n",
    "    '''\n",
    "    speed = np.round(speed) # round speed to the nearest integer.\n",
    "    fine = None # initialize fine\n",
    "    for key in finerule.keys(): # For each fine amounts\n",
    "        if (finerule[key][0] <= speed ) and (speed <= finerule[key][1]): # check if speed is in the interval\n",
    "            fine = key # replace fine amount with correct amount.\n",
    "    return fine"
   ]
  },
  {
   "cell_type": "code",
   "execution_count": 100,
   "metadata": {
    "ExecuteTime": {
     "end_time": "2017-01-13T10:25:41.043374",
     "start_time": "2017-01-13T10:25:41.037961"
    },
    "collapsed": false
   },
   "outputs": [
    {
     "name": "stdout",
     "output_type": "stream",
     "text": [
      "Fine is $0 at speed 40\n",
      "Fine is $0 at speed 50\n",
      "Fine is $0 at speed 60\n",
      "Fine is $100 at speed 70\n",
      "Fine is $100 at speed 80\n",
      "Fine is $500 at speed 90\n",
      "Fine is $500 at speed 100\n",
      "Fine is $500 at speed 110\n"
     ]
    }
   ],
   "source": [
    "for speed in range(40,120,10):\n",
    "    print 'Fine is $' +str(fine_calc(speed=speed)) + ' at speed ' + str(speed)"
   ]
  },
  {
   "cell_type": "code",
   "execution_count": null,
   "metadata": {
    "collapsed": true
   },
   "outputs": [],
   "source": []
  }
 ],
 "metadata": {
  "anaconda-cloud": {},
  "kernelspec": {
   "display_name": "Python [conda root]",
   "language": "python",
   "name": "conda-root-py"
  },
  "language_info": {
   "codemirror_mode": {
    "name": "ipython",
    "version": 2
   },
   "file_extension": ".py",
   "mimetype": "text/x-python",
   "name": "python",
   "nbconvert_exporter": "python",
   "pygments_lexer": "ipython2",
   "version": "2.7.13"
  },
  "toc": {
   "nav_menu": {
    "height": "83px",
    "width": "252px"
   },
   "navigate_menu": true,
   "number_sections": true,
   "sideBar": true,
   "threshold": 4,
   "toc_cell": false,
   "toc_section_display": "block",
   "toc_window_display": false
  }
 },
 "nbformat": 4,
 "nbformat_minor": 2
}
