{
 "cells": [
  {
   "cell_type": "markdown",
   "metadata": {
    "deletable": true,
    "editable": true
   },
   "source": [
    "# Social Network Analysis \n",
    "Written by Jin Cheong & Luke Chang\n"
   ]
  },
  {
   "cell_type": "code",
   "execution_count": null,
   "metadata": {
    "ExecuteTime": {
     "end_time": "2017-02-13T09:24:16.143566",
     "start_time": "2017-02-13T09:24:15.172556"
    },
    "collapsed": false,
    "deletable": true,
    "editable": true
   },
   "outputs": [],
   "source": [
    "%matplotlib inline\n",
    "\n",
    "import numpy as np\n",
    "import matplotlib.pyplot as plt\n",
    "try:\n",
    "    import networkx as nx\n",
    "except:\n",
    "    # Install NetworkX\n",
    "    !pip install networkx"
   ]
  },
  {
   "cell_type": "markdown",
   "metadata": {
    "deletable": true,
    "editable": true
   },
   "source": [
    "# Primer to Network Analysis\n",
    "\n",
    "A network is made up of two main components: nodes and edges. \n",
    "\n",
    "The nodes are the individuals, words, or entities that compose a network, and the edges are the links that connect one node to another. \n",
    "\n",
    "Here is an example of a node and an edge.\n",
    "\n",
    "<img src=\"Figures/nodeedge.png\">\n",
    "\n",
    "Now we can try drawing our own network using the NetworkX package.\n",
    "Let's start off by initializing a Network, and call it G. "
   ]
  },
  {
   "cell_type": "code",
   "execution_count": null,
   "metadata": {
    "ExecuteTime": {
     "end_time": "2017-02-13T09:24:16.148155",
     "start_time": "2017-02-13T09:24:16.145064"
    },
    "collapsed": true,
    "deletable": true,
    "editable": true
   },
   "outputs": [],
   "source": [
    "# Initialize Graph object\n",
    "G = nx.Graph()"
   ]
  },
  {
   "cell_type": "markdown",
   "metadata": {
    "deletable": true,
    "editable": true
   },
   "source": [
    "Now we can add a node using the .add_node('nodename') method"
   ]
  },
  {
   "cell_type": "code",
   "execution_count": null,
   "metadata": {
    "ExecuteTime": {
     "end_time": "2017-02-13T09:24:16.291054",
     "start_time": "2017-02-13T09:24:16.149742"
    },
    "collapsed": false,
    "deletable": true,
    "editable": true
   },
   "outputs": [],
   "source": [
    "G = nx.Graph()\n",
    "G.add_node('Jin')\n",
    "G.add_node('Luke')\n",
    "G.add_node('Eshin')\n",
    "plt.figure(figsize=(5,3))\n",
    "nx.draw(G,with_labels=True,node_size=5000,font_size=20,alpha=.5)"
   ]
  },
  {
   "cell_type": "markdown",
   "metadata": {
    "deletable": true,
    "editable": true
   },
   "source": [
    "Notice there are no connections between the two nodes because we haven't added any edges yet.\n",
    "\n",
    "To add edges between nodes, for example node1 and node 2, we can use the .add_edge('node1','node2') method on our graph."
   ]
  },
  {
   "cell_type": "code",
   "execution_count": null,
   "metadata": {
    "ExecuteTime": {
     "end_time": "2017-02-13T09:24:16.452812",
     "start_time": "2017-02-13T09:24:16.292498"
    },
    "collapsed": false,
    "deletable": true,
    "editable": true,
    "scrolled": true
   },
   "outputs": [],
   "source": [
    "G = nx.Graph()\n",
    "G.add_edge('Jin','Luke',weight=1)\n",
    "G.add_edge('Jin','Eshin',weight=1)\n",
    "G.add_edge('Luke','Eshin',weight=1)\n",
    "plt.figure(figsize=(5,3))\n",
    "pos = nx.spring_layout(G) # One way of specifiying a layout for nodes.\n",
    "nx.draw(G,pos,with_labels=True,node_size=5000,font_size=20,alpha=.5)"
   ]
  },
  {
   "cell_type": "markdown",
   "metadata": {
    "deletable": true,
    "editable": true
   },
   "source": [
    "Now you can see that we have an edge connecting Jin and Luke. \n",
    "\n",
    "There are several different types of graphs.\n",
    "\n",
    "1. **weighted** vs **unweighted** graphs\n",
    "    - a graph is said to be **unweighted** if every connection is either 1 or 0\n",
    "    - it is **weighted** if the edges take on other values indicating the strength of the relationship.\n",
    "\n",
    "\n",
    "2. **directed** vs **undirected** graphs\n",
    "    - a graphs is **undirected** if the edges are symmetrical\n",
    "    - it is **directed** if the edges are asymmetrical, meaning that each edge can indicate the direction of the relationship\n",
    "\n",
    "For simplicity, today we will only cover unweighted and undirected graphs.  "
   ]
  },
  {
   "cell_type": "markdown",
   "metadata": {},
   "source": [
    "There are multiple ways to indicate nodes and edges in a graph.  \n",
    "As illustrated above, we can manually add each node and edge.  This approach is fine for small graphs, but won't scale well.  It is also possible to add nodes is to use a python dictionary.\n",
    "The key is the node and the values indicate what that key(node) connects to. "
   ]
  },
  {
   "cell_type": "code",
   "execution_count": null,
   "metadata": {
    "ExecuteTime": {
     "end_time": "2017-02-13T09:24:16.903054",
     "start_time": "2017-02-13T09:24:16.454433"
    },
    "collapsed": false,
    "deletable": true,
    "editable": true
   },
   "outputs": [],
   "source": [
    "d = {'Jin':['Luke','Eshin','Antonia','Andy','Sophie','Rob','Charlie','Vanessa'], \n",
    "     'Luke':['Eshin','Antonia','Seth','Andy','Sophie','Rob','Charlie','Vanessa'],\n",
    "     'Antonia':['Luke','Jin','Eshin','Seth','Andy'],\n",
    "     'Eshin':['Heidi','Antonia','Jin','Sam','Andy'],\n",
    "     'Sophie':['Rob','Vanessa'],\n",
    "     'Rob':['Sophie','Vanessa']}\n",
    "G = nx.Graph(d)\n",
    "plt.figure(figsize=(15,8))\n",
    "np.random.seed(2) # Just to keep things same\n",
    "pos = pos = nx.fruchterman_reingold_layout(G) # Another way of specifiying a layout for nodes.\n",
    "nx.draw(G,with_labels=True,node_size=1500,font_size=20,alpha=.3,width=2)"
   ]
  },
  {
   "cell_type": "markdown",
   "metadata": {
    "deletable": true,
    "editable": true
   },
   "source": [
    "# What should we look for in a network ? \n",
    "\n",
    "## Micromeasures\n",
    "Centrality measures track the importance of a node derived from its position in the network.\n",
    "\n",
    "There are four main groups of centrality depending on the type of statistics used:\n",
    "1. degree - how connected a node is\n",
    "2. betweenness - how important a node is in connecting other nodes\n",
    "3. closeness - how easily a node can reach other nodes\n",
    "4. neighbors' characteristics - how important, central, or influential a node's neighbors are. \n",
    "\n",
    "<img src=\"Figures/centrality.png\",width=300>\n",
    "\n",
    "Reference:\n",
    "Social and Economic Networks by Matthew O. Jackson. Princeton University Press.   \n",
    "Picture: [Wikipedia article](https://en.wikipedia.org/wiki/Centrality)   \n",
    "Other examples: http://www.orgnet.com/sna.html  \n",
    "\n",
    "## Degree Centrality\n",
    "\n",
    "The degree centrality measures the number of edges of a given node. \n",
    "\n",
    "In other words, it measures how connected a node is."
   ]
  },
  {
   "cell_type": "code",
   "execution_count": null,
   "metadata": {
    "ExecuteTime": {
     "end_time": "2017-02-13T09:24:17.296820",
     "start_time": "2017-02-13T09:24:16.904690"
    },
    "collapsed": false,
    "deletable": true,
    "editable": true
   },
   "outputs": [],
   "source": [
    "def print_network(val_map,title=None):\n",
    "    print('\\x1b[1;31m'+title+'\\x1b[0m')\n",
    "    for k, v in val_map.iteritems():\n",
    "        print k.ljust(15), str(round(v,3)).ljust(30)\n",
    "\n",
    "def plot_network(val_map, title=None):\n",
    "    values = [val_map.get(node, 0.25) for node in G.nodes()]\n",
    "    plt.figure(figsize=(12,5))\n",
    "    np.random.seed(2)\n",
    "#     pos = nx.spring_layout(G)\n",
    "    pos = nx.fruchterman_reingold_layout(G,dim=2)\n",
    "    ec = nx.draw_networkx_edges(G,pos,alpha=.2)\n",
    "    nc = nx.draw_networkx_nodes(G,pos,node_size=1000,with_labels=True,alpha=.5,cmap=plt.get_cmap('jet'),node_color=values)\n",
    "    nx.draw_networkx_labels(G,pos,font_size=18)\n",
    "    # nx.draw(G,pos,node_size=400,with_labels=True,alpha=.5,cmap=plt.get_cmap('jet'),node_color=values)\n",
    "    plt.colorbar(nc)\n",
    "    plt.axis('off')\n",
    "    plt.suptitle(title,fontsize=18)\n",
    "    plt.show()\n",
    "\n",
    "# Get degree centrality values\n",
    "d = nx.degree_centrality(G)\n",
    "title = 'Degree Centrality Map'\n",
    "# print centrality values\n",
    "print_network(d,title)\n",
    "# plot graph with values\n",
    "plot_network(d,title)"
   ]
  },
  {
   "cell_type": "markdown",
   "metadata": {
    "deletable": true,
    "editable": true
   },
   "source": [
    "Luke has the highest number of connections and therefore has the highest degree centrality.  Jin is next, and then Eshin.\n",
    "\n",
    "# Betweenness Centrality\n",
    "Think of Between Centrality as a bottleneck or a broker of two separate networks. \n",
    "\n",
    "The measure is the fraction of the total number of shortest paths a node lie on between two other nodes.\n",
    "\n",
    "Here Eshin has the highest betweeness centrality because he connects the most different people."
   ]
  },
  {
   "cell_type": "code",
   "execution_count": null,
   "metadata": {
    "ExecuteTime": {
     "end_time": "2017-02-13T09:24:17.659747",
     "start_time": "2017-02-13T09:24:17.298352"
    },
    "collapsed": false,
    "deletable": true,
    "editable": true
   },
   "outputs": [],
   "source": [
    "d = nx.betweenness_centrality(G)\n",
    "title = \"Betweenness Centrality\"\n",
    "print_network(d,title)\n",
    "plot_network(d,title)"
   ]
  },
  {
   "cell_type": "markdown",
   "metadata": {
    "deletable": true,
    "editable": true
   },
   "source": [
    "# Closeness Centrality\n",
    "The closeness centrality measures how close a given node is to any other node.  \n",
    "This is measured by the average length of the shortest path between a node and all other nodes.   \n",
    "Thus you have higher closeness centrality if you can get to everyone faster than others.  "
   ]
  },
  {
   "cell_type": "code",
   "execution_count": null,
   "metadata": {
    "ExecuteTime": {
     "end_time": "2017-02-13T09:24:18.015038",
     "start_time": "2017-02-13T09:24:17.661151"
    },
    "collapsed": false,
    "deletable": true,
    "editable": true
   },
   "outputs": [],
   "source": [
    "d = nx.closeness_centrality(G)\n",
    "title = \"Closeness Centrality\"\n",
    "print_network(d,title)\n",
    "plot_network(d,title)"
   ]
  },
  {
   "cell_type": "markdown",
   "metadata": {
    "deletable": true,
    "editable": true
   },
   "source": [
    "# Eigenvector Centrality\n",
    "\n",
    "The underlying assumption of the Eigenvector centrality is that a node's importance is determined by how important its neighbors are.  \n",
    "\n",
    "For instance, having more influential friends (betweeness centrality) can be more important than just having more number of friends (degree centrality).  \n",
    "\n",
    "Now we can observe that Luke is back to being more important than Eshin (who had higher betweeness centrality), because Luke is friends with Eshin who also has high centrality."
   ]
  },
  {
   "cell_type": "code",
   "execution_count": null,
   "metadata": {
    "ExecuteTime": {
     "end_time": "2017-02-13T09:24:18.378309",
     "start_time": "2017-02-13T09:24:18.016469"
    },
    "collapsed": false,
    "deletable": true,
    "editable": true
   },
   "outputs": [],
   "source": [
    "d = nx.eigenvector_centrality(G)\n",
    "title = \"Eigenvector Centrality\"\n",
    "print_network(d,title)\n",
    "plot_network(d,title)"
   ]
  },
  {
   "cell_type": "markdown",
   "metadata": {
    "deletable": true,
    "editable": true
   },
   "source": [
    "## Macromeasures\n",
    "\n",
    "Macromeasures are useful to understand the network as a whole or to compare networks. \n",
    "\n",
    "We will cover three fundamental measures of the network structure.\n",
    "1. Degree distribution\n",
    "2. Average shortest path \n",
    "3. Clustering Coefficients\n",
    "\n",
    "## Degree Distribution\n",
    "One fundamental characteristic is the distribution of degrees, number of edges for each node, which we can easily plot.  \n",
    "From this distribution we can discern attributes such as whether everyone is connected to everybody are there many lonely nodes and such."
   ]
  },
  {
   "cell_type": "code",
   "execution_count": null,
   "metadata": {
    "ExecuteTime": {
     "end_time": "2017-02-13T09:24:19.263314",
     "start_time": "2017-02-13T09:24:18.379752"
    },
    "collapsed": false,
    "deletable": true,
    "editable": true
   },
   "outputs": [],
   "source": [
    "degree_sequence=sorted([d for n,d in G.degree().iteritems()], reverse=True) # degree sequence\n",
    "\n",
    "G2=nx.complete_graph(5)\n",
    "degree_sequence2=sorted([d for n,d in G2.degree().iteritems()], reverse=True) # degree sequence\n",
    "\n",
    "fig, [(ax1,ax2),(ax3,ax4)] = plt.subplots(2,2,figsize=(15,10))\n",
    "ax1.hist(degree_sequence,bins=range(0,7),rwidth=.8)\n",
    "ax1.set_title(\"Degree Histogram for Graph 1\",fontsize=16)\n",
    "ax1.set_ylabel(\"Count\",fontsize=14)\n",
    "ax1.set_xlabel(\"Degree\",fontsize=14)\n",
    "ax1.set_xticks([d+0.4 for d in degree_sequence])\n",
    "ax1.set_xticklabels([d for d in degree_sequence])\n",
    "ax1.set_ylim((0,6))\n",
    "\n",
    "nx.draw(G,pos=nx.circular_layout(G),ax=ax2)\n",
    "ax2.set_title('Network 1: Graph of our class',fontsize=16)\n",
    "\n",
    "ax3.hist(degree_sequence2,bins=range(0,7),rwidth=.8)\n",
    "ax3.set_title(\"Degree Histogram for Complete Graph\",fontsize=16)\n",
    "ax3.set_ylabel(\"Count\",fontsize=14)\n",
    "ax3.set_xlabel(\"Degree\",fontsize=14)\n",
    "ax3.set_xticks([d+0.4 for d in degree_sequence2])\n",
    "ax3.set_xticklabels([d for d in degree_sequence2])\n",
    "ax3.set_ylim((0,6))\n",
    "\n",
    "nx.draw(G2,pos=nx.circular_layout(G2),ax=ax4)\n",
    "ax4.set_title('Network 2: Graph of a Complete Graph',fontsize=16)\n",
    "\n",
    "plt.tight_layout(pad=0.4, w_pad=0.5, h_pad=1.0)\n",
    "plt.show()"
   ]
  },
  {
   "cell_type": "markdown",
   "metadata": {
    "deletable": true,
    "editable": true
   },
   "source": [
    "## Average Shortest Path\n",
    "\n",
    "The average shortest path length is the average of calculating the shortest number of edges it takes for every pair of nodes in the network.  \n",
    "\n",
    "This can be a mesure of how efficient/fast the network is in the distribution of information, rumors, disease, etc."
   ]
  },
  {
   "cell_type": "code",
   "execution_count": null,
   "metadata": {
    "ExecuteTime": {
     "end_time": "2017-02-13T09:24:19.269671",
     "start_time": "2017-02-13T09:24:19.265105"
    },
    "collapsed": false,
    "deletable": true,
    "editable": true,
    "scrolled": true
   },
   "outputs": [],
   "source": [
    "print 'Network 1 average shortest path: ' + str(round(nx.average_shortest_path_length(G),2))\n",
    "print 'Network 2 average shortest path: ' + str(nx.average_shortest_path_length(G2))"
   ]
  },
  {
   "cell_type": "markdown",
   "metadata": {
    "deletable": true,
    "editable": true
   },
   "source": [
    "## Clustering coefficient. \n",
    "\n",
    "Another way to look at how tight-knit a network is to look at how clustered it is.   \n",
    "To estimate clustering, we start from cliques, which can be considered as a subnetwork composed of three nodes forming a triangle. \n",
    "\n",
    "We can first calculate for each node, how many cliques(triangles) it is a member of.  \n",
    "Then we calculate transitivity, which is simply the number of triangles in the network divided by the number of all possible traingles."
   ]
  },
  {
   "cell_type": "code",
   "execution_count": null,
   "metadata": {
    "ExecuteTime": {
     "end_time": "2017-02-13T09:24:19.633788",
     "start_time": "2017-02-13T09:24:19.271359"
    },
    "collapsed": false,
    "deletable": true,
    "editable": true,
    "scrolled": false
   },
   "outputs": [],
   "source": [
    "d = nx.triangles(G)\n",
    "print_network(d,'Number of cliques(triangles)')\n",
    "print \n",
    "print 'Transitivity : ' + str(nx.transitivity(G))\n",
    "\n",
    "plot_network(d,'Transitivity')"
   ]
  },
  {
   "cell_type": "markdown",
   "metadata": {
    "deletable": true,
    "editable": true
   },
   "source": [
    "A similar approach is to calculate clustering coefficient for each node and for the graph.\n",
    "Clustering is the measure of how likely it is if A has edges to B and C, that B and C related? \n",
    "\n",
    "For instance, Charlie form a triangle with Luke and Jin, but Sam and Heidi don't form a single triangle.\n",
    "\n",
    "We can calculate this for each node and then get an average value overall to get the average clustering coefficient."
   ]
  },
  {
   "cell_type": "code",
   "execution_count": null,
   "metadata": {
    "ExecuteTime": {
     "end_time": "2017-02-13T09:24:19.642416",
     "start_time": "2017-02-13T09:24:19.635348"
    },
    "collapsed": false,
    "deletable": true,
    "editable": true
   },
   "outputs": [],
   "source": [
    "d = nx.clustering(G)\n",
    "print_network(d,'Clustering Coefficients per node')\n",
    "print \n",
    "print 'Average clustering coefficient : ' + str(nx.average_clustering(G))"
   ]
  },
  {
   "cell_type": "code",
   "execution_count": null,
   "metadata": {
    "collapsed": true,
    "deletable": true,
    "editable": true
   },
   "outputs": [],
   "source": []
  },
  {
   "cell_type": "markdown",
   "metadata": {
    "collapsed": true,
    "deletable": true,
    "editable": true
   },
   "source": [
    "# Exercise\n",
    "Your assignment this week is to construct your own social network.  It could be based on a sports team, your close friends, or family.  It could also reflect more abstract aspects of relationships such as social support, gossip, problem solver, etc.\n",
    "\n",
    "Calculate two different metrics of the network to provide insight into how different members play different roles."
   ]
  },
  {
   "cell_type": "code",
   "execution_count": null,
   "metadata": {
    "collapsed": true,
    "deletable": true,
    "editable": true
   },
   "outputs": [],
   "source": []
  }
 ],
 "metadata": {
  "anaconda-cloud": {},
  "kernelspec": {
   "display_name": "Python [default]",
   "language": "python",
   "name": "python2"
  },
  "language_info": {
   "codemirror_mode": {
    "name": "ipython",
    "version": 2
   },
   "file_extension": ".py",
   "mimetype": "text/x-python",
   "name": "python",
   "nbconvert_exporter": "python",
   "pygments_lexer": "ipython2",
   "version": "2.7.13"
  },
  "toc": {
   "nav_menu": {
    "height": "260px",
    "width": "252px"
   },
   "navigate_menu": true,
   "number_sections": true,
   "sideBar": true,
   "threshold": 4,
   "toc_cell": false,
   "toc_section_display": "block",
   "toc_window_display": false
  }
 },
 "nbformat": 4,
 "nbformat_minor": 0
}
