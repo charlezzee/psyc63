{
 "cells": [
  {
   "cell_type": "code",
   "execution_count": 1,
   "metadata": {
    "collapsed": true
   },
   "outputs": [],
   "source": [
    "%matplotlib inline\n",
    "import numpy as np\n",
    "import pandas as pd\n",
    "import matplotlib.pyplot as plt\n",
    "from scipy import stats\n",
    "\n",
    "def autolabel(rects):\n",
    "    # attach some text labels\n",
    "    for rect in rects:\n",
    "        height = rect.get_height()\n",
    "        ax.text(rect.get_x() + rect.get_width()/2., 1.05*height,\n",
    "                '%2.2f' % float(height),\n",
    "                ha='center', va='bottom')"
   ]
  },
  {
   "cell_type": "markdown",
   "metadata": {},
   "source": [
    "Simple Plots in Python\n",
    "\n",
    "In this tutorial we'll show you some basic templates of scientific plots using Python matplotlib.\n",
    "\n",
    "# Bar graphs with standard error bars for 1 group"
   ]
  },
  {
   "cell_type": "code",
   "execution_count": 2,
   "metadata": {
    "collapsed": false
   },
   "outputs": [
    {
     "name": "stdout",
     "output_type": "stream",
     "text": [
      "    gender    scores\n",
      "0      1.0  0.837683\n",
      "1      1.0  0.963471\n",
      "2      1.0  0.924203\n",
      "3      1.0  0.439242\n",
      "4      1.0  0.570559\n",
      "5      1.0  0.332798\n",
      "6      1.0  0.217023\n",
      "7      1.0  0.889731\n",
      "8      1.0  0.025183\n",
      "9      1.0  0.516506\n",
      "10     0.0  1.679866\n",
      "11     0.0  1.006089\n",
      "12     0.0  1.369671\n",
      "13     0.0  1.267405\n",
      "14     0.0  1.991019\n",
      "15     0.0  1.561068\n",
      "16     0.0  1.966447\n",
      "17     0.0  1.153763\n",
      "18     0.0  1.467172\n",
      "19     0.0  1.222426\n"
     ]
    },
    {
     "data": {
      "image/png": "[encoded data removed]",
      "text/plain": [
       "<matplotlib.figure.Figure at 0x105bf7d90>"
      ]
     },
     "metadata": {},
     "output_type": "display_data"
    }
   ],
   "source": [
    "# based on http://matplotlib.org/examples/api/barchart_demo.html\n",
    "\n",
    "# Make some fake data\n",
    "d = {'gender': np.hstack([np.ones(10), np.zeros(10)]), 'scores': np.hstack([np.random.rand(10), np.random.rand(10)+1])}\n",
    "df = pd.DataFrame(d)\n",
    "print df\n",
    "# Get means for each group\n",
    "means = df[['gender','scores']].groupby(['gender']).mean().squeeze()\n",
    "# Get standard error of means for each group\n",
    "sems = df[['gender','scores']].groupby(['gender']).sem().squeeze()\n",
    "\n",
    "fig,ax = plt.subplots(figsize=(10,5)) # Change figure size in (width,height)\n",
    "ind = np.array([0.,1.]) # location of bars\n",
    "width = .5 # Width of bars\n",
    "# (bar x-location, bar heights, width=bar width, color=bar color, yerr=standard error)\n",
    "rects1 = ax.bar(ind - width/2,means,width=.5,color='blue',yerr=sems) \n",
    "\n",
    "# configure axes properties to make pretty\n",
    "ax.set_ylabel('scores')\n",
    "ax.set_xlabel('gender')\n",
    "ax.set_title('Scores by gender')\n",
    "ax.set_xticks(ind)\n",
    "ax.set_xticklabels(['Male','Female'])\n",
    "ax.set_xlim([-.5,1.5]) \n",
    "ax.set_ylim([0,2])\n",
    "\n",
    "# This part calls the function autolabel() defined above, and labels the bars with values\n",
    "autolabel(rects1)\n",
    "\n",
    "plt.show()"
   ]
  },
  {
   "cell_type": "markdown",
   "metadata": {},
   "source": [
    "# Bar graphs with standard error bars for 2 group"
   ]
  },
  {
   "cell_type": "code",
   "execution_count": 3,
   "metadata": {
    "collapsed": false
   },
   "outputs": [
    {
     "name": "stdout",
     "output_type": "stream",
     "text": [
      "    gender  race    scores\n",
      "0      1.0   1.0  0.164456\n",
      "1      1.0   0.0  0.970307\n",
      "2      1.0   0.0  0.493683\n",
      "3      1.0   0.0  0.215519\n",
      "4      1.0   1.0  0.469605\n",
      "5      1.0   1.0  0.575854\n",
      "6      1.0   0.0  0.969365\n",
      "7      1.0   0.0  0.750437\n",
      "8      1.0   1.0  0.995231\n",
      "9      1.0   0.0  0.395764\n",
      "10     0.0   1.0  1.922203\n",
      "11     0.0   0.0  1.347477\n",
      "12     0.0   1.0  1.079707\n",
      "13     0.0   1.0  1.299647\n",
      "14     0.0   1.0  1.035214\n",
      "15     0.0   0.0  1.854037\n",
      "16     0.0   1.0  1.039735\n",
      "17     0.0   0.0  1.879332\n",
      "18     0.0   1.0  1.949631\n",
      "19     0.0   0.0  1.919745\n"
     ]
    },
    {
     "data": {
      "image/png": "[encoded data removed]",
      "text/plain": [
       "<matplotlib.figure.Figure at 0x115941ed0>"
      ]
     },
     "metadata": {},
     "output_type": "display_data"
    }
   ],
   "source": [
    "# Make some fake data\n",
    "d = {'race': np.random.permutation(np.hstack([np.ones(10), np.zeros(10)])), \n",
    "     'gender': np.hstack([np.ones(10), np.zeros(10)]), \n",
    "     'scores': np.hstack([np.random.rand(10), np.random.rand(10)+1])}\n",
    "df = pd.DataFrame(d)\n",
    "print df\n",
    "\n",
    "# Get means and sems for Gender group\n",
    "means1 = df[['gender','scores']].groupby(['gender']).mean().squeeze()\n",
    "sems1 = df[['gender','scores']].groupby(['gender']).sem().squeeze()\n",
    "# Get means and sems for Race group\n",
    "means2 = df[['race','scores']].groupby(['race']).mean().squeeze()\n",
    "sems2 = df[['race','scores']].groupby(['race']).sem().squeeze()\n",
    "\n",
    "fig,ax = plt.subplots(figsize=(10,5)) # Change figure size in (width,height)\n",
    "ind = np.array([0.,1.]) # location of bars\n",
    "width = .4 # Width of bars\n",
    "\n",
    "# plot score by gender\n",
    "rects1 = ax.bar(ind - width,means1,width,color='lightcoral',yerr=sems1) # (bar x-location, bar heights, width=bar width, color=bar color, yerr=standard error)\n",
    "# plot score by race \n",
    "rects2 = ax.bar(ind,means2,width,color='lightblue',yerr=sems2)\n",
    "\n",
    "\n",
    "# configure axes properties to make pretty\n",
    "ax.set_ylabel('scores')\n",
    "ax.set_xlabel('gender')\n",
    "ax.set_title('Scores by gender and race')\n",
    "ax.set_xticks(ind)\n",
    "ax.set_xticklabels(['Male','Female'])\n",
    "ax.set_xlim([ind[0]-width*1.25,ind[-1]+width*1.25]) \n",
    "ax.set_ylim([0,1.8])\n",
    "\n",
    "ax.legend(['Race0','Race1'])\n",
    "\n",
    "autolabel(rects1)\n",
    "autolabel(rects2)\n"
   ]
  },
  {
   "cell_type": "markdown",
   "metadata": {},
   "source": [
    "# Scatterplots of 1 group with jittered location\n",
    "\n",
    "If you try to plot something like a scaled data, you won't be able to see how clustered they are because they would just plot on top of each other. One way to avoid this is to jitter the x,y locations around the actual value."
   ]
  },
  {
   "cell_type": "code",
   "execution_count": 4,
   "metadata": {
    "collapsed": false,
    "scrolled": true
   },
   "outputs": [
    {
     "data": {
      "image/png": "[encoded data removed]",
      "text/plain": [
       "<matplotlib.figure.Figure at 0x117d01210>"
      ]
     },
     "metadata": {},
     "output_type": "display_data"
    }
   ],
   "source": [
    "# Make some fake data\n",
    "d = {'race': np.random.permutation(np.hstack([np.ones(20), np.zeros(20)])),\n",
    "     'gender': np.hstack([np.ones(20), np.zeros(20)]), \n",
    "     'scores': np.round(10*np.hstack([np.random.rand(20), np.random.rand(20)+1]))}\n",
    "df = pd.DataFrame(d)\n",
    "ax = df.plot(kind='scatter',x='gender',y='scores')\n",
    "ax.set_title('Values are stacked')\n",
    "plt.show()"
   ]
  },
  {
   "cell_type": "markdown",
   "metadata": {},
   "source": [
    "Here is the fix. "
   ]
  },
  {
   "cell_type": "code",
   "execution_count": 11,
   "metadata": {
    "collapsed": false
   },
   "outputs": [
    {
     "data": {
      "image/png": "[encoded data removed]",
      "text/plain": [
       "<matplotlib.figure.Figure at 0x119622510>"
      ]
     },
     "metadata": {},
     "output_type": "display_data"
    }
   ],
   "source": [
    "# Set x,y values for each group\n",
    "gender0 = 0 # value of first group\n",
    "y0 = df[['scores']].loc[df['gender']==gender0].values.squeeze()\n",
    "y0 = y0+np.random.rand(len(y0))*.1 #Change after + sign to control dispersion\n",
    "x0 = np.ones(len(y0))*gender0 +(np.random.rand(len(y0))-.5)*.1 #Change after + sign to control dispersion\n",
    "\n",
    "gender1 = 1 # value of second group\n",
    "y1 = df[['scores']].loc[df['gender']==gender1].values.squeeze()\n",
    "y1 = y1+np.random.rand(len(y1))*.1\n",
    "x1 = np.ones(len(y1))*gender1 + (np.random.rand(len(y1))-.5)*.1\n",
    "\n",
    "fig,ax = plt.subplots(figsize=(5,5))\n",
    "ax.scatter(x0,y0,color='lightcoral')\n",
    "ax.scatter(x1,y1,color='lightcoral')\n",
    "ax.set_ylabel('scores')\n",
    "ax.set_xlabel('gender')\n",
    "ax.set_title('Values are now dispersed')\n",
    "ax.set_xticks([0,1])\n",
    "ax.set_xticklabels(['Male','Female'])\n",
    "ax.set_xlim([-.5,1.5]) \n",
    "ax.grid() # puts grid on\n",
    "plt.show()"
   ]
  },
  {
   "cell_type": "markdown",
   "metadata": {
    "collapsed": true
   },
   "source": [
    "# Drawing trend line on a scatterplot"
   ]
  },
  {
   "cell_type": "code",
   "execution_count": 13,
   "metadata": {
    "collapsed": false
   },
   "outputs": [],
   "source": [
    "import statsmodels.formula.api as smf\n",
    "import statsmodels.api as sm"
   ]
  },
  {
   "cell_type": "code",
   "execution_count": 14,
   "metadata": {
    "collapsed": false
   },
   "outputs": [
    {
     "name": "stdout",
     "output_type": "stream",
     "text": [
      "                            OLS Regression Results                            \n",
      "==============================================================================\n",
      "Dep. Variable:                 scores   R-squared:                       0.774\n",
      "Model:                            OLS   Adj. R-squared:                  0.768\n",
      "Method:                 Least Squares   F-statistic:                     129.8\n",
      "Date:                Wed, 25 May 2016   Prob (F-statistic):           8.05e-14\n",
      "Time:                        11:23:35   Log-Likelihood:                -92.350\n",
      "No. Observations:                  40   AIC:                             188.7\n",
      "Df Residuals:                      38   BIC:                             192.1\n",
      "Df Model:                           1                                         \n",
      "Covariance Type:            nonrobust                                         \n",
      "==============================================================================\n",
      "                 coef    std err          t      P>|t|      [95.0% Conf. Int.]\n",
      "------------------------------------------------------------------------------\n",
      "Intercept     14.3500      0.559     25.692      0.000        13.219    15.481\n",
      "gender        -9.0000      0.790    -11.394      0.000       -10.599    -7.401\n",
      "==============================================================================\n",
      "Omnibus:                        3.079   Durbin-Watson:                   2.071\n",
      "Prob(Omnibus):                  0.214   Jarque-Bera (JB):                1.503\n",
      "Skew:                          -0.025   Prob(JB):                        0.472\n",
      "Kurtosis:                       2.052   Cond. No.                         2.62\n",
      "==============================================================================\n",
      "\n",
      "Warnings:\n",
      "[1] Standard Errors assume that the covariance matrix of the errors is correctly specified.\n"
     ]
    }
   ],
   "source": [
    "d = {'race': np.random.permutation(np.hstack([np.ones(20), np.zeros(20)])),\n",
    "     'gender': np.hstack([np.ones(20), np.zeros(20)]), \n",
    "     'scores': np.round(10*np.hstack([np.random.rand(20), np.random.rand(20)+1]))}\n",
    "df = pd.DataFrame(d)\n",
    "lm = smf.ols(formula = \"scores ~ gender\",data=df).fit()\n",
    "print lm.summary()\n",
    "\n",
    "# Save the slope for gender to b1 and intercept to b0\n",
    "b1 = lm.params[1] \n",
    "b0 = lm.params[0]"
   ]
  },
  {
   "cell_type": "code",
   "execution_count": 17,
   "metadata": {
    "collapsed": false
   },
   "outputs": [
    {
     "data": {
      "image/png": "[encoded data removed]",
      "text/plain": [
       "<matplotlib.figure.Figure at 0x119b3d650>"
      ]
     },
     "metadata": {},
     "output_type": "display_data"
    }
   ],
   "source": [
    "# Set x,y values for each group\n",
    "gender0 = 0 # value of first group\n",
    "y0 = df[['scores']].loc[df['gender']==gender0].values.squeeze()\n",
    "y0 = y0+np.random.rand(len(y0))*.1 #Change after + sign to control dispersion\n",
    "x0 = np.ones(len(y0))*gender0 + (np.random.rand(len(y0))-.5)*.1 #Change after + sign to control dispersion\n",
    "\n",
    "gender1 = 1 # value of second group\n",
    "y1 = df[['scores']].loc[df['gender']==gender1].values.squeeze()\n",
    "y1 = y1+np.random.rand(len(y1))*.1\n",
    "x1 = np.ones(len(y1))*gender1 + (np.random.rand(len(y1))-.5)*.1\n",
    "\n",
    "fig,ax = plt.subplots(figsize=(5,5))\n",
    "ax.scatter(x0,y0,color='lightcoral')\n",
    "ax.scatter(x1,y1,color='lightcoral')\n",
    "\n",
    "# Part that adds the line\n",
    "spacing = 10\n",
    "minx = df[['gender']].min().squeeze()\n",
    "maxx = df[['gender']].max().squeeze()\n",
    "lx = np.linspace(minx,maxx,spacing) # make x coordinates \n",
    "ly = b0+lx*b1 # Estimate the y values using betas\n",
    "ax.plot(lx,ly,'-k')\n",
    "\n",
    "ax.set_ylabel('scores')\n",
    "ax.set_xlabel('gender')\n",
    "ax.set_title('Values are now dispersed')\n",
    "ax.set_xticks([0,1])\n",
    "ax.set_xticklabels(['Male','Female'])\n",
    "ax.set_xlim([-.5,1.5]) \n",
    "ax.grid()\n",
    "plt.show()"
   ]
  },
  {
   "cell_type": "code",
   "execution_count": null,
   "metadata": {
    "collapsed": true
   },
   "outputs": [],
   "source": []
  }
 ],
 "metadata": {
  "kernelspec": {
   "display_name": "Python 2",
   "language": "python",
   "name": "python2"
  },
  "language_info": {
   "codemirror_mode": {
    "name": "ipython",
    "version": 2
   },
   "file_extension": ".py",
   "mimetype": "text/x-python",
   "name": "python",
   "nbconvert_exporter": "python",
   "pygments_lexer": "ipython2",
   "version": "2.7.11"
  }
 },
 "nbformat": 4,
 "nbformat_minor": 0
}
