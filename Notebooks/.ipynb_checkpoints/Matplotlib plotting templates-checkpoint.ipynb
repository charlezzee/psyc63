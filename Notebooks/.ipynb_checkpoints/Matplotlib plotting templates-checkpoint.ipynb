{
 "cells": [
  {
   "cell_type": "code",
   "execution_count": 4,
   "metadata": {
    "collapsed": true
   },
   "outputs": [],
   "source": [
    "%matplotlib inline\n",
    "import numpy as np\n",
    "import pandas as pd\n",
    "import matplotlib.pyplot as plt\n",
    "from scipy import stats\n",
    "\n",
    "def autolabel(rects):\n",
    "    # attach some text labels\n",
    "    for rect in rects:\n",
    "        height = rect.get_height()\n",
    "        ax.text(rect.get_x() + rect.get_width()/2., 1.05*height,\n",
    "                '%2.2f' % float(height),\n",
    "                ha='center', va='bottom')"
   ]
  },
  {
   "cell_type": "markdown",
   "metadata": {},
   "source": [
    "Simple Plots in Python\n",
    "\n",
    "In this tutorial we'll show you some basic templates of scientific plots using Python matplotlib.\n",
    "\n",
    "# Bar graphs with standard error bars for 1 group"
   ]
  },
  {
   "cell_type": "code",
   "execution_count": 5,
   "metadata": {
    "collapsed": false
   },
   "outputs": [
    {
     "name": "stdout",
     "output_type": "stream",
     "text": [
      "    gender    scores\n",
      "0      1.0  0.842798\n",
      "1      1.0  0.072888\n",
      "2      1.0  0.490645\n",
      "3      1.0  0.223056\n",
      "4      1.0  0.785040\n",
      "5      1.0  0.536928\n",
      "6      1.0  0.779476\n",
      "7      1.0  0.968663\n",
      "8      1.0  0.528654\n",
      "9      1.0  0.529766\n",
      "10     0.0  1.450308\n",
      "11     0.0  1.018463\n",
      "12     0.0  1.939815\n",
      "13     0.0  1.640963\n",
      "14     0.0  1.060972\n",
      "15     0.0  1.642819\n",
      "16     0.0  1.477661\n",
      "17     0.0  1.679996\n",
      "18     0.0  1.340455\n",
      "19     0.0  1.340576\n"
     ]
    },
    {
     "data": {
      "image/png": "[encoded data removed]",
      "text/plain": [
       "<matplotlib.figure.Figure at 0x1197b6810>"
      ]
     },
     "metadata": {},
     "output_type": "display_data"
    }
   ],
   "source": [
    "# based on http://matplotlib.org/examples/api/barchart_demo.html\n",
    "\n",
    "# Make some fake data\n",
    "d = {'gender': np.hstack([np.ones(10), np.zeros(10)]), 'scores': np.hstack([np.random.rand(10), np.random.rand(10)+1])}\n",
    "df = pd.DataFrame(d)\n",
    "print df\n",
    "# Get means for each group\n",
    "means = df[['gender','scores']].groupby(['gender']).mean().squeeze()\n",
    "# Get standard error of means for each group\n",
    "sems = df[['gender','scores']].groupby(['gender']).sem().squeeze()\n",
    "\n",
    "fig,ax = plt.subplots(figsize=(10,5)) # Change figure size in (width,height)\n",
    "ind = np.array([0.,1.]) # location of bars\n",
    "width = .5 # Width of bars\n",
    "# (bar x-location, bar heights, width=bar width, color=bar color, yerr=standard error)\n",
    "rects1 = ax.bar(ind - width/2,means,width=.5,color='blue',yerr=sems) \n",
    "\n",
    "# configure axes properties to make pretty\n",
    "ax.set_ylabel('scores')\n",
    "ax.set_xlabel('gender')\n",
    "ax.set_title('Scores by gender')\n",
    "ax.set_xticks(ind)\n",
    "ax.set_xticklabels(['Male','Female'])\n",
    "ax.set_xlim([-.5,1.5]) \n",
    "ax.set_ylim([0,2])\n",
    "\n",
    "# This part calls the function autolabel() defined above, and labels the bars with values\n",
    "autolabel(rects1)\n",
    "\n",
    "plt.show()"
   ]
  },
  {
   "cell_type": "markdown",
   "metadata": {},
   "source": [
    "# Bar graphs with standard error bars for 2 group"
   ]
  },
  {
   "cell_type": "code",
   "execution_count": 6,
   "metadata": {
    "collapsed": false
   },
   "outputs": [
    {
     "name": "stdout",
     "output_type": "stream",
     "text": [
      "    gender  race    scores\n",
      "0      1.0   0.0  0.276613\n",
      "1      1.0   1.0  0.738021\n",
      "2      1.0   0.0  0.032344\n",
      "3      1.0   1.0  0.583944\n",
      "4      1.0   0.0  0.174285\n",
      "5      1.0   0.0  0.759143\n",
      "6      1.0   1.0  0.772961\n",
      "7      1.0   0.0  0.599931\n",
      "8      1.0   1.0  0.958828\n",
      "9      1.0   0.0  0.668612\n",
      "10     0.0   1.0  1.395338\n",
      "11     0.0   1.0  1.300677\n",
      "12     0.0   1.0  1.149335\n",
      "13     0.0   1.0  1.054821\n",
      "14     0.0   1.0  1.188925\n",
      "15     0.0   1.0  1.917771\n",
      "16     0.0   0.0  1.498481\n",
      "17     0.0   0.0  1.264450\n",
      "18     0.0   0.0  1.025788\n",
      "19     0.0   0.0  1.687380\n"
     ]
    },
    {
     "data": {
      "image/png": "[encoded data removed]",
      "text/plain": [
       "<matplotlib.figure.Figure at 0x119c18990>"
      ]
     },
     "metadata": {},
     "output_type": "display_data"
    }
   ],
   "source": [
    "# Make some fake data\n",
    "d = {'race': np.random.permutation(np.hstack([np.ones(10), np.zeros(10)])), \n",
    "     'gender': np.hstack([np.ones(10), np.zeros(10)]), \n",
    "     'scores': np.hstack([np.random.rand(10), np.random.rand(10)+1])}\n",
    "df = pd.DataFrame(d)\n",
    "print df\n",
    "\n",
    "# Get means and sems for Gender group\n",
    "means1 = df[['gender','scores']].groupby(['gender']).mean().squeeze()\n",
    "sems1 = df[['gender','scores']].groupby(['gender']).sem().squeeze()\n",
    "# Get means and sems for Race group\n",
    "means2 = df[['race','scores']].groupby(['race']).mean().squeeze()\n",
    "sems2 = df[['race','scores']].groupby(['race']).sem().squeeze()\n",
    "\n",
    "fig,ax = plt.subplots(figsize=(10,5)) # Change figure size in (width,height)\n",
    "ind = np.array([0.,1.]) # location of bars\n",
    "width = .4 # Width of bars\n",
    "\n",
    "# plot score by gender\n",
    "rects1 = ax.bar(ind - width,means1,width,color='lightcoral',yerr=sems1) # (bar x-location, bar heights, width=bar width, color=bar color, yerr=standard error)\n",
    "# plot score by race \n",
    "rects2 = ax.bar(ind,means2,width,color='lightblue',yerr=sems2)\n",
    "\n",
    "\n",
    "# configure axes properties to make pretty\n",
    "ax.set_ylabel('scores')\n",
    "ax.set_xlabel('gender')\n",
    "ax.set_title('Scores by gender and race')\n",
    "ax.set_xticks(ind)\n",
    "ax.set_xticklabels(['Male','Female'])\n",
    "ax.set_xlim([ind[0]-width*1.25,ind[-1]+width*1.25]) \n",
    "ax.set_ylim([0,1.8])\n",
    "\n",
    "ax.legend(['Race0','Race1'])\n",
    "\n",
    "autolabel(rects1)\n",
    "autolabel(rects2)\n"
   ]
  },
  {
   "cell_type": "markdown",
   "metadata": {},
   "source": [
    "# Scatterplots of 1 group with jittered location\n",
    "\n",
    "If you try to plot something like a scaled data, you won't be able to see how clustered they are because they would just plot on top of each other. One way to avoid this is to jitter the x,y locations around the actual value."
   ]
  },
  {
   "cell_type": "code",
   "execution_count": 7,
   "metadata": {
    "collapsed": false,
    "scrolled": true
   },
   "outputs": [
    {
     "data": {
      "image/png": "[encoded data removed]",
      "text/plain": [
       "<matplotlib.figure.Figure at 0x1199b13d0>"
      ]
     },
     "metadata": {},
     "output_type": "display_data"
    }
   ],
   "source": [
    "# Make some fake data\n",
    "d = {'race': np.random.permutation(np.hstack([np.ones(20), np.zeros(20)])),\n",
    "     'gender': np.hstack([np.ones(20), np.zeros(20)]), \n",
    "     'scores': np.round(10*np.hstack([np.random.rand(20), np.random.rand(20)+1]))}\n",
    "df = pd.DataFrame(d)\n",
    "ax = df.plot(kind='scatter',x='gender',y='scores')\n",
    "ax.set_title('Values are stacked')\n",
    "plt.show()"
   ]
  },
  {
   "cell_type": "markdown",
   "metadata": {},
   "source": [
    "Here is the fix. "
   ]
  },
  {
   "cell_type": "code",
   "execution_count": 8,
   "metadata": {
    "collapsed": false
   },
   "outputs": [
    {
     "data": {
      "image/png": "[encoded data removed]",
      "text/plain": [
       "<matplotlib.figure.Figure at 0x119c2ed10>"
      ]
     },
     "metadata": {},
     "output_type": "display_data"
    }
   ],
   "source": [
    "# Set x,y values for each group\n",
    "gender0 = 0 # value of first group\n",
    "y0 = df[['scores']].loc[df['gender']==gender0].values.squeeze()\n",
    "y0 = y0+np.random.rand(len(y0))*.1 #Change after + sign to control dispersion\n",
    "x0 = np.ones(len(y0))*gender0 +np.random.rand(len(y0))*.1 #Change after + sign to control dispersion\n",
    "\n",
    "gender1 = 1 # value of second group\n",
    "y1 = df[['scores']].loc[df['gender']==gender1].values.squeeze()\n",
    "y1 = y1+np.random.rand(len(y1))*.1\n",
    "x1 = np.ones(len(y1))*gender1 + np.random.rand(len(y1))*.1\n",
    "\n",
    "fig,ax = plt.subplots(figsize=(5,5))\n",
    "ax.scatter(x0,y0,color='lightcoral')\n",
    "ax.scatter(x1,y1,color='lightcoral')\n",
    "ax.set_ylabel('scores')\n",
    "ax.set_xlabel('gender')\n",
    "ax.set_title('Values are now dispersed')\n",
    "ax.set_xticks([0,1])\n",
    "ax.set_xticklabels(['Male','Female'])\n",
    "ax.set_xlim([-.5,1.5]) \n",
    "plt.show()"
   ]
  },
  {
   "cell_type": "markdown",
   "metadata": {
    "collapsed": true
   },
   "source": [
    "# Drawing trend line on a scatterplot"
   ]
  },
  {
   "cell_type": "code",
   "execution_count": 64,
   "metadata": {
    "collapsed": false
   },
   "outputs": [],
   "source": [
    "import statsmodels.formula.api as smf\n",
    "import statsmodels.api as sm"
   ]
  },
  {
   "cell_type": "code",
   "execution_count": 94,
   "metadata": {
    "collapsed": false
   },
   "outputs": [
    {
     "name": "stdout",
     "output_type": "stream",
     "text": [
      "                            OLS Regression Results                            \n",
      "==============================================================================\n",
      "Dep. Variable:                 scores   R-squared:                       0.752\n",
      "Model:                            OLS   Adj. R-squared:                  0.745\n",
      "Method:                 Least Squares   F-statistic:                     115.0\n",
      "Date:                Wed, 25 May 2016   Prob (F-statistic):           4.74e-13\n",
      "Time:                        11:11:42   Log-Likelihood:                -104.58\n",
      "No. Observations:                  40   AIC:                             213.2\n",
      "Df Residuals:                      38   BIC:                             216.5\n",
      "Df Model:                           1                                         \n",
      "Covariance Type:            nonrobust                                         \n",
      "==============================================================================\n",
      "                 coef    std err          t      P>|t|      [95.0% Conf. Int.]\n",
      "------------------------------------------------------------------------------\n",
      "Intercept     15.8500      0.758     20.900      0.000        14.315    17.385\n",
      "gender       -11.5000      1.073    -10.723      0.000       -13.671    -9.329\n",
      "==============================================================================\n",
      "Omnibus:                        9.783   Durbin-Watson:                   1.938\n",
      "Prob(Omnibus):                  0.008   Jarque-Bera (JB):                2.603\n",
      "Skew:                          -0.078   Prob(JB):                        0.272\n",
      "Kurtosis:                       1.760   Cond. No.                         2.62\n",
      "==============================================================================\n",
      "\n",
      "Warnings:\n",
      "[1] Standard Errors assume that the covariance matrix of the errors is correctly specified.\n"
     ]
    }
   ],
   "source": [
    "d = {'race': np.random.permutation(np.hstack([np.ones(20), np.zeros(20)])),\n",
    "     'gender': np.hstack([np.ones(20), np.zeros(20)]), \n",
    "     'scores': np.round(10*np.hstack([np.random.rand(20), np.random.rand(20)+1]))}\n",
    "df = pd.DataFrame(d)\n",
    "lm = smf.ols(formula = \"scores ~ gender\",data=df).fit()\n",
    "print lm.summary()\n",
    "\n",
    "# Save the slope for gender to b1 and intercept to b0\n",
    "b1 = lm.params[1] \n",
    "b0 = lm.params[0]"
   ]
  },
  {
   "cell_type": "code",
   "execution_count": 102,
   "metadata": {
    "collapsed": false
   },
   "outputs": [
    {
     "data": {
      "image/png": "[encoded data removed]",
      "text/plain": [
       "<matplotlib.figure.Figure at 0x11d499b10>"
      ]
     },
     "metadata": {},
     "output_type": "display_data"
    }
   ],
   "source": [
    "# Set x,y values for each group\n",
    "gender0 = 0 # value of first group\n",
    "y0 = df[['scores']].loc[df['gender']==gender0].values.squeeze()\n",
    "y0 = y0+np.random.rand(len(y0))*.1 #Change after + sign to control dispersion\n",
    "x0 = np.ones(len(y0))*gender0 +np.random.rand(len(y0))*.1 #Change after + sign to control dispersion\n",
    "\n",
    "gender1 = 1 # value of second group\n",
    "y1 = df[['scores']].loc[df['gender']==gender1].values.squeeze()\n",
    "y1 = y1+np.random.rand(len(y1))*.1\n",
    "x1 = np.ones(len(y1))*gender1 + np.random.rand(len(y1))*.1\n",
    "\n",
    "fig,ax = plt.subplots(figsize=(5,5))\n",
    "ax.scatter(x0,y0,color='lightcoral')\n",
    "ax.scatter(x1,y1,color='lightcoral')\n",
    "\n",
    "# Part that adds the line\n",
    "spacing = 10\n",
    "minx = df[['gender']].min().squeeze()\n",
    "maxx = df[['gender']].max().squeeze()\n",
    "lx = np.linspace(minx,maxx,spacing) # make x coordinates \n",
    "ly = b0+lx*b1 # Estimate the y values using betas\n",
    "ax.plot(lx,ly,'-k')\n",
    "\n",
    "ax.set_ylabel('scores')\n",
    "ax.set_xlabel('gender')\n",
    "ax.set_title('Values are now dispersed')\n",
    "ax.set_xticks([0,1])\n",
    "ax.set_xticklabels(['Male','Female'])\n",
    "ax.set_xlim([-.5,1.5]) \n",
    "plt.show()"
   ]
  },
  {
   "cell_type": "code",
   "execution_count": null,
   "metadata": {
    "collapsed": true
   },
   "outputs": [],
   "source": []
  }
 ],
 "metadata": {
  "kernelspec": {
   "display_name": "Python 2",
   "language": "python",
   "name": "python2"
  },
  "language_info": {
   "codemirror_mode": {
    "name": "ipython",
    "version": 2
   },
   "file_extension": ".py",
   "mimetype": "text/x-python",
   "name": "python",
   "nbconvert_exporter": "python",
   "pygments_lexer": "ipython2",
   "version": "2.7.11"
  }
 },
 "nbformat": 4,
 "nbformat_minor": 0
}
