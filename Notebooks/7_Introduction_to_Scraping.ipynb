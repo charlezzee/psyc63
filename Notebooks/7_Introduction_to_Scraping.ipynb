{
 "cells": [
  {
   "cell_type": "markdown",
   "metadata": {},
   "source": [
    "# Introduction to Web Scraping\n",
    "Often we are interested in getting data from a website.  Modern websites are often built using a [REST](https://en.wikipedia.org/wiki/Representational_state_transfer) framework that has an Application Programming Interface ([API](https://en.wikipedia.org/wiki/Application_programming_interface) to make [HTTP](https://www.tutorialspoint.com/http/http_requests.htm) requests to retrieve structured data in the form of [JSON](https://en.wikipedia.org/wiki/JSON) or XML.\n",
    "\n",
    "However, when there is not a clear API, we might need to perform web scraping by directly grabbing the data ourselves"
   ]
  },
  {
   "cell_type": "code",
   "execution_count": null,
   "metadata": {
    "ExecuteTime": {
     "end_time": "2017-03-06T05:37:18.061992Z",
     "start_time": "2017-03-06T00:37:18.059509-05:00"
    },
    "collapsed": true
   },
   "outputs": [],
   "source": [
    "import requests\n",
    "from bs4 import BeautifulSoup"
   ]
  },
  {
   "cell_type": "markdown",
   "metadata": {},
   "source": [
    "## Getting data using requests\n",
    "In this simple example we will scrape data from the PBS faculty webpage."
   ]
  },
  {
   "cell_type": "code",
   "execution_count": null,
   "metadata": {
    "ExecuteTime": {
     "end_time": "2017-03-06T05:26:58.867279Z",
     "start_time": "2017-03-06T00:26:58.781575-05:00"
    },
    "collapsed": false
   },
   "outputs": [],
   "source": [
    "page = requests.get(\"http://pbs.dartmouth.edu/people\")\n",
    "print(page)"
   ]
  },
  {
   "cell_type": "markdown",
   "metadata": {},
   "source": [
    "Here the response '200' indicates that the get request was successful.  Now let's look at the actual text that was downloaded from the webpage."
   ]
  },
  {
   "cell_type": "code",
   "execution_count": null,
   "metadata": {
    "ExecuteTime": {
     "end_time": "2017-03-06T05:28:31.476250Z",
     "start_time": "2017-03-06T00:28:31.463432-05:00"
    },
    "collapsed": false
   },
   "outputs": [],
   "source": [
    "print(page.content)"
   ]
  },
  {
   "cell_type": "markdown",
   "metadata": {},
   "source": [
    "Here you can see that we have downloaded all of the data from the PBS faculty page and that it is in the form of HTML. \n",
    "HTML is a markup language that tells a browser how to layout content.  HTML consists of elements called tags.  Each tag indicates a beginning and end.  Here are a few examples: \n",
    "\n",
    " - `<a></a>` - indicates hyperlink\n",
    " - `<p></p>` - indicates paragraph\n",
    " - `<div></div>` - indicates a division, or area, of the page.\n",
    " - `<b></b>` - bolds any text inside.\n",
    " - `<i></i>` - italicizes any text inside.\n",
    " - `<h1></h1>` - indicates a header\n",
    " - `<table></table>` - creates a table.\n",
    " - `<ol></ol>` - ordered list\n",
    " - `<ul></ul>` - unordered list\n",
    " - `<li></li>` - list item\n"
   ]
  },
  {
   "cell_type": "markdown",
   "metadata": {},
   "source": [
    "## Parsing HTML using Beautiful Soup\n",
    "There are many libraries that can be helpful for quickly parsing structured text such as HTML.  We will be using Beautiful Soup as an example."
   ]
  },
  {
   "cell_type": "code",
   "execution_count": null,
   "metadata": {
    "ExecuteTime": {
     "end_time": "2017-03-06T05:37:44.836559Z",
     "start_time": "2017-03-06T00:37:44.730953-05:00"
    },
    "collapsed": false
   },
   "outputs": [],
   "source": [
    "soup = BeautifulSoup(page.content, 'html.parser')\n",
    "print(soup.prettify())"
   ]
  },
  {
   "cell_type": "markdown",
   "metadata": {},
   "source": [
    "Here we are going to find the unordered list tagged with the id 'faculty-container'.  We are then going to look for any nested tag that use the 'h4' header tag.  This should give us all of the lines with the faculty names as a list."
   ]
  },
  {
   "cell_type": "code",
   "execution_count": null,
   "metadata": {
    "ExecuteTime": {
     "end_time": "2017-03-06T06:12:01.672122Z",
     "start_time": "2017-03-06T01:12:01.649081-05:00"
    },
    "collapsed": false
   },
   "outputs": [],
   "source": [
    "names_html = soup.find_all('ul',id='faculty-container')[0].find_all('h4')\n",
    "names = [x.text for x in names_html]\n",
    "print(names)"
   ]
  },
  {
   "cell_type": "markdown",
   "metadata": {},
   "source": [
    "What if we wanted to get all of the faculty email addresses?"
   ]
  },
  {
   "cell_type": "code",
   "execution_count": null,
   "metadata": {
    "ExecuteTime": {
     "end_time": "2017-03-06T06:15:24.943181Z",
     "start_time": "2017-03-06T01:15:24.910011-05:00"
    },
    "collapsed": false
   },
   "outputs": [],
   "source": [
    "email_html = soup.find_all('ul',id='faculty-container')[0].find_all('span',{'class' : 'contact'})\n",
    "email = [x.text for x in email_html]\n",
    "print(email)"
   ]
  },
  {
   "cell_type": "markdown",
   "metadata": {},
   "source": [
    "## Parsing string data\n",
    "What if we wanted to grab the name from the list of email addresses?"
   ]
  },
  {
   "cell_type": "code",
   "execution_count": null,
   "metadata": {
    "ExecuteTime": {
     "end_time": "2017-03-06T06:16:47.161190Z",
     "start_time": "2017-03-06T01:16:47.154047-05:00"
    },
    "collapsed": false
   },
   "outputs": [],
   "source": [
    "print([x.split('@')[0] for x in email])"
   ]
  },
  {
   "cell_type": "markdown",
   "metadata": {},
   "source": [
    "## Interacting with web page using Selenium"
   ]
  },
  {
   "cell_type": "code",
   "execution_count": null,
   "metadata": {
    "collapsed": true
   },
   "outputs": [],
   "source": []
  },
  {
   "cell_type": "code",
   "execution_count": null,
   "metadata": {
    "collapsed": true
   },
   "outputs": [],
   "source": []
  }
 ],
 "metadata": {
  "kernelspec": {
   "display_name": "Python 2",
   "language": "python",
   "name": "python2"
  },
  "language_info": {
   "codemirror_mode": {
    "name": "ipython",
    "version": 2
   },
   "file_extension": ".py",
   "mimetype": "text/x-python",
   "name": "python",
   "nbconvert_exporter": "python",
   "pygments_lexer": "ipython2",
   "version": "2.7.13"
  }
 },
 "nbformat": 4,
 "nbformat_minor": 2
}
